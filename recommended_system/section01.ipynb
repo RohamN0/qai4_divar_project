{
 "cells": [
  {
   "cell_type": "code",
   "execution_count": 1,
   "id": "bf993e14",
   "metadata": {},
   "outputs": [],
   "source": [
    "import matplotlib.pyplot as plt\n",
    "import geopandas as gpd\n",
    "import seaborn as sns\n",
    "import pandas as pd\n",
    "import numpy as np"
   ]
  },
  {
   "cell_type": "code",
   "execution_count": 2,
   "id": "5a89c06f",
   "metadata": {},
   "outputs": [
    {
     "name": "stderr",
     "output_type": "stream",
     "text": [
      "/tmp/ipykernel_2461/1278108169.py:1: DtypeWarning: Columns (11,27,29,53) have mixed types. Specify dtype option on import or set low_memory=False.\n",
      "  divar_df = pd.read_csv('../datasets/Divar.csv')\n"
     ]
    }
   ],
   "source": [
    "divar_df = pd.read_csv('../datasets/Divar.csv')"
   ]
  },
  {
   "cell_type": "markdown",
   "id": "7fee0cc4",
   "metadata": {},
   "source": [
    "### Overview"
   ]
  },
  {
   "cell_type": "code",
   "execution_count": 14,
   "id": "d2aa3b27",
   "metadata": {},
   "outputs": [
    {
     "data": {
      "text/html": [
       "<div>\n",
       "<style scoped>\n",
       "    .dataframe tbody tr th:only-of-type {\n",
       "        vertical-align: middle;\n",
       "    }\n",
       "\n",
       "    .dataframe tbody tr th {\n",
       "        vertical-align: top;\n",
       "    }\n",
       "\n",
       "    .dataframe thead th {\n",
       "        text-align: right;\n",
       "    }\n",
       "</style>\n",
       "<table border=\"1\" class=\"dataframe\">\n",
       "  <thead>\n",
       "    <tr style=\"text-align: right;\">\n",
       "      <th></th>\n",
       "      <th>Unnamed: 0</th>\n",
       "      <th>cat2_slug</th>\n",
       "      <th>cat3_slug</th>\n",
       "      <th>city_slug</th>\n",
       "      <th>neighborhood_slug</th>\n",
       "      <th>created_at_month</th>\n",
       "      <th>user_type</th>\n",
       "      <th>description</th>\n",
       "      <th>title</th>\n",
       "      <th>rent_mode</th>\n",
       "      <th>...</th>\n",
       "      <th>property_type</th>\n",
       "      <th>regular_person_capacity</th>\n",
       "      <th>extra_person_capacity</th>\n",
       "      <th>cost_per_extra_person</th>\n",
       "      <th>rent_price_on_regular_days</th>\n",
       "      <th>rent_price_on_special_days</th>\n",
       "      <th>rent_price_at_weekends</th>\n",
       "      <th>location_latitude</th>\n",
       "      <th>location_longitude</th>\n",
       "      <th>location_radius</th>\n",
       "    </tr>\n",
       "  </thead>\n",
       "  <tbody>\n",
       "    <tr>\n",
       "      <th>0</th>\n",
       "      <td>0</td>\n",
       "      <td>temporary-rent</td>\n",
       "      <td>villa</td>\n",
       "      <td>karaj</td>\n",
       "      <td>mehrshahr</td>\n",
       "      <td>2024-08-01 00:00:00</td>\n",
       "      <td>مشاور املاک</td>\n",
       "      <td>۵۰۰متر\\n۲۰۰متر بنا دوبلکس\\n۳خواب\\nاستخر آبگرم ...</td>\n",
       "      <td>باغ ویلا اجاره روزانه استخر داخل لشکرآباد سهیلیه</td>\n",
       "      <td>NaN</td>\n",
       "      <td>...</td>\n",
       "      <td>NaN</td>\n",
       "      <td>4.0</td>\n",
       "      <td>6</td>\n",
       "      <td>350000.0</td>\n",
       "      <td>1500000.0</td>\n",
       "      <td>3.500000e+09</td>\n",
       "      <td>3500000.0</td>\n",
       "      <td>35.811684</td>\n",
       "      <td>50.936600</td>\n",
       "      <td>500.0</td>\n",
       "    </tr>\n",
       "    <tr>\n",
       "      <th>1</th>\n",
       "      <td>1</td>\n",
       "      <td>residential-sell</td>\n",
       "      <td>apartment-sell</td>\n",
       "      <td>tehran</td>\n",
       "      <td>gholhak</td>\n",
       "      <td>2024-05-01 00:00:00</td>\n",
       "      <td>مشاور املاک</td>\n",
       "      <td>دسترسی عالی به مترو و شریعتی \\nمشاعات تمیز \\nب...</td>\n",
       "      <td>۶۰ متر قلهک فول امکانات</td>\n",
       "      <td>NaN</td>\n",
       "      <td>...</td>\n",
       "      <td>NaN</td>\n",
       "      <td>NaN</td>\n",
       "      <td>NaN</td>\n",
       "      <td>NaN</td>\n",
       "      <td>NaN</td>\n",
       "      <td>NaN</td>\n",
       "      <td>NaN</td>\n",
       "      <td>NaN</td>\n",
       "      <td>NaN</td>\n",
       "      <td>500.0</td>\n",
       "    </tr>\n",
       "    <tr>\n",
       "      <th>2</th>\n",
       "      <td>2</td>\n",
       "      <td>residential-rent</td>\n",
       "      <td>apartment-rent</td>\n",
       "      <td>tehran</td>\n",
       "      <td>tohid</td>\n",
       "      <td>2024-10-01 00:00:00</td>\n",
       "      <td>NaN</td>\n",
       "      <td>تخلیه پایان ماه</td>\n",
       "      <td>آپارتمان ۳ خوابه ۱۳۲ متر</td>\n",
       "      <td>مقطوع</td>\n",
       "      <td>...</td>\n",
       "      <td>NaN</td>\n",
       "      <td>NaN</td>\n",
       "      <td>NaN</td>\n",
       "      <td>NaN</td>\n",
       "      <td>NaN</td>\n",
       "      <td>NaN</td>\n",
       "      <td>NaN</td>\n",
       "      <td>35.703865</td>\n",
       "      <td>51.373459</td>\n",
       "      <td>NaN</td>\n",
       "    </tr>\n",
       "    <tr>\n",
       "      <th>3</th>\n",
       "      <td>3</td>\n",
       "      <td>commercial-rent</td>\n",
       "      <td>office-rent</td>\n",
       "      <td>tehran</td>\n",
       "      <td>elahiyeh</td>\n",
       "      <td>2024-06-01 00:00:00</td>\n",
       "      <td>NaN</td>\n",
       "      <td>فرشته تاپ لوکیشن\\n۹۰ متر موقعیت اداری\\nیک اتاق...</td>\n",
       "      <td>فرشته ۹۰ متر دفتر کار مدرن موقعیت اداری</td>\n",
       "      <td>مقطوع</td>\n",
       "      <td>...</td>\n",
       "      <td>NaN</td>\n",
       "      <td>NaN</td>\n",
       "      <td>NaN</td>\n",
       "      <td>NaN</td>\n",
       "      <td>NaN</td>\n",
       "      <td>NaN</td>\n",
       "      <td>NaN</td>\n",
       "      <td>NaN</td>\n",
       "      <td>NaN</td>\n",
       "      <td>NaN</td>\n",
       "    </tr>\n",
       "    <tr>\n",
       "      <th>4</th>\n",
       "      <td>4</td>\n",
       "      <td>residential-sell</td>\n",
       "      <td>apartment-sell</td>\n",
       "      <td>mashhad</td>\n",
       "      <td>emamreza</td>\n",
       "      <td>2024-05-01 00:00:00</td>\n",
       "      <td>مشاور املاک</td>\n",
       "      <td>هلدینگ ساختمانی اکبری\\n\\nهمراه شما هستیم برای ...</td>\n",
       "      <td>۱۱۵ متری/شمالی رو به آفتاب/اکبری</td>\n",
       "      <td>NaN</td>\n",
       "      <td>...</td>\n",
       "      <td>NaN</td>\n",
       "      <td>NaN</td>\n",
       "      <td>NaN</td>\n",
       "      <td>NaN</td>\n",
       "      <td>NaN</td>\n",
       "      <td>NaN</td>\n",
       "      <td>NaN</td>\n",
       "      <td>NaN</td>\n",
       "      <td>NaN</td>\n",
       "      <td>NaN</td>\n",
       "    </tr>\n",
       "  </tbody>\n",
       "</table>\n",
       "<p>5 rows × 61 columns</p>\n",
       "</div>"
      ],
      "text/plain": [
       "   Unnamed: 0         cat2_slug       cat3_slug city_slug neighborhood_slug  \\\n",
       "0           0    temporary-rent           villa     karaj         mehrshahr   \n",
       "1           1  residential-sell  apartment-sell    tehran           gholhak   \n",
       "2           2  residential-rent  apartment-rent    tehran             tohid   \n",
       "3           3   commercial-rent     office-rent    tehran          elahiyeh   \n",
       "4           4  residential-sell  apartment-sell   mashhad          emamreza   \n",
       "\n",
       "      created_at_month    user_type  \\\n",
       "0  2024-08-01 00:00:00  مشاور املاک   \n",
       "1  2024-05-01 00:00:00  مشاور املاک   \n",
       "2  2024-10-01 00:00:00          NaN   \n",
       "3  2024-06-01 00:00:00          NaN   \n",
       "4  2024-05-01 00:00:00  مشاور املاک   \n",
       "\n",
       "                                         description  \\\n",
       "0  ۵۰۰متر\\n۲۰۰متر بنا دوبلکس\\n۳خواب\\nاستخر آبگرم ...   \n",
       "1  دسترسی عالی به مترو و شریعتی \\nمشاعات تمیز \\nب...   \n",
       "2                                    تخلیه پایان ماه   \n",
       "3  فرشته تاپ لوکیشن\\n۹۰ متر موقعیت اداری\\nیک اتاق...   \n",
       "4  هلدینگ ساختمانی اکبری\\n\\nهمراه شما هستیم برای ...   \n",
       "\n",
       "                                              title rent_mode  ...  \\\n",
       "0  باغ ویلا اجاره روزانه استخر داخل لشکرآباد سهیلیه       NaN  ...   \n",
       "1                           ۶۰ متر قلهک فول امکانات       NaN  ...   \n",
       "2                          آپارتمان ۳ خوابه ۱۳۲ متر     مقطوع  ...   \n",
       "3           فرشته ۹۰ متر دفتر کار مدرن موقعیت اداری     مقطوع  ...   \n",
       "4                  ۱۱۵ متری/شمالی رو به آفتاب/اکبری       NaN  ...   \n",
       "\n",
       "   property_type regular_person_capacity extra_person_capacity  \\\n",
       "0            NaN                     4.0                     6   \n",
       "1            NaN                     NaN                   NaN   \n",
       "2            NaN                     NaN                   NaN   \n",
       "3            NaN                     NaN                   NaN   \n",
       "4            NaN                     NaN                   NaN   \n",
       "\n",
       "  cost_per_extra_person  rent_price_on_regular_days  \\\n",
       "0              350000.0                   1500000.0   \n",
       "1                   NaN                         NaN   \n",
       "2                   NaN                         NaN   \n",
       "3                   NaN                         NaN   \n",
       "4                   NaN                         NaN   \n",
       "\n",
       "  rent_price_on_special_days  rent_price_at_weekends location_latitude  \\\n",
       "0               3.500000e+09               3500000.0         35.811684   \n",
       "1                        NaN                     NaN               NaN   \n",
       "2                        NaN                     NaN         35.703865   \n",
       "3                        NaN                     NaN               NaN   \n",
       "4                        NaN                     NaN               NaN   \n",
       "\n",
       "  location_longitude  location_radius  \n",
       "0          50.936600            500.0  \n",
       "1                NaN            500.0  \n",
       "2          51.373459              NaN  \n",
       "3                NaN              NaN  \n",
       "4                NaN              NaN  \n",
       "\n",
       "[5 rows x 61 columns]"
      ]
     },
     "execution_count": 14,
     "metadata": {},
     "output_type": "execute_result"
    }
   ],
   "source": [
    "divar_df.head()"
   ]
  },
  {
   "cell_type": "code",
   "execution_count": 15,
   "id": "6130af0f",
   "metadata": {},
   "outputs": [
    {
     "name": "stdout",
     "output_type": "stream",
     "text": [
      "<class 'pandas.core.frame.DataFrame'>\n",
      "RangeIndex: 1000000 entries, 0 to 999999\n",
      "Data columns (total 5 columns):\n",
      " #   Column             Non-Null Count    Dtype \n",
      "---  ------             --------------    ----- \n",
      " 0   cat2_slug          1000000 non-null  object\n",
      " 1   cat3_slug          999999 non-null   object\n",
      " 2   city_slug          999998 non-null   object\n",
      " 3   neighborhood_slug  437139 non-null   object\n",
      " 4   property_type      27057 non-null    object\n",
      "dtypes: object(5)\n",
      "memory usage: 38.1+ MB\n"
     ]
    }
   ],
   "source": [
    "divar_df[['cat2_slug', 'cat3_slug', 'city_slug', 'neighborhood_slug', 'property_type']].info()"
   ]
  },
  {
   "cell_type": "code",
   "execution_count": 16,
   "id": "429177f7",
   "metadata": {},
   "outputs": [
    {
     "name": "stdout",
     "output_type": "stream",
     "text": [
      "cat2_slug :\n",
      "['temporary-rent' 'residential-sell' 'residential-rent' 'commercial-rent'\n",
      " 'commercial-sell' 'real-estate-services'] \n",
      "\n",
      "cat3_slug :\n",
      "['villa' 'apartment-sell' 'apartment-rent' 'office-rent' 'shop-sell'\n",
      " 'plot-old' 'house-villa-sell' 'house-villa-rent' 'shop-rent'\n",
      " 'industry-agriculture-business-rent' 'office-sell'\n",
      " 'industry-agriculture-business-sell' 'presell' 'suite-apartment'\n",
      " 'partnership' 'workspace' nan] \n",
      "\n",
      "property_type :\n",
      "[nan 'jungle' 'other' 'beach' 'jungle-mountain' 'mountain'] \n",
      "\n"
     ]
    }
   ],
   "source": [
    "for col in ['cat2_slug', 'cat3_slug', 'property_type'] :\n",
    "    print(col, ':')\n",
    "    print(divar_df[col].unique(), '\\n')"
   ]
  },
  {
   "cell_type": "code",
   "execution_count": 17,
   "id": "aff805f0",
   "metadata": {},
   "outputs": [
    {
     "data": {
      "text/plain": [
       "1188"
      ]
     },
     "execution_count": 17,
     "metadata": {},
     "output_type": "execute_result"
    }
   ],
   "source": [
    "divar_df['neighborhood_slug'].nunique()"
   ]
  },
  {
   "cell_type": "code",
   "execution_count": 18,
   "id": "c95ef36d",
   "metadata": {},
   "outputs": [
    {
     "name": "stdout",
     "output_type": "stream",
     "text": [
      "<class 'pandas.core.frame.DataFrame'>\n",
      "RangeIndex: 1000000 entries, 0 to 999999\n",
      "Data columns (total 6 columns):\n",
      " #   Column             Non-Null Count   Dtype \n",
      "---  ------             --------------   ----- \n",
      " 0   has_balcony        506411 non-null  object\n",
      " 1   has_elevator       541749 non-null  object\n",
      " 2   has_warehouse      728155 non-null  object\n",
      " 3   has_parking        728156 non-null  object\n",
      " 4   construction_year  815828 non-null  object\n",
      " 5   is_rebuilt         529470 non-null  object\n",
      "dtypes: object(6)\n",
      "memory usage: 45.8+ MB\n"
     ]
    }
   ],
   "source": [
    "divar_df[['has_balcony', 'has_elevator', 'has_warehouse', 'has_parking', 'construction_year', 'is_rebuilt']].info()"
   ]
  },
  {
   "cell_type": "code",
   "execution_count": 19,
   "id": "464e6f06",
   "metadata": {},
   "outputs": [
    {
     "name": "stdout",
     "output_type": "stream",
     "text": [
      "<class 'pandas.core.frame.DataFrame'>\n",
      "RangeIndex: 1000000 entries, 0 to 999999\n",
      "Data columns (total 7 columns):\n",
      " #   Column              Non-Null Count   Dtype  \n",
      "---  ------              --------------   -----  \n",
      " 0   land_size           186396 non-null  float64\n",
      " 1   building_size       980394 non-null  float64\n",
      " 2   deed_type           253458 non-null  object \n",
      " 3   floor               541748 non-null  object \n",
      " 4   rooms_count         845899 non-null  object \n",
      " 5   total_floors_count  304352 non-null  object \n",
      " 6   unit_per_floor      302283 non-null  object \n",
      "dtypes: float64(2), object(5)\n",
      "memory usage: 53.4+ MB\n"
     ]
    }
   ],
   "source": [
    "divar_df[['land_size', 'building_size', 'deed_type', 'floor', 'rooms_count', 'total_floors_count', 'unit_per_floor']].info()"
   ]
  },
  {
   "cell_type": "markdown",
   "id": "852857c7",
   "metadata": {},
   "source": [
    "### filling neighborhood_slug's missing values"
   ]
  },
  {
   "cell_type": "code",
   "execution_count": 3,
   "id": "23121890",
   "metadata": {},
   "outputs": [
    {
     "name": "stdout",
     "output_type": "stream",
     "text": [
      "karaj :  0 49367\n",
      "tehran :  0 190904\n",
      "mashhad :  0 69032\n",
      "ahvaz :  0 19590\n",
      "kermanshah :  17048 17048\n",
      "mahdasht-city :  1907 1907\n",
      "pardis-city :  11396 11396\n",
      "foolad-shahr :  1634 1634\n",
      "rasht :  0 16833\n",
      "mahabad :  434 434\n",
      "shiraz :  0 37141\n",
      "gonabad :  322 322\n",
      "azna :  555 555\n",
      "andisheh-new-town :  20847 20847\n",
      "chamestan :  7714 7714\n",
      "babol :  1374 1374\n",
      "arak :  10878 10878\n",
      "pishva :  1018 1018\n",
      "tabriz :  27655 27655\n",
      "urmia :  13466 13466\n",
      "nur :  7241 7241\n",
      "kish :  4577 4577\n",
      "nasimshahr :  1988 1988\n",
      "amol :  3272 3272\n",
      "yasuj :  4920 4920\n",
      "isfahan :  0 36953\n",
      "ilam :  3303 3303\n",
      "najafabad :  3586 3586\n",
      "yazd :  9310 9310\n",
      "pakdasht-city :  4326 4326\n",
      "bandar-ganaveh :  1120 1120\n",
      "chalus :  1981 1981\n",
      "sabzevar :  2969 2969\n",
      "eslamshahr :  7988 7988\n",
      "dezful :  4960 4960\n",
      "mohammadieh :  1772 1772\n",
      "lavasan-city :  824 824\n",
      "sirjan :  3089 3089\n",
      "Kordkuy :  435 435\n",
      "hamedan :  9877 9877\n",
      "qods-city :  4683 4683\n",
      "shandiz-city :  720 720\n",
      "mahmudabad :  4991 4991\n",
      "aran-va-bidgol :  429 429\n",
      "bandar-abbas :  11555 11555\n",
      "bandar-kangan :  1313 1313\n",
      "kiashahr :  698 698\n",
      "izadshahr :  1358 1358\n",
      "bushehr :  5406 5406\n",
      "tuyserkan :  509 509\n",
      "khoram-abad :  308 308\n",
      "qazvin :  8103 8103\n",
      "khorramabad :  8325 8325\n",
      "kashan :  4369 4369\n",
      "nowshahr :  5075 5075\n",
      "hashtgerd-city :  6327 6327\n",
      "behshahr :  317 317\n",
      "sanandaj :  6549 6549\n",
      "masal :  1211 1211\n",
      "shahin-dej :  216 216\n",
      "vahidieh :  310 310\n",
      "parand-city :  9624 9624\n",
      "shush :  928 928\n",
      "mobarakeh :  266 266\n",
      "neyshabur :  5591 5591\n",
      "kerman :  11319 11319\n",
      "rudehen :  2084 2084\n",
      "torbat-jam :  663 663\n",
      "polsefid :  147 147\n",
      "salman-shahr :  1348 1348\n",
      "saveh :  4520 4520\n",
      "shahriar-city :  6160 6160\n",
      "damghan :  637 637\n",
      "ramiyan :  126 126\n",
      "kahnooj :  423 423\n",
      "golpayegan :  594 594\n",
      "miandoab :  621 621\n",
      "amlash :  386 386\n",
      "talesh :  1293 1353\n",
      "golbahar-city :  2673 2673\n",
      "shahrekord :  2754 2754\n",
      "qom :  0 17109\n",
      "ardabil :  9171 9171\n",
      "qarchak-city :  3288 3288\n",
      "garmdareh :  1465 1465\n",
      "borujerd :  3986 3986\n",
      "nashtarud :  491 491\n",
      "gorgan :  8604 8604\n",
      "sari :  2363 2363\n",
      "zarand :  696 696\n",
      "sabashahr :  617 617\n",
      "semnan :  3123 3123\n",
      "ahar :  866 866\n",
      "saravan :  705 705\n",
      "astaneh-ashrafiyeh :  1149 1149\n",
      "kiasar :  80 80\n",
      "golestan-baharestan :  1929 1929\n",
      "borazjan :  1219 1219\n",
      "birjand :  3057 3057\n",
      "masjed-e-soleyman :  1078 1078\n",
      "sadra :  4970 4970\n",
      "lahijan :  4018 4089\n",
      "khomeyni-shahr :  686 686\n",
      "pol-dokhtar :  213 213\n",
      "ramsar :  2514 2514\n",
      "kahrizak :  1207 1207\n",
      "zahedan :  7611 7611\n",
      "qeydar :  309 309\n",
      "tulam-shahr :  150 150\n",
      "robat-karim :  3057 3057\n",
      "alvand :  927 927\n",
      "nahavand :  914 914\n",
      "ramhormoz :  718 718\n",
      "marvdasht-city :  1806 1806\n",
      "zanjan :  7647 7647\n",
      "sarein :  423 423\n",
      "khash :  444 444\n",
      "gourab-zarmikh :  157 157\n",
      "khoy :  1201 1201\n",
      "sangar :  837 837\n",
      "rudsar :  1149 1149\n",
      "safadasht-industrial-city :  1401 1401\n",
      "varamin-city :  3113 3113\n",
      "fardis-city :  7195 7195\n",
      "marivan :  1264 1264\n",
      "koumeleh :  203 203\n",
      "chaf-chamkhale :  887 887\n",
      "boroujen :  571 571\n",
      "khomam :  701 701\n",
      "zabol :  1458 1458\n",
      "bonab :  289 289\n",
      "bojnurd :  4822 4822\n",
      "meshgin-shahr :  780 780\n",
      "khomein :  752 752\n",
      "rafsanjan :  1888 1888\n",
      "quchan :  776 776\n",
      "parsabad :  868 868\n",
      "rezvanshahr :  761 761\n",
      "hormuz :  67 67\n",
      "Iranshahr :  1083 1083\n",
      "shahin-shahr :  3690 3690\n",
      "kiakola :  86 86\n",
      "omidiyeh :  604 604\n",
      "gonbad-kavus :  1800 1800\n",
      "abbasabad-mazandaran :  450 450\n",
      "shahrud :  2081 2081\n",
      "hendijan :  100 100\n",
      "minab :  879 879\n",
      "behbahan :  1348 1348\n",
      "kelarabad :  379 379\n",
      "maku :  594 594\n",
      "qaem-shahr :  1724 1724\n",
      "marand :  1125 1125\n",
      "bandar-anzali :  3738 3817\n",
      "malayer :  2090 2090\n",
      "falavarjan :  506 506\n",
      "sonqor :  421 421\n",
      "tonekabon :  3016 3016\n",
      "charbagh-alborz :  1434 1434\n",
      "kouchesfahan :  769 769\n",
      "kelarestan :  934 934\n",
      "sorkhrood :  2562 2562\n",
      "saman-city :  145 145\n",
      "azadshahr-golestan :  486 486\n",
      "chabahar :  1607 1607\n",
      "astara :  1065 1065\n",
      "mahshahr :  1661 1661\n",
      "eslamabad-gharb :  976 976\n",
      "khorramshahr :  1140 1140\n",
      "abadeh :  529 529\n",
      "shazand :  224 224\n",
      "nazarabad :  1601 1601\n",
      "firuzkooh :  474 474\n",
      "jiroft :  1375 1375\n",
      "shal :  68 68\n",
      "jam :  611 611\n",
      "taft :  225 225\n",
      "dayyer :  204 204\n",
      "jahrom :  785 785\n",
      "juybar :  118 118\n",
      "bumehen :  1789 1789\n",
      "lashtenesha :  639 639\n",
      "royan :  868 868\n",
      "esfarayen :  781 781\n",
      "shahre-rey :  952 952\n",
      "javanrud :  375 375\n",
      "azarshahr :  281 281\n",
      "kuhdasht :  933 933\n",
      "hachirud :  260 260\n",
      "maragheh :  917 917\n",
      "dorud :  2161 2161\n",
      "salmas :  437 437\n",
      "javadabad :  237 237\n",
      "someh-sara :  1385 1385\n",
      "shushtar :  1420 1420\n",
      "pirbazar :  160 160\n",
      "abrisham-isfahan :  172 172\n",
      "kazeroon :  980 980\n",
      "babolsar :  2194 2194\n",
      "sarab :  260 260\n",
      "mohammad-shahr :  2069 2069\n",
      "izeh :  1175 1175\n",
      "bahar-city :  277 277\n",
      "shirvan :  1212 1212\n",
      "torghabeh-city :  251 251\n",
      "bam :  1159 1159\n",
      "dogonbadan :  1484 1484\n",
      "torbat-heydariyeh :  1038 1038\n",
      "abyek :  674 674\n",
      "ferdosiye :  361 361\n",
      "kalale :  326 326\n",
      "fuman :  1520 1520\n",
      "katalem-sadatshahr :  259 259\n",
      "sahand :  1407 1407\n",
      "damavand :  2975 2975\n",
      "fasham-city :  513 513\n",
      "zibakenar :  1338 1338\n",
      "darab :  505 505\n",
      "daran :  269 269\n",
      "abadan :  2926 2926\n",
      "baft :  354 354\n",
      "khalkhal :  462 462\n",
      "absard :  498 498\n",
      "pareh-sar :  256 256\n",
      "dehloran :  364 364\n",
      "khorramdarreh :  411 411\n",
      "chenaran :  698 698\n",
      "abhar :  1392 1392\n",
      "shanderman :  180 180\n",
      "qeshm :  1801 1801\n",
      "sarpol-zahab :  451 451\n",
      "chahar-dangeh :  997 997\n",
      "tankaman :  324 324\n",
      "lenjan :  253 253\n",
      "asadabad :  464 464\n",
      "baneh :  306 306\n",
      "ahmadsar-gourab :  194 194\n",
      "saqqez :  963 963\n",
      "mianeh :  697 697\n",
      "lavandevil :  71 71\n",
      "mehran :  159 159\n",
      "fasa-city :  774 774\n",
      "nurabad :  657 657\n",
      "raheem-abad :  221 221\n",
      "langarud :  1461 1461\n",
      "khoshkbijar :  733 733\n",
      "taleqan :  300 300\n",
      "shahedshahr :  330 330\n",
      "firuzabad :  427 427\n",
      "ashkhaneh :  284 284\n",
      "aleshtar :  320 320\n",
      "asalem :  416 416\n",
      "abali :  86 86\n",
      "marzikola :  109 109\n",
      "aq-qala :  223 223\n",
      "bandar-Imam-khomeini :  786 786\n",
      "mahan :  173 173\n",
      "norabad :  602 602\n",
      "harsin :  158 158\n",
      "ghayen :  350 350\n",
      "galikesh :  192 192\n",
      "khan-bin :  82 82\n",
      "farahabad :  176 176\n",
      "mehriz :  208 208\n",
      "meybod :  445 445\n",
      "khansar :  237 237\n",
      "molkabad :  130 130\n",
      "eqbaliyeh :  323 323\n",
      "aligudarz :  744 744\n",
      "shaft :  580 580\n",
      "chaboksar :  420 420\n",
      "neka :  192 192\n",
      "faragi :  15 15\n",
      "dehgolan :  291 291\n",
      "susangerd :  344 344\n",
      "takestan :  783 783\n",
      "koohsar :  548 548\n",
      "kamyaran :  487 487\n",
      "mohajeran :  223 223\n",
      "gahvareh :  41 41\n",
      "aliabad-katul :  489 489\n",
      "tabas :  230 230\n",
      "fereydunkenar :  616 616\n",
      "ramshir :  111 111\n",
      "andimeshk :  1361 1361\n",
      "eshtehard :  406 406\n",
      "khormoj :  305 305\n",
      "lordegan :  498 498\n",
      "shirud :  139 139\n",
      "mahalat :  239 239\n",
      "eyvan :  328 328\n",
      "abdanan :  239 239\n",
      "garmsar :  839 839\n",
      "qorveh :  867 867\n",
      "kangavar :  477 477\n",
      "rostam-abad :  162 162\n",
      "eqlid :  198 198\n",
      "kelachay :  334 334\n",
      "dehdasht :  663 663\n",
      "galougah-babol :  124 124\n",
      "zarghan :  288 288\n",
      "mohr :  57 57\n",
      "sahneh :  275 275\n",
      "negin-shahr :  32 32\n",
      "sadegh-abad :  28 28\n",
      "zahak :  100 100\n",
      "sisakht :  125 125\n",
      "naqadeh :  246 246\n",
      "hadi-shahr :  38 38\n",
      "siahkal :  711 711\n",
      "bandar-torkaman :  260 260\n",
      "bijar :  333 333\n",
      "ardakan :  461 461\n",
      "delijan :  144 144\n",
      "babakan :  37 37\n",
      "bahnamir :  88 88\n",
      "akand :  55 55\n",
      "ferdows :  233 233\n",
      "bukan :  667 667\n",
      "gomishan :  58 58\n",
      "shadeghan :  336 336\n",
      "piranshahr :  79 79\n",
      "khalil-shahr :  20 20\n",
      "sourek :  61 61\n",
      "bardsir :  209 209\n",
      "loulman :  121 121\n",
      "oshnavieh :  36 36\n",
      "baghershahr :  251 251\n",
      "rudbar :  111 111\n",
      "masuleh :  69 69\n",
      "roudbaneh :  145 145\n",
      "bisotun :  108 108\n",
      "germi :  142 142\n",
      "marzan-abad :  229 229\n",
      "shirgah :  343 343\n",
      "rostamkola :  37 37\n",
      "hamidia :  135 135\n",
      "konarak :  93 93\n",
      "minoodasht :  262 262\n",
      "chobar :  49 49\n",
      "vajargah :  41 41\n",
      "sorkhan-kalateh :  66 66\n",
      "shelman :  120 120\n",
      "kouhi-kheyl :  36 36\n",
      "ghamsar :  112 112\n",
      "dalkhani :  74 74\n",
      "dabudasht :  82 82\n",
      "farim :  38 38\n",
      "lar :  221 221\n",
      "neyriz :  274 274\n",
      "kojur :  57 57\n",
      "dargahan :  113 113\n",
      "manjil :  69 69\n",
      "lisar :  144 144\n",
      "gazanak :  41 41\n",
      "semirom :  147 147\n",
      "hamidiyeh :  88 88\n",
      "lamerd :  198 198\n",
      "emamzadeh-abdollah :  219 219\n",
      "asara :  170 170\n",
      "ziyabar :  56 56\n",
      "paeen-holar :  45 45\n",
      "fazel-abad :  188 188\n",
      "ziraab :  241 241\n",
      "pool :  86 86\n",
      "shemshak :  95 95\n",
      "namin :  131 131\n",
      "arjmand :  31 31\n",
      "kabudrahang :  190 190\n",
      "makloan :  89 89\n",
      "galugah-babol :  56 56\n",
      "deylaman :  106 106\n",
      "tahergurab :  86 86\n",
      "bafq :  101 101\n",
      "jirandeh :  36 36\n",
      "khaf :  80 80\n",
      "amirkala :  56 56\n",
      "bandar-gaz :  90 90\n",
      "zargarshahr :  54 54\n",
      "farrokhshahr :  124 124\n",
      "baladeh :  49 49\n",
      "barah-sar :  70 70\n",
      "otaghvar :  157 157\n",
      "khoour :  3 3\n",
      "mazrae-katool :  22 22\n",
      "rankouh :  93 93\n",
      "anbaralum :  7 7\n",
      "alghajar :  18 18\n",
      "toutkabon :  179 179\n",
      "reyneh :  71 71\n",
      "ghorogh :  85 85\n",
      "khoshroud-pey :  38 38\n",
      "taybad :  125 125\n",
      "aalasht :  69 69\n",
      "bardaskan :  68 68\n",
      "kilan :  119 119\n",
      "sardasht :  47 47\n",
      "haviq :  54 54\n",
      "sangdovin :  12 12\n",
      "loshan :  41 41\n",
      "daland :  19 19\n",
      "takht :  59 59\n",
      "simin-shahr :  22 22\n",
      "nokandeh :  25 25\n",
      "boluk :  21 21\n",
      "tabaghdeh :  12 12\n",
      "jelin :  36 36\n",
      "arateh :  20 20\n",
      "chamran-town :  74 74\n",
      "astaneh-sara :  14 14\n",
      "gatab :  17 17\n",
      "dozin :  7 7\n",
      "inche-borun :  8 8\n",
      "qasemabad-khaf :  7 7\n",
      "nodeh-khandoz :  36 36\n",
      "goli-dagh :  5 5\n",
      "khour :  16 16\n",
      "yanghagh :  2 2\n",
      "nan :  0 0\n",
      "sijval :  10 10\n",
      "maraveh-tapeh :  5 5\n",
      "tatar-olya :  1 1\n"
     ]
    }
   ],
   "source": [
    "for city in divar_df['city_slug'].unique() :\n",
    "    df = divar_df[divar_df['city_slug'] == city]['neighborhood_slug']\n",
    "    print(f'{city} : ' , df.isnull().sum(), len(df))"
   ]
  },
  {
   "cell_type": "code",
   "execution_count": 4,
   "id": "a8029984",
   "metadata": {},
   "outputs": [
    {
     "name": "stdout",
     "output_type": "stream",
     "text": [
      "talesh :  1293 1353\n",
      "lahijan :  4018 4089\n",
      "bandar-anzali :  3738 3817\n"
     ]
    }
   ],
   "source": [
    "for city in divar_df['city_slug'].unique() :\n",
    "    df = divar_df[divar_df['city_slug'] == city]['neighborhood_slug']\n",
    "    if (df.isnull().sum() != 0) and (df.isnull().sum() != len(df)) :\n",
    "        print(f'{city} : ' , df.isnull().sum(), len(df))"
   ]
  },
  {
   "cell_type": "code",
   "execution_count": 5,
   "id": "d958274b",
   "metadata": {},
   "outputs": [],
   "source": [
    "# از کد قبلی متوجه شدیم که شهر های بزرگتر دیتای محله کاملی دارند ولی شهر های کوچکتر دیتای محله آنها تقریبا خالی است\n",
    "# حالا به پر کردن missing value ها میپردازیم\n",
    "\n",
    "for city in divar_df['city_slug'].unique() :\n",
    "    df = divar_df[divar_df['city_slug'] == city]['neighborhood_slug']\n",
    "    if (df.isnull().sum() != 0) and (df.isnull().sum() == len(df)):\n",
    "        divar_df.loc[divar_df['city_slug'] == city, 'neighborhood_slug'] = city"
   ]
  },
  {
   "cell_type": "code",
   "execution_count": 6,
   "id": "c35e0fe8",
   "metadata": {},
   "outputs": [],
   "source": [
    "for city in ['lahijan', 'talesh', 'bandar-anzali'] :\n",
    "    divar_df.loc[(divar_df['city_slug'] == city) & (divar_df['neighborhood_slug'].isna()), 'neighborhood_slug'] = city"
   ]
  },
  {
   "cell_type": "markdown",
   "id": "6b678834",
   "metadata": {},
   "source": [
    "### filling building_size's missing values"
   ]
  },
  {
   "cell_type": "code",
   "execution_count": 7,
   "id": "24d6af7c",
   "metadata": {},
   "outputs": [
    {
     "name": "stdout",
     "output_type": "stream",
     "text": [
      "villa :  1 12899\n",
      "apartment-sell :  5 303385\n",
      "apartment-rent :  13 211880\n",
      "office-rent :  70 21418\n",
      "shop-sell :  11 21855\n",
      "plot-old :  11 133570\n",
      "house-villa-sell :  15 121753\n",
      "house-villa-rent :  11 64678\n",
      "shop-rent :  30 45993\n",
      "industry-agriculture-business-rent :  15 9155\n",
      "office-sell :  0 5155\n",
      "industry-agriculture-business-sell :  19 11851\n",
      "presell :  15776 15781\n",
      "suite-apartment :  4 16465\n",
      "partnership :  3621 3622\n",
      "workspace :  4 539\n",
      "nan :  0 0\n"
     ]
    }
   ],
   "source": [
    "for cat3 in divar_df['cat3_slug'].unique() :\n",
    "    df = divar_df[divar_df['cat3_slug'] == cat3]['building_size']\n",
    "    print(f'{cat3} : ' , df.isnull().sum(), len(df))"
   ]
  },
  {
   "cell_type": "code",
   "execution_count": 8,
   "id": "f0932822",
   "metadata": {},
   "outputs": [
    {
     "data": {
      "text/plain": [
       "cat2_slug\n",
       "real-estate-services    15781\n",
       "Name: count, dtype: int64"
      ]
     },
     "execution_count": 8,
     "metadata": {},
     "output_type": "execute_result"
    }
   ],
   "source": [
    "divar_df[divar_df['cat3_slug'] == 'presell']['cat2_slug'].value_counts()"
   ]
  },
  {
   "cell_type": "code",
   "execution_count": 9,
   "id": "8de916d7",
   "metadata": {},
   "outputs": [
    {
     "data": {
      "text/plain": [
       "price_value     14577\n",
       "rent_value      15779\n",
       "credit_value    15779\n",
       "dtype: int64"
      ]
     },
     "execution_count": 9,
     "metadata": {},
     "output_type": "execute_result"
    }
   ],
   "source": [
    "divar_df[divar_df['cat3_slug'] == 'presell'][['price_value', 'rent_value', 'credit_value']].isnull().sum()"
   ]
  },
  {
   "cell_type": "code",
   "execution_count": 10,
   "id": "f833793e",
   "metadata": {},
   "outputs": [
    {
     "data": {
      "text/html": [
       "<div>\n",
       "<style scoped>\n",
       "    .dataframe tbody tr th:only-of-type {\n",
       "        vertical-align: middle;\n",
       "    }\n",
       "\n",
       "    .dataframe tbody tr th {\n",
       "        vertical-align: top;\n",
       "    }\n",
       "\n",
       "    .dataframe thead th {\n",
       "        text-align: right;\n",
       "    }\n",
       "</style>\n",
       "<table border=\"1\" class=\"dataframe\">\n",
       "  <thead>\n",
       "    <tr style=\"text-align: right;\">\n",
       "      <th></th>\n",
       "      <th>title</th>\n",
       "      <th>description</th>\n",
       "    </tr>\n",
       "  </thead>\n",
       "  <tbody>\n",
       "    <tr>\n",
       "      <th>125</th>\n",
       "      <td>۸۰ متر نو سازخیابان سعدی/ملارد/سراسیاب/املاک م...</td>\n",
       "      <td>۸۰ متر نوساز کلید نخورده\\n✅دوخواب\\n✅روب نما\\n✅...</td>\n",
       "    </tr>\n",
       "    <tr>\n",
       "      <th>127</th>\n",
       "      <td>64متری پیش فروش واوان</td>\n",
       "      <td>پیش فروش آپارتمان✅\\n\\nمحدوده: واوان✓هشت بهشت✅\\...</td>\n",
       "    </tr>\n",
       "    <tr>\n",
       "      <th>243</th>\n",
       "      <td>۸۵ متر الهیه پیش فروش</td>\n",
       "      <td>سلام احترام \\nواحد ۸۵ متری سر جلو \\nآفتابگیر \\...</td>\n",
       "    </tr>\n",
       "    <tr>\n",
       "      <th>435</th>\n",
       "      <td>فروش آپارتمان دو خوابه فاز ۱ صدرا</td>\n",
       "      <td>پیش فروش آپارتمان دو خوابه فاز ۱ سند ملکی\\nموق...</td>\n",
       "    </tr>\n",
       "    <tr>\n",
       "      <th>492</th>\n",
       "      <td>پیشفروش تجاری+اداری از۳متربطوراقساط قطعی/المپی...</td>\n",
       "      <td>آیا به دنبال یک سرمایه‌گذاری پرسود و آینده‌دار...</td>\n",
       "    </tr>\n",
       "    <tr>\n",
       "      <th>...</th>\n",
       "      <td>...</td>\n",
       "      <td>...</td>\n",
       "    </tr>\n",
       "    <tr>\n",
       "      <th>999584</th>\n",
       "      <td>مسکن ملی</td>\n",
       "      <td>فیش مسکن ملی با پرداخت کامل میهام .\\n\\nفیش با ...</td>\n",
       "    </tr>\n",
       "    <tr>\n",
       "      <th>999605</th>\n",
       "      <td>پیش فروش واحد ۱۰۰ متری دبیران</td>\n",
       "      <td>✅آپارتمان ۱۰۰ متری\\n✅دو خواب\\n✅۴ طبقه ۸ واحد\\n...</td>\n",
       "    </tr>\n",
       "    <tr>\n",
       "      <th>999642</th>\n",
       "      <td>آپارتمان ۲۹۰ متری .پونک</td>\n",
       "      <td>درود بر شما\\nپیش فروش ساختمان ‌سوپر لوکس با سا...</td>\n",
       "    </tr>\n",
       "    <tr>\n",
       "      <th>999852</th>\n",
       "      <td>پیش فروش ۱۰۰ متری دو خوابه</td>\n",
       "      <td>رو به نما\\nبولوار قلنبر خیابان مسجد طالقانی\\nت...</td>\n",
       "    </tr>\n",
       "    <tr>\n",
       "      <th>999994</th>\n",
       "      <td>پیش فروش ۵۵/۷۰/۱۱۰متری واقع در بهشت بندر</td>\n",
       "      <td>☀️هُو الرَّزَّاقُ‌\\nپیش فروش .مشارکت.فروش .اجا...</td>\n",
       "    </tr>\n",
       "  </tbody>\n",
       "</table>\n",
       "<p>15781 rows × 2 columns</p>\n",
       "</div>"
      ],
      "text/plain": [
       "                                                    title  \\\n",
       "125     ۸۰ متر نو سازخیابان سعدی/ملارد/سراسیاب/املاک م...   \n",
       "127                                 64متری پیش فروش واوان   \n",
       "243                                 ۸۵ متر الهیه پیش فروش   \n",
       "435                     فروش آپارتمان دو خوابه فاز ۱ صدرا   \n",
       "492     پیشفروش تجاری+اداری از۳متربطوراقساط قطعی/المپی...   \n",
       "...                                                   ...   \n",
       "999584                                           مسکن ملی   \n",
       "999605                      پیش فروش واحد ۱۰۰ متری دبیران   \n",
       "999642                            آپارتمان ۲۹۰ متری .پونک   \n",
       "999852                         پیش فروش ۱۰۰ متری دو خوابه   \n",
       "999994           پیش فروش ۵۵/۷۰/۱۱۰متری واقع در بهشت بندر   \n",
       "\n",
       "                                              description  \n",
       "125     ۸۰ متر نوساز کلید نخورده\\n✅دوخواب\\n✅روب نما\\n✅...  \n",
       "127     پیش فروش آپارتمان✅\\n\\nمحدوده: واوان✓هشت بهشت✅\\...  \n",
       "243     سلام احترام \\nواحد ۸۵ متری سر جلو \\nآفتابگیر \\...  \n",
       "435     پیش فروش آپارتمان دو خوابه فاز ۱ سند ملکی\\nموق...  \n",
       "492     آیا به دنبال یک سرمایه‌گذاری پرسود و آینده‌دار...  \n",
       "...                                                   ...  \n",
       "999584  فیش مسکن ملی با پرداخت کامل میهام .\\n\\nفیش با ...  \n",
       "999605  ✅آپارتمان ۱۰۰ متری\\n✅دو خواب\\n✅۴ طبقه ۸ واحد\\n...  \n",
       "999642  درود بر شما\\nپیش فروش ساختمان ‌سوپر لوکس با سا...  \n",
       "999852  رو به نما\\nبولوار قلنبر خیابان مسجد طالقانی\\nت...  \n",
       "999994  ☀️هُو الرَّزَّاقُ‌\\nپیش فروش .مشارکت.فروش .اجا...  \n",
       "\n",
       "[15781 rows x 2 columns]"
      ]
     },
     "execution_count": 10,
     "metadata": {},
     "output_type": "execute_result"
    }
   ],
   "source": [
    "# میشود مقادیر خالی را با title و description با کمک nlp پر کرد\n",
    "divar_df[divar_df['cat3_slug'] == 'presell'][['title', 'description']]"
   ]
  },
  {
   "cell_type": "code",
   "execution_count": 11,
   "id": "e0790dc4",
   "metadata": {},
   "outputs": [
    {
     "name": "stderr",
     "output_type": "stream",
     "text": [
      "/tmp/ipykernel_2461/3916491908.py:6: RuntimeWarning: Mean of empty slice\n",
      "  mean = np.round(np.nanmean(divar_df[divar_df['cat3_slug'] == cat3]['building_size'].to_numpy()))\n"
     ]
    }
   ],
   "source": [
    "# باتوجه به اینکه آگهی های پیش خرید  نه قیمت مشخصی دارند و نه متراژ تصمیم به حذف آنها میگیرم\n",
    "# حالا بقیه مقادیر گمشده را با توجه به cat3 پر میکنم\n",
    "\n",
    "divar_df = divar_df[divar_df['cat3_slug'] != 'presell']\n",
    "for cat3 in divar_df['cat3_slug'].unique() :\n",
    "    mean = np.round(np.nanmean(divar_df[divar_df['cat3_slug'] == cat3]['building_size'].to_numpy()))\n",
    "    divar_df.loc[(divar_df['cat3_slug'] == cat3) & (divar_df['building_size'].isna()), 'building_size'] = mean"
   ]
  },
  {
   "cell_type": "markdown",
   "id": "e16bdf64",
   "metadata": {},
   "source": [
    "### filling floor's missing values"
   ]
  },
  {
   "cell_type": "code",
   "execution_count": 12,
   "id": "84807f11",
   "metadata": {},
   "outputs": [
    {
     "data": {
      "text/plain": [
       "array([nan, '3', '4', '2', '1', '5', '0', '30', '6', '7', '8', '18', '12',\n",
       "       '11', '10', '-1', '13', '9', '19', '16', '30+', '21', '15', '22',\n",
       "       '14', '17', '20', '23', '25', '24', '26', '28', '29', '27', 3.0,\n",
       "       2.0, 4.0, 1.0, 0.0, 20.0, 5.0, 7.0, 6.0, 18.0, 8.0, -1.0, 22.0,\n",
       "       10.0, 14.0, 9.0, 11.0], dtype=object)"
      ]
     },
     "execution_count": 12,
     "metadata": {},
     "output_type": "execute_result"
    }
   ],
   "source": [
    "divar_df['floor'].unique()"
   ]
  },
  {
   "cell_type": "code",
   "execution_count": 13,
   "id": "1c1c37d3",
   "metadata": {},
   "outputs": [],
   "source": [
    "divar_df['floor'] = divar_df['floor'].apply(lambda x: np.float64(30) if x == '30+' else np.float64(x))"
   ]
  },
  {
   "cell_type": "code",
   "execution_count": 14,
   "id": "45dc8e98",
   "metadata": {},
   "outputs": [
    {
     "name": "stdout",
     "output_type": "stream",
     "text": [
      "villa :  12899 12899\n",
      "apartment-sell :  8 303385\n",
      "apartment-rent :  13 211880\n",
      "office-rent :  70 21418\n",
      "shop-sell :  21855 21855\n",
      "plot-old :  133570 133570\n",
      "house-villa-sell :  121753 121753\n",
      "house-villa-rent :  64678 64678\n",
      "shop-rent :  45993 45993\n",
      "industry-agriculture-business-rent :  9155 9155\n",
      "office-sell :  0 5155\n",
      "industry-agriculture-business-sell :  11850 11851\n",
      "suite-apartment :  16465 16465\n",
      "partnership :  3622 3622\n",
      "workspace :  539 539\n",
      "nan :  0 0\n"
     ]
    }
   ],
   "source": [
    "for cat3 in divar_df['cat3_slug'].unique() :\n",
    "    df = divar_df[divar_df['cat3_slug'] == cat3]['floor']\n",
    "    print(f'{cat3} : ' , df.isnull().sum(), len(df))"
   ]
  },
  {
   "cell_type": "code",
   "execution_count": 15,
   "id": "88008700",
   "metadata": {},
   "outputs": [
    {
     "data": {
      "text/plain": [
       "floor\n",
       "2.0    1\n",
       "Name: count, dtype: int64"
      ]
     },
     "execution_count": 15,
     "metadata": {},
     "output_type": "execute_result"
    }
   ],
   "source": [
    "divar_df[divar_df['cat3_slug'] == 'industry-agriculture-business-sell']['floor'].value_counts()"
   ]
  },
  {
   "cell_type": "code",
   "execution_count": 16,
   "id": "7cad29ab",
   "metadata": {},
   "outputs": [
    {
     "name": "stderr",
     "output_type": "stream",
     "text": [
      "/tmp/ipykernel_2461/3412161687.py:6: RuntimeWarning: Mean of empty slice\n",
      "  mean = np.round(np.nanmean(divar_df[divar_df['cat3_slug'] == cat3]['floor'].to_numpy()))\n"
     ]
    }
   ],
   "source": [
    "# چون مقدار کد بالا یک بود مقادیر گمشده را چون همگی در یک طبقه هستیند بجای 0 با 1 پر میکنیم\n",
    "for cat3 in divar_df['cat3_slug'].unique() :\n",
    "    if divar_df[divar_df['cat3_slug'] == cat3]['floor'].isnull().sum() > 100 :\n",
    "        divar_df.loc[(divar_df['cat3_slug'] == cat3) & (divar_df['floor'].isna()), 'floor'] = 1\n",
    "    else :\n",
    "        mean = np.round(np.nanmean(divar_df[divar_df['cat3_slug'] == cat3]['floor'].to_numpy()))\n",
    "        divar_df.loc[(divar_df['cat3_slug'] == cat3) & (divar_df['floor'].isna()), 'floor'] = mean"
   ]
  },
  {
   "cell_type": "markdown",
   "id": "bf808b3d",
   "metadata": {},
   "source": [
    "### filling rooms_count's missing values"
   ]
  },
  {
   "cell_type": "code",
   "execution_count": 17,
   "id": "b530b354",
   "metadata": {},
   "outputs": [
    {
     "name": "stdout",
     "output_type": "stream",
     "text": [
      "villa :  1 12899\n",
      "apartment-sell :  6 303385\n",
      "apartment-rent :  13 211880\n",
      "office-rent :  70 21418\n",
      "shop-sell :  11 21855\n",
      "plot-old :  133569 133570\n",
      "house-villa-sell :  15 121753\n",
      "house-villa-rent :  11 64678\n",
      "shop-rent :  30 45993\n",
      "industry-agriculture-business-rent :  382 9155\n",
      "office-sell :  0 5155\n",
      "industry-agriculture-business-sell :  581 11851\n",
      "suite-apartment :  4 16465\n",
      "partnership :  3622 3622\n",
      "workspace :  4 539\n",
      "nan :  0 0\n"
     ]
    }
   ],
   "source": [
    "for cat3 in divar_df['cat3_slug'].unique() :\n",
    "    df = divar_df[divar_df['cat3_slug'] == cat3]['rooms_count']\n",
    "    print(f'{cat3} : ' , df.isnull().sum(), len(df))"
   ]
  },
  {
   "cell_type": "code",
   "execution_count": 18,
   "id": "d1dff7b4",
   "metadata": {},
   "outputs": [
    {
     "data": {
      "text/plain": [
       "floor\n",
       "1.0    133570\n",
       "Name: count, dtype: int64"
      ]
     },
     "execution_count": 18,
     "metadata": {},
     "output_type": "execute_result"
    }
   ],
   "source": [
    "divar_df[divar_df['cat3_slug'] == 'plot-old']['floor'].value_counts()"
   ]
  },
  {
   "cell_type": "code",
   "execution_count": 19,
   "id": "17103011",
   "metadata": {},
   "outputs": [
    {
     "data": {
      "text/plain": [
       "floor\n",
       "1.0    3622\n",
       "Name: count, dtype: int64"
      ]
     },
     "execution_count": 19,
     "metadata": {},
     "output_type": "execute_result"
    }
   ],
   "source": [
    "divar_df[divar_df['cat3_slug'] == 'partnership']['floor'].value_counts()"
   ]
  },
  {
   "cell_type": "code",
   "execution_count": 20,
   "id": "b6999daa",
   "metadata": {},
   "outputs": [
    {
     "data": {
      "text/plain": [
       "rooms_count\n",
       "دو              404050\n",
       "یک              192083\n",
       "سه              138633\n",
       "بدون اتاق        75898\n",
       "چهار             21371\n",
       "پنج یا بیشتر     13864\n",
       "Name: count, dtype: int64"
      ]
     },
     "execution_count": 20,
     "metadata": {},
     "output_type": "execute_result"
    }
   ],
   "source": [
    "divar_df['rooms_count'].value_counts()"
   ]
  },
  {
   "cell_type": "code",
   "execution_count": 21,
   "id": "688f1da2",
   "metadata": {},
   "outputs": [],
   "source": [
    "def rooms_counts_convertor(rooms_count) :\n",
    "    if rooms_count == 'یک' :\n",
    "        return 1\n",
    "    elif rooms_count == 'دو' :\n",
    "        return 2\n",
    "    elif rooms_count == 'سه' :\n",
    "        return 3\n",
    "    elif rooms_count == 'چهار' :\n",
    "        return 4\n",
    "    elif rooms_count == 'پنج یا بیشتر' :\n",
    "        return 5\n",
    "    elif rooms_count == 'بدون اتاق' :\n",
    "        return 0\n",
    "    \n",
    "divar_df['rooms_count'] = divar_df['rooms_count'].apply(lambda x: rooms_counts_convertor(x))"
   ]
  },
  {
   "cell_type": "code",
   "execution_count": 22,
   "id": "b57b4333",
   "metadata": {},
   "outputs": [
    {
     "name": "stderr",
     "output_type": "stream",
     "text": [
      "/tmp/ipykernel_2461/1088937509.py:5: RuntimeWarning: Mean of empty slice\n",
      "  mean = np.round(np.nanmean(divar_df[divar_df['cat3_slug'] == cat3]['rooms_count'].to_numpy()))\n"
     ]
    }
   ],
   "source": [
    "for cat3 in divar_df['cat3_slug'].unique() :\n",
    "    if divar_df[divar_df['cat3_slug'] == cat3]['rooms_count'].isnull().sum() > 100 :\n",
    "        divar_df.loc[(divar_df['cat3_slug'] == cat3) & (divar_df['rooms_count'].isna()), 'rooms_count'] = 0\n",
    "    else :\n",
    "        mean = np.round(np.nanmean(divar_df[divar_df['cat3_slug'] == cat3]['rooms_count'].to_numpy()))\n",
    "        divar_df.loc[(divar_df['cat3_slug'] == cat3) & (divar_df['rooms_count'].isna()), 'rooms_count'] = mean"
   ]
  },
  {
   "cell_type": "code",
   "execution_count": null,
   "id": "7fd5140f",
   "metadata": {},
   "outputs": [],
   "source": []
  },
  {
   "cell_type": "markdown",
   "id": "bc1cdea7",
   "metadata": {},
   "source": [
    "### final_price"
   ]
  },
  {
   "cell_type": "code",
   "execution_count": 23,
   "id": "ba8723f5",
   "metadata": {},
   "outputs": [],
   "source": [
    "# محسابه قیمت اصلی از اجاره و رهن و قیمت فروش\n",
    "divar_df['final_price'] = np.where(divar_df['price_value'].notna(), divar_df['price_value'],\n",
    "    np.where((divar_df['transformable_credit'].notna()) | (divar_df['transformable_rent'].notna()),\n",
    "        ((divar_df['transformable_credit'].fillna(0) * 30000) / 1000000) + divar_df['transformable_rent'].fillna(0), np.nan)\n",
    "            )"
   ]
  },
  {
   "cell_type": "markdown",
   "id": "7795702b",
   "metadata": {},
   "source": [
    "### filling construction_year's missing values"
   ]
  },
  {
   "cell_type": "code",
   "execution_count": null,
   "id": "d7f1c37c",
   "metadata": {},
   "outputs": [
    {
     "name": "stdout",
     "output_type": "stream",
     "text": [
      "<class 'pandas.core.series.Series'>\n",
      "Index: 984219 entries, 0 to 999999\n",
      "Series name: construction_year\n",
      "Non-Null Count   Dtype \n",
      "--------------   ----- \n",
      "815828 non-null  object\n",
      "dtypes: object(1)\n",
      "memory usage: 15.0+ MB\n"
     ]
    }
   ],
   "source": [
    "divar_df['construction_year'].info()"
   ]
  },
  {
   "cell_type": "code",
   "execution_count": null,
   "id": "641f100c",
   "metadata": {},
   "outputs": [
    {
     "data": {
      "text/plain": [
       "array([nan, '۱۳۸۴', '۱۴۰۱', '۱۴۰۰', '۱۴۰۳', '۱۳۸۹', '۱۳۹۵', '۱۳۹۳',\n",
       "       '۱۳۹۶', '۱۳۸۷', '۱۳۸۵', '۱۳۹۰', '۱۳۹۸', '۱۴۰۲', '۱۳۸۸',\n",
       "       'قبل از ۱۳۷۰', '۱۳۹۲', '۱۳۸۳', '۱۳۹۴', '۱۳۹۱', '۱۳۸۰', '۱۳۷۸',\n",
       "       '۱۳۷۵', '۱۳۹۷', '۱۳۹۹', '۱۳۸۲', '۱۳۸۶', '۱۳۷۹', '۱۳۷۲', '۱۳۷۴',\n",
       "       '۱۳۷۶', '۱۳۷۷', '۱۳۷۱', '۱۳۸۱', '۱۳۷۳'], dtype=object)"
      ]
     },
     "execution_count": 41,
     "metadata": {},
     "output_type": "execute_result"
    }
   ],
   "source": [
    "divar_df['construction_year'].unique()"
   ]
  },
  {
   "cell_type": "code",
   "execution_count": null,
   "id": "0eb9c6ab",
   "metadata": {},
   "outputs": [],
   "source": [
    "divar_df['construction_year'] = divar_df['construction_year'].apply(lambda x: np.float64(1370) if x == 'قبل از ۱۳۷۰' else np.float64(x))"
   ]
  },
  {
   "cell_type": "code",
   "execution_count": null,
   "id": "c9e37225",
   "metadata": {},
   "outputs": [
    {
     "name": "stdout",
     "output_type": "stream",
     "text": [
      "villa :  12899 12899\n",
      "apartment-sell :  5 303385\n",
      "apartment-rent :  13 211880\n",
      "office-rent :  70 21418\n",
      "shop-sell :  11 21855\n",
      "plot-old :  133569 133570\n",
      "house-villa-sell :  15 121753\n",
      "house-villa-rent :  11 64678\n",
      "shop-rent :  30 45993\n",
      "industry-agriculture-business-rent :  478 9155\n",
      "office-sell :  0 5155\n",
      "industry-agriculture-business-sell :  663 11851\n",
      "suite-apartment :  16465 16465\n",
      "partnership :  3622 3622\n",
      "workspace :  539 539\n",
      "nan :  0 0\n"
     ]
    }
   ],
   "source": [
    "for cat3 in divar_df['cat3_slug'].unique() :\n",
    "    df = divar_df[divar_df['cat3_slug'] == cat3]['construction_year']\n",
    "    print(f'{cat3} : ' , df.isnull().sum(), len(df))"
   ]
  },
  {
   "cell_type": "code",
   "execution_count": null,
   "id": "c0d9430e",
   "metadata": {},
   "outputs": [
    {
     "name": "stdout",
     "output_type": "stream",
     "text": [
      "temporary-rent :  29903 29903\n",
      "residential-sell :  133589 558708\n",
      "residential-rent :  24 276558\n",
      "commercial-rent :  579 76567\n",
      "commercial-sell :  674 38861\n",
      "real-estate-services :  3622 3622\n"
     ]
    }
   ],
   "source": [
    "for cat2 in divar_df['cat2_slug'].unique() :\n",
    "    df = divar_df[divar_df['cat2_slug'] == cat2]['construction_year']\n",
    "    print(f'{cat2} : ' , df.isnull().sum(), len(df))"
   ]
  },
  {
   "cell_type": "code",
   "execution_count": null,
   "id": "0775af64",
   "metadata": {},
   "outputs": [
    {
     "data": {
      "text/plain": [
       "cat2_slug\n",
       "temporary-rent    16465\n",
       "Name: count, dtype: int64"
      ]
     },
     "execution_count": 46,
     "metadata": {},
     "output_type": "execute_result"
    }
   ],
   "source": [
    "divar_df[divar_df['cat3_slug'] == 'suite-apartment']['cat2_slug'].value_counts()"
   ]
  },
  {
   "cell_type": "code",
   "execution_count": null,
   "id": "f3fc244b",
   "metadata": {},
   "outputs": [
    {
     "data": {
      "text/plain": [
       "cat2_slug\n",
       "real-estate-services    3622\n",
       "Name: count, dtype: int64"
      ]
     },
     "execution_count": 137,
     "metadata": {},
     "output_type": "execute_result"
    }
   ],
   "source": [
    "divar_df[divar_df['cat3_slug'] == 'partnership']['cat2_slug'].value_counts()"
   ]
  },
  {
   "cell_type": "code",
   "execution_count": null,
   "id": "2dd03e30",
   "metadata": {},
   "outputs": [
    {
     "data": {
      "text/plain": [
       "cat2_slug\n",
       "temporary-rent    539\n",
       "Name: count, dtype: int64"
      ]
     },
     "execution_count": 81,
     "metadata": {},
     "output_type": "execute_result"
    }
   ],
   "source": [
    "divar_df[divar_df['cat3_slug'] == 'workspace']['cat2_slug'].value_counts()"
   ]
  },
  {
   "cell_type": "code",
   "execution_count": null,
   "id": "a21725c6",
   "metadata": {},
   "outputs": [
    {
     "data": {
      "text/plain": [
       "cat2_slug\n",
       "temporary-rent    12899\n",
       "Name: count, dtype: int64"
      ]
     },
     "execution_count": 82,
     "metadata": {},
     "output_type": "execute_result"
    }
   ],
   "source": [
    "divar_df[divar_df['cat3_slug'] == 'villa']['cat2_slug'].value_counts()"
   ]
  },
  {
   "cell_type": "code",
   "execution_count": null,
   "id": "62954469",
   "metadata": {},
   "outputs": [],
   "source": [
    "# از اونجایی که plot-old ها زمین های تخریبی هستند پس سال ساخت ندارند\n",
    "divar_df.loc[divar_df['cat3_slug'] == 'plot-old', 'construction_year'] = -1"
   ]
  },
  {
   "cell_type": "code",
   "execution_count": null,
   "id": "1a549c7a",
   "metadata": {},
   "outputs": [
    {
     "name": "stdout",
     "output_type": "stream",
     "text": [
      "(16465,) (12899,)\n"
     ]
    },
    {
     "ename": "ValueError",
     "evalue": "x and y must be the same size",
     "output_type": "error",
     "traceback": [
      "\u001b[31m---------------------------------------------------------------------------\u001b[39m",
      "\u001b[31mValueError\u001b[39m                                Traceback (most recent call last)",
      "\u001b[36mCell\u001b[39m\u001b[36m \u001b[39m\u001b[32mIn[39]\u001b[39m\u001b[32m, line 9\u001b[39m\n\u001b[32m      7\u001b[39m cat3_df = divar_df[divar_df[\u001b[33m'\u001b[39m\u001b[33mcat3_slug\u001b[39m\u001b[33m'\u001b[39m] == cat3][\u001b[33m'\u001b[39m\u001b[33mconstruction_year\u001b[39m\u001b[33m'\u001b[39m]\n\u001b[32m      8\u001b[39m \u001b[38;5;28mprint\u001b[39m(suite_apartment_df.shape, cat3_df.shape)\n\u001b[32m----> \u001b[39m\u001b[32m9\u001b[39m axes[i].scatter(suite_apartment_df, cat3_df)\n\u001b[32m     10\u001b[39m axes[i].set_title(cat3_df)\n",
      "\u001b[36mFile \u001b[39m\u001b[32m~/.miniconda3/envs/test/lib/python3.11/site-packages/matplotlib/_api/deprecation.py:453\u001b[39m, in \u001b[36mmake_keyword_only.<locals>.wrapper\u001b[39m\u001b[34m(*args, **kwargs)\u001b[39m\n\u001b[32m    447\u001b[39m \u001b[38;5;28;01mif\u001b[39;00m \u001b[38;5;28mlen\u001b[39m(args) > name_idx:\n\u001b[32m    448\u001b[39m     warn_deprecated(\n\u001b[32m    449\u001b[39m         since, message=\u001b[33m\"\u001b[39m\u001b[33mPassing the \u001b[39m\u001b[38;5;132;01m%(name)s\u001b[39;00m\u001b[33m \u001b[39m\u001b[38;5;132;01m%(obj_type)s\u001b[39;00m\u001b[33m \u001b[39m\u001b[33m\"\u001b[39m\n\u001b[32m    450\u001b[39m         \u001b[33m\"\u001b[39m\u001b[33mpositionally is deprecated since Matplotlib \u001b[39m\u001b[38;5;132;01m%(since)s\u001b[39;00m\u001b[33m; the \u001b[39m\u001b[33m\"\u001b[39m\n\u001b[32m    451\u001b[39m         \u001b[33m\"\u001b[39m\u001b[33mparameter will become keyword-only in \u001b[39m\u001b[38;5;132;01m%(removal)s\u001b[39;00m\u001b[33m.\u001b[39m\u001b[33m\"\u001b[39m,\n\u001b[32m    452\u001b[39m         name=name, obj_type=\u001b[33mf\u001b[39m\u001b[33m\"\u001b[39m\u001b[33mparameter of \u001b[39m\u001b[38;5;132;01m{\u001b[39;00mfunc.\u001b[34m__name__\u001b[39m\u001b[38;5;132;01m}\u001b[39;00m\u001b[33m()\u001b[39m\u001b[33m\"\u001b[39m)\n\u001b[32m--> \u001b[39m\u001b[32m453\u001b[39m \u001b[38;5;28;01mreturn\u001b[39;00m func(*args, **kwargs)\n",
      "\u001b[36mFile \u001b[39m\u001b[32m~/.miniconda3/envs/test/lib/python3.11/site-packages/matplotlib/__init__.py:1521\u001b[39m, in \u001b[36m_preprocess_data.<locals>.inner\u001b[39m\u001b[34m(ax, data, *args, **kwargs)\u001b[39m\n\u001b[32m   1518\u001b[39m \u001b[38;5;129m@functools\u001b[39m.wraps(func)\n\u001b[32m   1519\u001b[39m \u001b[38;5;28;01mdef\u001b[39;00m\u001b[38;5;250m \u001b[39m\u001b[34minner\u001b[39m(ax, *args, data=\u001b[38;5;28;01mNone\u001b[39;00m, **kwargs):\n\u001b[32m   1520\u001b[39m     \u001b[38;5;28;01mif\u001b[39;00m data \u001b[38;5;129;01mis\u001b[39;00m \u001b[38;5;28;01mNone\u001b[39;00m:\n\u001b[32m-> \u001b[39m\u001b[32m1521\u001b[39m         \u001b[38;5;28;01mreturn\u001b[39;00m func(\n\u001b[32m   1522\u001b[39m             ax,\n\u001b[32m   1523\u001b[39m             *\u001b[38;5;28mmap\u001b[39m(cbook.sanitize_sequence, args),\n\u001b[32m   1524\u001b[39m             **{k: cbook.sanitize_sequence(v) \u001b[38;5;28;01mfor\u001b[39;00m k, v \u001b[38;5;129;01min\u001b[39;00m kwargs.items()})\n\u001b[32m   1526\u001b[39m     bound = new_sig.bind(ax, *args, **kwargs)\n\u001b[32m   1527\u001b[39m     auto_label = (bound.arguments.get(label_namer)\n\u001b[32m   1528\u001b[39m                   \u001b[38;5;129;01mor\u001b[39;00m bound.kwargs.get(label_namer))\n",
      "\u001b[36mFile \u001b[39m\u001b[32m~/.miniconda3/envs/test/lib/python3.11/site-packages/matplotlib/axes/_axes.py:4900\u001b[39m, in \u001b[36mAxes.scatter\u001b[39m\u001b[34m(self, x, y, s, c, marker, cmap, norm, vmin, vmax, alpha, linewidths, edgecolors, colorizer, plotnonfinite, **kwargs)\u001b[39m\n\u001b[32m   4898\u001b[39m y = np.ma.ravel(y)\n\u001b[32m   4899\u001b[39m \u001b[38;5;28;01mif\u001b[39;00m x.size != y.size:\n\u001b[32m-> \u001b[39m\u001b[32m4900\u001b[39m     \u001b[38;5;28;01mraise\u001b[39;00m \u001b[38;5;167;01mValueError\u001b[39;00m(\u001b[33m\"\u001b[39m\u001b[33mx and y must be the same size\u001b[39m\u001b[33m\"\u001b[39m)\n\u001b[32m   4902\u001b[39m \u001b[38;5;28;01mif\u001b[39;00m s \u001b[38;5;129;01mis\u001b[39;00m \u001b[38;5;28;01mNone\u001b[39;00m:\n\u001b[32m   4903\u001b[39m     s = (\u001b[32m20\u001b[39m \u001b[38;5;28;01mif\u001b[39;00m mpl.rcParams[\u001b[33m'\u001b[39m\u001b[33m_internal.classic_mode\u001b[39m\u001b[33m'\u001b[39m] \u001b[38;5;28;01melse\u001b[39;00m\n\u001b[32m   4904\u001b[39m          mpl.rcParams[\u001b[33m'\u001b[39m\u001b[33mlines.markersize\u001b[39m\u001b[33m'\u001b[39m] ** \u001b[32m2.0\u001b[39m)\n",
      "\u001b[31mValueError\u001b[39m: x and y must be the same size"
     ]
    },
    {
     "data": {
      "image/png": "[encoded data removed]",
      "text/plain": [
       "<Figure size 2000x2000 with 15 Axes>"
      ]
     },
     "metadata": {},
     "output_type": "display_data"
    }
   ],
   "source": [
    "# اول چک کن که چه چیزی کوریلیشنش با سال ساخت بیشتره بعد ببین کدومو یک از کت 3 سلاگ ها با هر کدوم از تمام نال ها یکی ترن\n",
    "\n",
    "figure, axes = plt.subplots(5, 3, figsize=(20, 20))\n",
    "axes = axes.flatten()\n",
    "\n",
    "for i, cat3 in enumerate(divar_df['cat3_slug'].unique()) :\n",
    "    if i == 15: break\n",
    "    suite_apartment_df = divar_df[divar_df['cat3_slug'] == 'suite-apartment']['construction_year']\n",
    "    cat3_df = divar_df[divar_df['cat3_slug'] == cat3]['construction_year']\n",
    "    suite_apartment_df.rename({ 'construction_year', 'construction_year_suite_apartment' }, axis=1)\n",
    "    cat3_df.rename({ 'construction_year', f'construction_year_{cat3}' }, axis=1)\n",
    "    \n",
    "    df = \n",
    "    \n",
    "    axes[i].scatter(suite_apartment_df, cat3_df)\n",
    "    axes[i].set_title(cat3_df)"
   ]
  },
  {
   "cell_type": "code",
   "execution_count": null,
   "id": "32fc0d9c",
   "metadata": {},
   "outputs": [],
   "source": [
    "# برای پر کردن داده های گمشده suite-apartment از میانگین apartemant-rent و sell استفاده میکنیم چون همگی آپارتمان هستند\n",
    "mean = np.round(np.nanmean(\n",
    "    divar_df[(divar_df['cat3_slug'] == 'apartment-rent')]['construction_year'].to_numpy()\n",
    "))\n",
    "divar_df.loc[divar_df['cat3_slug'] == 'suite-apartment', 'construction_year'] = mean"
   ]
  },
  {
   "cell_type": "code",
   "execution_count": null,
   "id": "675a8f18",
   "metadata": {},
   "outputs": [
    {
     "name": "stdout",
     "output_type": "stream",
     "text": [
      "nan :  0 0\n",
      "-1.0 :  23734 133570\n",
      "1370.0 :  838 20637\n",
      "1371.0 :  112 5531\n",
      "1372.0 :  34 1914\n",
      "1373.0 :  33 1827\n",
      "1374.0 :  26 1289\n",
      "1375.0 :  112 7247\n",
      "1376.0 :  19 1593\n",
      "1377.0 :  34 2117\n",
      "1378.0 :  37 3025\n",
      "1379.0 :  34 2415\n",
      "1380.0 :  293 23480\n",
      "1381.0 :  37 3590\n",
      "1382.0 :  59 6965\n",
      "1383.0 :  60 9894\n",
      "1384.0 :  57 8494\n",
      "1385.0 :  242 34065\n",
      "1386.0 :  109 13468\n",
      "1387.0 :  76 14136\n",
      "1388.0 :  118 24268\n",
      "1389.0 :  82 16755\n",
      "1390.0 :  442 59139\n",
      "1391.0 :  87 16316\n",
      "1392.0 :  145 26130\n",
      "1393.0 :  210 29094\n",
      "1394.0 :  145 26110\n",
      "1395.0 :  351 53029\n",
      "1396.0 :  225 35487\n",
      "1397.0 :  235 36326\n",
      "1398.0 :  288 38207\n",
      "1399.0 :  211 29594\n",
      "1400.0 :  577 53674\n",
      "1401.0 :  299 35328\n",
      "1402.0 :  424 58424\n",
      "1403.0 :  1138 116259\n"
     ]
    }
   ],
   "source": [
    "for construction_year in sorted(divar_df['construction_year'].unique()) :\n",
    "    df = divar_df[divar_df['construction_year'] == construction_year]['final_price']\n",
    "    print(f'{construction_year} : ' , df.isnull().sum(), len(df))\n",
    "    \n",
    "# بیشتر مقدار گمشده final_price هم در plot-old هست"
   ]
  },
  {
   "cell_type": "code",
   "execution_count": null,
   "id": "11f0854f",
   "metadata": {},
   "outputs": [],
   "source": []
  },
  {
   "cell_type": "markdown",
   "id": "4e7626ec",
   "metadata": {},
   "source": [
    "### filling has_balcony's missing values"
   ]
  },
  {
   "cell_type": "code",
   "execution_count": 94,
   "id": "9d4fa9e5",
   "metadata": {},
   "outputs": [
    {
     "name": "stdout",
     "output_type": "stream",
     "text": [
      "[nan 'true' 'false' 'unselect' True False]\n",
      "[nan True False]\n",
      "[nan True False]\n",
      "[nan True False]\n",
      "[nan False True]\n"
     ]
    }
   ],
   "source": [
    "for col in ['has_balcony', 'has_elevator', 'has_warehouse', 'has_parking', 'is_rebuilt'] :\n",
    "    print(divar_df[col].unique())"
   ]
  },
  {
   "cell_type": "code",
   "execution_count": 95,
   "id": "37ffaaea",
   "metadata": {},
   "outputs": [],
   "source": [
    "def has_balcony_convertor(has_balcony) :\n",
    "    if has_balcony == 'true' : return True\n",
    "    elif has_balcony == 'false' : return False\n",
    "    else : return np.nan\n",
    "    \n",
    "divar_df['has_balcony'] = divar_df['has_balcony'].apply(lambda x: has_balcony_convertor(x))"
   ]
  },
  {
   "cell_type": "code",
   "execution_count": 96,
   "id": "ea4e5456",
   "metadata": {},
   "outputs": [
    {
     "data": {
      "text/plain": [
       "np.int64(503268)"
      ]
     },
     "execution_count": 96,
     "metadata": {},
     "output_type": "execute_result"
    }
   ],
   "source": [
    "divar_df['has_balcony'].isnull().sum()"
   ]
  },
  {
   "cell_type": "code",
   "execution_count": 97,
   "id": "7961b55c",
   "metadata": {},
   "outputs": [
    {
     "name": "stdout",
     "output_type": "stream",
     "text": [
      "villa :  12899 12899\n",
      "apartment-sell :  118552 303385\n",
      "apartment-rent :  92914 211880\n",
      "office-rent :  21418 21418\n",
      "shop-sell :  21855 21855\n",
      "plot-old :  133569 133570\n",
      "house-villa-sell :  6045 121753\n",
      "house-villa-rent :  3235 64678\n",
      "shop-rent :  45993 45993\n",
      "industry-agriculture-business-rent :  9155 9155\n",
      "office-sell :  5155 5155\n",
      "industry-agriculture-business-sell :  11851 11851\n",
      "suite-apartment :  16465 16465\n",
      "partnership :  3622 3622\n",
      "workspace :  539 539\n",
      "nan :  0 0\n"
     ]
    }
   ],
   "source": [
    "for cat3 in divar_df['cat3_slug'].unique() :\n",
    "    df = divar_df[divar_df['cat3_slug'] == cat3]['has_balcony']\n",
    "    print(f'{cat3} : ' , df.isnull().sum(), len(df))"
   ]
  },
  {
   "cell_type": "code",
   "execution_count": 98,
   "id": "cba6713b",
   "metadata": {},
   "outputs": [],
   "source": [
    "# چون اکثر ویلا ها بالکن دارند پس null value آنها را مساوی True قرار میدهیم\n",
    "\n",
    "for col in ['villa', 'house-villa-sell', 'house-villa-rent'] :\n",
    "    divar_df.loc[divar_df['cat3_slug'] == col, 'has_balcony'] = True"
   ]
  },
  {
   "cell_type": "code",
   "execution_count": 99,
   "id": "06f2778f",
   "metadata": {},
   "outputs": [
    {
     "name": "stdout",
     "output_type": "stream",
     "text": [
      "apartment-rent :\n",
      " has_balcony\n",
      "True     103744\n",
      "False     15222\n",
      "Name: count, dtype: int64 true:  17241897814.0 false:  4355059392.0 \n",
      "apartment-sell :\n",
      " has_balcony\n",
      "True     170777\n",
      "False     14056\n",
      "Name: count, dtype: int64 true:  16892488450.0 false:  11269581450.0\n"
     ]
    }
   ],
   "source": [
    "print(\n",
    "    'apartment-rent :\\n',\n",
    "    divar_df[divar_df['cat3_slug'] == 'apartment-rent']['has_balcony'].value_counts(),\n",
    "    'true: ', np.round(np.nanmean(divar_df[(divar_df['cat3_slug'] == 'apartment-rent') & (divar_df['has_balcony'] == True)]['final_price'])),\n",
    "    'false: ', np.round(np.nanmean(divar_df[(divar_df['cat3_slug'] == 'apartment-rent') & (divar_df['has_balcony'] == False)]['final_price'])), '\\n'\n",
    "    'apartment-sell :\\n',\n",
    "    divar_df[divar_df['cat3_slug'] == 'apartment-sell']['has_balcony'].value_counts(),\n",
    "    'true: ', np.round(np.nanmean(divar_df[(divar_df['cat3_slug'] == 'apartment-sell') & (divar_df['has_balcony'] == True)]['final_price'])),\n",
    "    'false: ', np.round(np.nanmean(divar_df[(divar_df['cat3_slug'] == 'apartment-sell') & (divar_df['has_balcony'] == False)]['final_price']))\n",
    ")\n",
    "\n",
    "# نتیجه میگریم که آپارتمان هایی که قیمت بیشتری دارند بالکن دارند"
   ]
  },
  {
   "cell_type": "code",
   "execution_count": 100,
   "id": "3584cc71",
   "metadata": {},
   "outputs": [],
   "source": [
    "for col in ['apartment-rent', 'apartment-sell'] :\n",
    "    mean_true_price = np.round(np.nanmean(divar_df[(divar_df['cat3_slug'] == col) & (divar_df['has_balcony'] == True)]['final_price']))\n",
    "    divar_df.loc[(divar_df['cat3_slug'] == col) & (divar_df['has_balcony'].isna()) & (divar_df['final_price'] >= mean_true_price), 'has_balcony'] = True\n",
    "    divar_df.loc[(divar_df['cat3_slug'] == col) & (divar_df['has_balcony'].isna()), 'has_balcony'] = False"
   ]
  },
  {
   "cell_type": "code",
   "execution_count": 101,
   "id": "a5016921",
   "metadata": {},
   "outputs": [],
   "source": [
    "# بقیه مقادیر چون مربوط به مغازه و زمین های تخریبی هستند رو مساوی False قرار میدهیم\n",
    "divar_df.loc[divar_df['has_balcony'].isna(), 'has_balcony'] = False"
   ]
  },
  {
   "cell_type": "code",
   "execution_count": 102,
   "id": "35204a5f",
   "metadata": {},
   "outputs": [
    {
     "data": {
      "text/plain": [
       "has_balcony\n",
       "False    502845\n",
       "True     481374\n",
       "Name: count, dtype: int64"
      ]
     },
     "execution_count": 102,
     "metadata": {},
     "output_type": "execute_result"
    }
   ],
   "source": [
    "divar_df['has_balcony'].value_counts()"
   ]
  },
  {
   "cell_type": "markdown",
   "id": "003f6e3f",
   "metadata": {},
   "source": [
    "### filling has_elevator's missing values"
   ]
  },
  {
   "cell_type": "code",
   "execution_count": 103,
   "id": "18e35ebb",
   "metadata": {},
   "outputs": [
    {
     "data": {
      "text/plain": [
       "has_elevator\n",
       "True     365148\n",
       "False    176601\n",
       "Name: count, dtype: int64"
      ]
     },
     "execution_count": 103,
     "metadata": {},
     "output_type": "execute_result"
    }
   ],
   "source": [
    "divar_df['has_elevator'].value_counts()"
   ]
  },
  {
   "cell_type": "code",
   "execution_count": 104,
   "id": "60c28f44",
   "metadata": {},
   "outputs": [
    {
     "data": {
      "text/plain": [
       "np.int64(442470)"
      ]
     },
     "execution_count": 104,
     "metadata": {},
     "output_type": "execute_result"
    }
   ],
   "source": [
    "divar_df['has_elevator'].isnull().sum()"
   ]
  },
  {
   "cell_type": "code",
   "execution_count": 105,
   "id": "3e4a109c",
   "metadata": {},
   "outputs": [
    {
     "name": "stdout",
     "output_type": "stream",
     "text": [
      "villa :  12899 12899\n",
      "apartment-sell :  7 303385\n",
      "apartment-rent :  13 211880\n",
      "office-rent :  70 21418\n",
      "shop-sell :  21855 21855\n",
      "plot-old :  133570 133570\n",
      "house-villa-sell :  121753 121753\n",
      "house-villa-rent :  64678 64678\n",
      "shop-rent :  45993 45993\n",
      "industry-agriculture-business-rent :  9155 9155\n",
      "office-sell :  0 5155\n",
      "industry-agriculture-business-sell :  11850 11851\n",
      "suite-apartment :  16465 16465\n",
      "partnership :  3622 3622\n",
      "workspace :  539 539\n",
      "nan :  0 0\n"
     ]
    }
   ],
   "source": [
    "for cat3 in divar_df['cat3_slug'].unique() :\n",
    "    df = divar_df[divar_df['cat3_slug'] == cat3]['has_elevator']\n",
    "    print(f'{cat3} : ' , df.isnull().sum(), len(df))"
   ]
  },
  {
   "cell_type": "code",
   "execution_count": 106,
   "id": "ebec3948",
   "metadata": {},
   "outputs": [
    {
     "name": "stdout",
     "output_type": "stream",
     "text": [
      "temporary-rent :  29903 29903\n",
      "residential-sell :  255330 558708\n",
      "residential-rent :  64691 276558\n",
      "commercial-rent :  55219 76567\n",
      "commercial-sell :  33705 38861\n",
      "real-estate-services :  3622 3622\n"
     ]
    }
   ],
   "source": [
    "for cat2 in divar_df['cat2_slug'].unique() :\n",
    "    df = divar_df[divar_df['cat2_slug'] == cat2]['has_elevator']\n",
    "    print(f'{cat2} : ' , df.isnull().sum(), len(df))"
   ]
  },
  {
   "cell_type": "code",
   "execution_count": 107,
   "id": "a4112487",
   "metadata": {},
   "outputs": [
    {
     "data": {
      "text/plain": [
       "has_elevator\n",
       "False    1.991035e+10\n",
       "True     1.560670e+10\n",
       "Name: final_price, dtype: float64"
      ]
     },
     "execution_count": 107,
     "metadata": {},
     "output_type": "execute_result"
    }
   ],
   "source": [
    "divar_df.groupby('has_elevator')['final_price'].mean()"
   ]
  },
  {
   "cell_type": "code",
   "execution_count": 108,
   "id": "e62e0cdf",
   "metadata": {},
   "outputs": [
    {
     "data": {
      "text/plain": [
       "has_elevator\n",
       "False    1065.214897\n",
       "True      476.058245\n",
       "Name: building_size, dtype: float64"
      ]
     },
     "execution_count": 108,
     "metadata": {},
     "output_type": "execute_result"
    }
   ],
   "source": [
    "divar_df.groupby('has_elevator')['building_size'].mean()"
   ]
  },
  {
   "cell_type": "code",
   "execution_count": 109,
   "id": "6f73de11",
   "metadata": {},
   "outputs": [
    {
     "name": "stdout",
     "output_type": "stream",
     "text": [
      "villa :  nan\n",
      "apartment-sell :  442.66907595856804\n",
      "apartment-rent :  521.3722865356227\n",
      "office-rent :  666.6797207286735\n",
      "shop-sell :  nan\n",
      "plot-old :  nan\n",
      "house-villa-sell :  nan\n",
      "house-villa-rent :  nan\n",
      "shop-rent :  nan\n",
      "industry-agriculture-business-rent :  nan\n",
      "office-sell :  253.58465128338088\n",
      "industry-agriculture-business-sell :  nan\n",
      "suite-apartment :  nan\n",
      "partnership :  nan\n",
      "workspace :  nan\n",
      "nan :  nan\n"
     ]
    }
   ],
   "source": [
    "for cat3 in divar_df['cat3_slug'].unique() :\n",
    "    mean = divar_df[(divar_df['cat3_slug'] == cat3) & (divar_df['has_elevator'] == True)]['building_size'].mean()\n",
    "    print(f'{cat3} : ' , mean)"
   ]
  },
  {
   "cell_type": "code",
   "execution_count": 110,
   "id": "e1bf2610",
   "metadata": {},
   "outputs": [
    {
     "name": "stdout",
     "output_type": "stream",
     "text": [
      "villa :  nan\n",
      "apartment-sell :  648.0784669341084\n",
      "apartment-rent :  1182.981805500439\n",
      "office-rent :  3973.4364802520536\n",
      "shop-sell :  nan\n",
      "plot-old :  nan\n",
      "house-villa-sell :  nan\n",
      "house-villa-rent :  nan\n",
      "shop-rent :  nan\n",
      "industry-agriculture-business-rent :  nan\n",
      "office-sell :  365.69029275808936\n",
      "industry-agriculture-business-sell :  485.0\n",
      "suite-apartment :  nan\n",
      "partnership :  nan\n",
      "workspace :  nan\n",
      "nan :  nan\n"
     ]
    }
   ],
   "source": [
    "for cat3 in divar_df['cat3_slug'].unique() :\n",
    "    mean = divar_df[(divar_df['cat3_slug'] == cat3) & (divar_df['has_elevator'] == False)]['building_size'].mean()\n",
    "    print(f'{cat3} : ' , mean)"
   ]
  },
  {
   "cell_type": "code",
   "execution_count": 111,
   "id": "bb997aa8",
   "metadata": {},
   "outputs": [
    {
     "name": "stdout",
     "output_type": "stream",
     "text": [
      "villa :  24937.67315295759\n",
      "apartment-sell :  387.85714285714283\n",
      "apartment-rent :  781.0\n",
      "office-rent :  2043.0\n",
      "shop-sell :  1922.259208419126\n",
      "plot-old :  10931.158269072397\n",
      "house-villa-sell :  2543.3232692418255\n",
      "house-villa-rent :  4675.252852592845\n",
      "shop-rent :  2234.4919009414475\n",
      "industry-agriculture-business-rent :  61111.255379574\n",
      "office-sell :  nan\n",
      "industry-agriculture-business-sell :  70535.57333333333\n",
      "suite-apartment :  3019.5601579107197\n",
      "partnership :  200.0\n",
      "workspace :  19845.359925788496\n",
      "nan :  nan\n"
     ]
    }
   ],
   "source": [
    "for cat3 in divar_df['cat3_slug'].unique() :\n",
    "    mean = divar_df[(divar_df['cat3_slug'] == cat3) & (divar_df['has_elevator'].isna())]['building_size'].mean()\n",
    "    print(f'{cat3} : ' , mean)"
   ]
  },
  {
   "cell_type": "code",
   "execution_count": 112,
   "id": "c869681a",
   "metadata": {},
   "outputs": [
    {
     "name": "stderr",
     "output_type": "stream",
     "text": [
      "/tmp/ipykernel_79511/3227019284.py:7: FutureWarning: Series.__getitem__ treating keys as positions is deprecated. In a future version, integer keys will always be treated as labels (consistent with DataFrame behavior). To access a value by position, use `ser.iloc[pos]`\n",
      "  building_size_mean = divar_df.groupby('has_elevator')['building_size'].mean()[0]\n"
     ]
    }
   ],
   "source": [
    "# چون plot-old و industry-agriculture-business ها اصلا آسانسور ندارند از لحاظ منطقی پس مساوی False قرار میدهیم و بقیه رو با \n",
    "# building_size پر میکنیم\n",
    "\n",
    "for col in ['industry-agriculture-business-sell', 'industry-agriculture-business-rent', 'plot-old'] :\n",
    "    divar_df.loc[(divar_df['cat3_slug'] == col) & (divar_df['has_elevator'].isna()), 'has_elevator'] = False\n",
    "\n",
    "building_size_mean = divar_df.groupby('has_elevator')['building_size'].mean()[0]\n",
    "for col in divar_df['cat3_slug'].unique() :\n",
    "    divar_df.loc[(divar_df['cat3_slug'] == cat3) & (divar_df['has_elevator'].isna()) & (divar_df['building_size'] > building_size_mean), 'has_elevator'] = False\n",
    "    divar_df.loc[(divar_df['cat3_slug'] == cat3) & (divar_df['has_elevator'].isna()), 'has_elevator'] = True"
   ]
  },
  {
   "cell_type": "code",
   "execution_count": 113,
   "id": "400c7ef7",
   "metadata": {},
   "outputs": [],
   "source": [
    "# حالا اونایی که کاملا خالی هستند با False پر میکنیم\n",
    "divar_df.loc[divar_df['has_elevator'].isna(), 'has_elevator'] = False"
   ]
  },
  {
   "cell_type": "markdown",
   "id": "654b7bef",
   "metadata": {},
   "source": [
    "### filling has_warehouse's missing values"
   ]
  },
  {
   "cell_type": "code",
   "execution_count": 70,
   "id": "ef4016cb",
   "metadata": {},
   "outputs": [
    {
     "data": {
      "text/plain": [
       "has_warehouse\n",
       "True     582313\n",
       "False    145842\n",
       "Name: count, dtype: int64"
      ]
     },
     "execution_count": 70,
     "metadata": {},
     "output_type": "execute_result"
    }
   ],
   "source": [
    "divar_df['has_warehouse'].value_counts()"
   ]
  },
  {
   "cell_type": "code",
   "execution_count": 71,
   "id": "58a89941",
   "metadata": {},
   "outputs": [
    {
     "name": "stdout",
     "output_type": "stream",
     "text": [
      "villa :  12899 12899\n",
      "apartment-sell :  7 303385\n",
      "apartment-rent :  13 211880\n",
      "office-rent :  70 21418\n",
      "shop-sell :  21855 21855\n",
      "plot-old :  133569 133570\n",
      "house-villa-sell :  15 121753\n",
      "house-villa-rent :  11 64678\n",
      "shop-rent :  45993 45993\n",
      "industry-agriculture-business-rent :  9155 9155\n",
      "office-sell :  0 5155\n",
      "industry-agriculture-business-sell :  11850 11851\n",
      "suite-apartment :  16465 16465\n",
      "partnership :  3622 3622\n",
      "workspace :  539 539\n",
      "nan :  0 0\n"
     ]
    }
   ],
   "source": [
    "for cat3 in divar_df['cat3_slug'].unique() :\n",
    "    df = divar_df[divar_df['cat3_slug'] == cat3]['has_warehouse']\n",
    "    print(f'{cat3} : ' , df.isnull().sum(), len(df))"
   ]
  },
  {
   "cell_type": "code",
   "execution_count": 73,
   "id": "60c68b6c",
   "metadata": {},
   "outputs": [
    {
     "data": {
      "text/plain": [
       "has_warehouse\n",
       "False    2308.518417\n",
       "True     1094.299030\n",
       "Name: building_size, dtype: float64"
      ]
     },
     "execution_count": 73,
     "metadata": {},
     "output_type": "execute_result"
    }
   ],
   "source": [
    "divar_df.groupby('has_warehouse')['building_size'].mean()"
   ]
  },
  {
   "cell_type": "code",
   "execution_count": 76,
   "id": "6870f8aa",
   "metadata": {},
   "outputs": [
    {
     "data": {
      "text/plain": [
       "has_warehouse\n",
       "False    6001.948570\n",
       "True     3666.856652\n",
       "Name: land_size, dtype: float64"
      ]
     },
     "execution_count": 76,
     "metadata": {},
     "output_type": "execute_result"
    }
   ],
   "source": [
    "divar_df.groupby('has_warehouse')['land_size'].mean()"
   ]
  },
  {
   "cell_type": "code",
   "execution_count": 77,
   "id": "56b476c6",
   "metadata": {},
   "outputs": [
    {
     "name": "stdout",
     "output_type": "stream",
     "text": [
      "villa :  24937.67315295759\n",
      "apartment-sell :  499.0383473144684\n",
      "apartment-rent :  781.0515291674533\n",
      "office-rent :  2043.2550191427772\n",
      "shop-sell :  1922.259208419126\n",
      "plot-old :  10931.158269072397\n",
      "house-villa-sell :  2543.3232692418255\n",
      "house-villa-rent :  4675.252852592845\n",
      "shop-rent :  2234.4919009414475\n",
      "industry-agriculture-business-rent :  61111.255379574\n",
      "office-sell :  281.81222114451987\n",
      "industry-agriculture-business-sell :  70529.66239135938\n",
      "suite-apartment :  3019.5601579107197\n",
      "partnership :  200.0\n",
      "workspace :  19845.359925788496\n",
      "nan :  nan\n"
     ]
    }
   ],
   "source": [
    "for cat3 in divar_df['cat3_slug'].unique() :\n",
    "    mean = divar_df[(divar_df['cat3_slug'] == cat3)]['building_size'].mean()\n",
    "    print(f'{cat3} : ' , mean)"
   ]
  },
  {
   "cell_type": "code",
   "execution_count": 45,
   "id": "4f40a506",
   "metadata": {},
   "outputs": [
    {
     "name": "stdout",
     "output_type": "stream",
     "text": [
      "temporary-rent_true :  12777.47226030833 nan\n",
      "temporary-rent_false :  12777.47226030833 nan\n",
      "residential-sell_true :  3438.5274544126805 892.5855585169489\n",
      "residential-sell_false :  3438.5274544126805 2193.9644515357\n",
      "residential-rent_true :  1691.7796700872873 1359.8317037623303\n",
      "residential-rent_false :  1691.7796700872873 2683.7104670955828\n",
      "commercial-rent_true :  9220.775072812046 3131.756117372322\n",
      "commercial-rent_false :  9220.775072812046 1110.9452995912688\n",
      "commercial-sell_true :  22627.074599212578 390.0153024911032\n",
      "commercial-sell_false :  22627.074599212578 152.29497016197783\n",
      "real-estate-services_true :  200.0 nan\n",
      "real-estate-services_false :  200.0 nan\n"
     ]
    }
   ],
   "source": [
    "for cat2 in divar_df['cat2_slug'].unique() :\n",
    "    mean = divar_df[(divar_df['cat2_slug'] == cat2)]['building_size'].mean()\n",
    "    print(f'{cat2}_true : ', mean, divar_df[(divar_df['cat2_slug'] == cat2) & (divar_df['has_warehouse'] == True)]['building_size'].mean())\n",
    "    print(f'{cat2}_false : ', mean, divar_df[(divar_df['cat2_slug'] == cat2) & (divar_df['has_warehouse'] == False)]['building_size'].mean())"
   ]
  },
  {
   "cell_type": "code",
   "execution_count": 47,
   "id": "4dc2b09f",
   "metadata": {},
   "outputs": [
    {
     "data": {
      "text/plain": [
       "array(['villa', 'suite-apartment', 'workspace'], dtype=object)"
      ]
     },
     "execution_count": 47,
     "metadata": {},
     "output_type": "execute_result"
    }
   ],
   "source": [
    "divar_df[divar_df['cat2_slug'] == 'temporary-rent']['cat3_slug'].unique()"
   ]
  },
  {
   "cell_type": "code",
   "execution_count": 114,
   "id": "5c1bb4d3",
   "metadata": {},
   "outputs": [],
   "source": [
    "# طبق تحلیل بالا ویلا ها چون اکثرا انباری دارند را مساوی True میگذاریم\n",
    "# برای real-estate-services False\n",
    "# برای بقیه با توجه به میانگین buidling_size\n",
    "\n",
    "divar_df.loc[divar_df['cat3_slug'] == 'villa', 'has_warehouse'] = True\n",
    "divar_df.loc[divar_df['cat2_slug'] == 'real-estate-services', 'has_warehouse'] = False\n",
    "\n",
    "for cat2 in divar_df['cat2_slug'].unique() :\n",
    "    mean = divar_df[(divar_df['cat2_slug'] == cat2) & (divar_df['has_warehouse'] == True)]['building_size'].mean()\n",
    "    divar_df.loc[(divar_df['cat2_slug'] == cat2) & (divar_df['has_warehouse'].isna()) & (divar_df['building_size'] > mean), 'has_warehouse'] = True\n",
    "    divar_df.loc[(divar_df['cat2_slug'] == cat2) & (divar_df['has_warehouse'].isna()), 'has_warehouse'] = False"
   ]
  },
  {
   "cell_type": "code",
   "execution_count": 50,
   "id": "0fab719f",
   "metadata": {},
   "outputs": [
    {
     "data": {
      "text/plain": [
       "has_warehouse\n",
       "True     634763\n",
       "False    349456\n",
       "Name: count, dtype: int64"
      ]
     },
     "execution_count": 50,
     "metadata": {},
     "output_type": "execute_result"
    }
   ],
   "source": [
    "divar_df['has_warehouse'].value_counts()"
   ]
  },
  {
   "cell_type": "markdown",
   "id": "9541522d",
   "metadata": {},
   "source": [
    "### filling has_parking's missing values"
   ]
  },
  {
   "cell_type": "code",
   "execution_count": 51,
   "id": "75c7dfb0",
   "metadata": {},
   "outputs": [
    {
     "data": {
      "text/plain": [
       "has_parking\n",
       "True     552542\n",
       "False    175614\n",
       "Name: count, dtype: int64"
      ]
     },
     "execution_count": 51,
     "metadata": {},
     "output_type": "execute_result"
    }
   ],
   "source": [
    "divar_df['has_parking'].value_counts()"
   ]
  },
  {
   "cell_type": "code",
   "execution_count": 52,
   "id": "cc9a913c",
   "metadata": {},
   "outputs": [
    {
     "data": {
      "text/plain": [
       "np.int64(256063)"
      ]
     },
     "execution_count": 52,
     "metadata": {},
     "output_type": "execute_result"
    }
   ],
   "source": [
    "divar_df['has_parking'].isnull().sum()"
   ]
  },
  {
   "cell_type": "code",
   "execution_count": 53,
   "id": "1849d025",
   "metadata": {},
   "outputs": [
    {
     "name": "stdout",
     "output_type": "stream",
     "text": [
      "villa :  12899 12899\n",
      "apartment-sell :  6 303385\n",
      "apartment-rent :  13 211880\n",
      "office-rent :  70 21418\n",
      "shop-sell :  21855 21855\n",
      "plot-old :  133569 133570\n",
      "house-villa-sell :  15 121753\n",
      "house-villa-rent :  11 64678\n",
      "shop-rent :  45993 45993\n",
      "industry-agriculture-business-rent :  9155 9155\n",
      "office-sell :  0 5155\n",
      "industry-agriculture-business-sell :  11850 11851\n",
      "suite-apartment :  16465 16465\n",
      "partnership :  3622 3622\n",
      "workspace :  539 539\n",
      "nan :  0 0\n"
     ]
    }
   ],
   "source": [
    "for cat3 in divar_df['cat3_slug'].unique() :\n",
    "    df = divar_df[divar_df['cat3_slug'] == cat3]['has_parking']\n",
    "    print(f'{cat3} : ' , df.isnull().sum(), len(df))"
   ]
  },
  {
   "cell_type": "code",
   "execution_count": 115,
   "id": "f80eb0fd",
   "metadata": {},
   "outputs": [],
   "source": [
    "# از لحاظ منطقی پر میکنیم\n",
    "for col in ['villa', 'workspace'] :\n",
    "    divar_df.loc[(divar_df['cat3_slug'] == col) & (divar_df['has_parking'].isna()), 'has_parking'] = True\n",
    "    \n",
    "for col in ['shop-sell', 'plot-old', 'shop-rent', 'industry-agriculture-business-rent', 'industry-agriculture-business-sell', 'partnership', 'suite-apartment'] :\n",
    "    divar_df.loc[(divar_df['cat3_slug'] == col) & (divar_df['has_parking'].isna()), 'has_parking'] = False\n",
    "    \n",
    "for col in divar_df['cat3_slug'].unique() :\n",
    "    divar_df.loc[(divar_df['cat3_slug'] == col) & (divar_df['has_parking'].isna()), 'has_parking'] = True"
   ]
  },
  {
   "cell_type": "code",
   "execution_count": 116,
   "id": "0f494f57",
   "metadata": {},
   "outputs": [
    {
     "data": {
      "text/plain": [
       "has_parking\n",
       "True     566095\n",
       "False    418123\n",
       "Name: count, dtype: int64"
      ]
     },
     "execution_count": 116,
     "metadata": {},
     "output_type": "execute_result"
    }
   ],
   "source": [
    "divar_df['has_parking'].value_counts()"
   ]
  },
  {
   "cell_type": "markdown",
   "id": "33b1cdbb",
   "metadata": {},
   "source": [
    "### filling is_rebuilt's missing values"
   ]
  },
  {
   "cell_type": "code",
   "execution_count": 117,
   "id": "a11b2bc5",
   "metadata": {},
   "outputs": [
    {
     "data": {
      "text/plain": [
       "is_rebuilt\n",
       "False    353191\n",
       "True     176279\n",
       "Name: count, dtype: int64"
      ]
     },
     "execution_count": 117,
     "metadata": {},
     "output_type": "execute_result"
    }
   ],
   "source": [
    "divar_df['is_rebuilt'].value_counts()"
   ]
  },
  {
   "cell_type": "code",
   "execution_count": 118,
   "id": "055ee3a6",
   "metadata": {},
   "outputs": [
    {
     "data": {
      "text/plain": [
       "np.int64(454749)"
      ]
     },
     "execution_count": 118,
     "metadata": {},
     "output_type": "execute_result"
    }
   ],
   "source": [
    "divar_df['is_rebuilt'].isnull().sum()"
   ]
  },
  {
   "cell_type": "code",
   "execution_count": 119,
   "id": "bffb29d6",
   "metadata": {},
   "outputs": [
    {
     "name": "stdout",
     "output_type": "stream",
     "text": [
      "villa :  12899 12899\n",
      "apartment-sell :  78535 303385\n",
      "apartment-rent :  54797 211880\n",
      "office-rent :  21418 21418\n",
      "shop-sell :  21855 21855\n",
      "plot-old :  133569 133570\n",
      "house-villa-sell :  29897 121753\n",
      "house-villa-rent :  8998 64678\n",
      "shop-rent :  45993 45993\n",
      "industry-agriculture-business-rent :  9155 9155\n",
      "office-sell :  5155 5155\n",
      "industry-agriculture-business-sell :  11851 11851\n",
      "suite-apartment :  16465 16465\n",
      "partnership :  3622 3622\n",
      "workspace :  539 539\n",
      "nan :  0 0\n"
     ]
    }
   ],
   "source": [
    "for cat3 in divar_df['cat3_slug'].unique() :\n",
    "    df = divar_df[divar_df['cat3_slug'] == cat3]['is_rebuilt']\n",
    "    print(f'{cat3} : ' , df.isnull().sum(), len(df))"
   ]
  },
  {
   "cell_type": "code",
   "execution_count": 120,
   "id": "a7cc4d3d",
   "metadata": {},
   "outputs": [
    {
     "name": "stdout",
     "output_type": "stream",
     "text": [
      "temporary-rent :  29903 29903\n",
      "residential-sell :  242001 558708\n",
      "residential-rent :  63795 276558\n",
      "commercial-rent :  76567 76567\n",
      "commercial-sell :  38861 38861\n",
      "real-estate-services :  3622 3622\n"
     ]
    }
   ],
   "source": [
    "for cat2 in divar_df['cat2_slug'].unique() :\n",
    "    df = divar_df[divar_df['cat2_slug'] == cat2]['is_rebuilt']\n",
    "    print(f'{cat2} : ' , df.isnull().sum(), len(df))"
   ]
  },
  {
   "cell_type": "code",
   "execution_count": 123,
   "id": "e96ebfd4",
   "metadata": {},
   "outputs": [
    {
     "data": {
      "text/plain": [
       "array(['villa', 'suite-apartment', 'workspace'], dtype=object)"
      ]
     },
     "execution_count": 123,
     "metadata": {},
     "output_type": "execute_result"
    }
   ],
   "source": [
    "divar_df[divar_df['cat2_slug'] == 'temporary-rent']['cat3_slug'].unique()"
   ]
  },
  {
   "cell_type": "code",
   "execution_count": 122,
   "id": "dd7aab71",
   "metadata": {},
   "outputs": [
    {
     "data": {
      "text/plain": [
       "is_rebuilt  cat2_slug       \n",
       "False       residential-rent    3.424559e+10\n",
       "            residential-sell    1.964264e+10\n",
       "True        residential-rent    1.968991e+10\n",
       "            residential-sell    1.438509e+10\n",
       "Name: final_price, dtype: float64"
      ]
     },
     "execution_count": 122,
     "metadata": {},
     "output_type": "execute_result"
    }
   ],
   "source": [
    "divar_df.groupby(['is_rebuilt', 'cat2_slug'])['final_price'].mean()"
   ]
  },
  {
   "cell_type": "code",
   "execution_count": 126,
   "id": "068186cf",
   "metadata": {},
   "outputs": [],
   "source": [
    "# خب میشه تحلیل کرد که اونهایی که commertial رفتن بازسازی نشدن\n",
    "# بقیه موارد رو هم با توجه به قیمت میشه پر کرد\n",
    "\n",
    "for cat2 in ['commercial-sell','commercial-rent', 'real-estate-services'] :\n",
    "    divar_df.loc[divar_df['cat2_slug'] == cat2, 'is_rebuilt'] = False\n",
    "    \n",
    "for cat2 in ['residential-sell', 'residential-rent'] :\n",
    "    mean = divar_df[(divar_df['cat2_slug'] == cat2) & (divar_df['is_rebuilt'] == True)]['final_price'].mean()\n",
    "    divar_df.loc[(divar_df['cat2_slug'] == cat2) & (divar_df['is_rebuilt'].isna()) & (divar_df['final_price'] >= mean), 'is_rebuilt'] = False\n",
    "    divar_df.loc[(divar_df['cat2_slug'] == cat2) & (divar_df['is_rebuilt'].isna()), 'is_rebuilt'] = True"
   ]
  },
  {
   "cell_type": "code",
   "execution_count": 128,
   "id": "71f6c1b5",
   "metadata": {},
   "outputs": [],
   "source": [
    "# فرض میکنیم رابطه خطی بین ستون ها وجود داره\n",
    "# برای بعدا\n",
    "\n",
    "divar_df.loc[(divar_df['cat2_slug'] == 'temporary-rent') & (divar_df['is_rebuilt'].isna()), 'is_rebuilt'] = False"
   ]
  },
  {
   "cell_type": "markdown",
   "id": "f978a41e",
   "metadata": {},
   "source": [
    "### filling has_barbecue's missing values"
   ]
  },
  {
   "cell_type": "code",
   "execution_count": null,
   "id": "ea8fa233",
   "metadata": {},
   "outputs": [],
   "source": []
  },
  {
   "cell_type": "markdown",
   "id": "2b4184fa",
   "metadata": {},
   "source": [
    "### filling has_pool's missing values"
   ]
  },
  {
   "cell_type": "code",
   "execution_count": null,
   "id": "cfbd7673",
   "metadata": {},
   "outputs": [],
   "source": []
  },
  {
   "cell_type": "markdown",
   "id": "d04b0f3f",
   "metadata": {},
   "source": [
    "### filling final_price's missing values"
   ]
  },
  {
   "cell_type": "code",
   "execution_count": null,
   "id": "5b3e068b",
   "metadata": {},
   "outputs": [
    {
     "data": {
      "text/plain": [
       "np.int64(64867)"
      ]
     },
     "execution_count": 130,
     "metadata": {},
     "output_type": "execute_result"
    }
   ],
   "source": [
    "df['final_price_log'] = np.log1p(df['final_price'])\n",
    "data = df['final_price_log'].dropna()\n",
    "plt.figure(figsize=(10,5))\n",
    "sns.histplot(data, bins=100, kde=True)\n",
    "plt.title(\"Histogram of final_price_log\")\n",
    "plt.xlabel(\"final_price_log\")\n",
    "plt.ylabel(\"Frequency\")\n",
    "plt.show()"
   ]
  },
  {
   "cell_type": "markdown",
   "id": "1bc04e3b",
   "metadata": {},
   "source": [
    "### encoding"
   ]
  },
  {
   "cell_type": "code",
   "execution_count": null,
   "id": "88b84df4",
   "metadata": {},
   "outputs": [],
   "source": []
  },
  {
   "cell_type": "markdown",
   "id": "cb05133e",
   "metadata": {},
   "source": [
    "### model"
   ]
  },
  {
   "cell_type": "code",
   "execution_count": null,
   "id": "ba197392",
   "metadata": {},
   "outputs": [],
   "source": [
    "columns = ['cat3_slug', 'neighborhood_slug', 'building_size', 'floor', 'rooms_count', 'has_balcony', 'has_elevator', 'has_warehouse', 'has_parking', 'construction_year', 'is_rebuilt', 'final_price']"
   ]
  }
 ],
 "metadata": {
  "kernelspec": {
   "display_name": "test",
   "language": "python",
   "name": "python3"
  },
  "language_info": {
   "codemirror_mode": {
    "name": "ipython",
    "version": 3
   },
   "file_extension": ".py",
   "mimetype": "text/x-python",
   "name": "python",
   "nbconvert_exporter": "python",
   "pygments_lexer": "ipython3",
   "version": "3.11.13"
  }
 },
 "nbformat": 4,
 "nbformat_minor": 5
}
