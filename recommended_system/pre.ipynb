{
 "cells": [
  {
   "cell_type": "code",
   "execution_count": 1,
   "id": "4126a3c3",
   "metadata": {},
   "outputs": [],
   "source": [
    "import matplotlib.pyplot as plt\n",
    "import geopandas as gpd\n",
    "import seaborn as sns\n",
    "import pandas as pd\n",
    "import numpy as np"
   ]
  },
  {
   "cell_type": "code",
   "execution_count": 2,
   "id": "b433832b",
   "metadata": {},
   "outputs": [
    {
     "name": "stderr",
     "output_type": "stream",
     "text": [
      "/tmp/ipykernel_2491/1278108169.py:1: DtypeWarning: Columns (11,27,29,53) have mixed types. Specify dtype option on import or set low_memory=False.\n",
      "  divar_df = pd.read_csv('../datasets/Divar.csv')\n"
     ]
    }
   ],
   "source": [
    "divar_df = pd.read_csv('../datasets/Divar.csv')"
   ]
  },
  {
   "cell_type": "code",
   "execution_count": 3,
   "id": "64fa5c10",
   "metadata": {},
   "outputs": [
    {
     "data": {
      "text/plain": [
       "array(['temporary-rent', 'residential-sell', 'residential-rent',\n",
       "       'commercial-rent', 'commercial-sell', 'real-estate-services'],\n",
       "      dtype=object)"
      ]
     },
     "execution_count": 3,
     "metadata": {},
     "output_type": "execute_result"
    }
   ],
   "source": [
    "divar_df['cat2_slug'].unique()"
   ]
  },
  {
   "cell_type": "code",
   "execution_count": 3,
   "id": "4bdd8244",
   "metadata": {},
   "outputs": [],
   "source": [
    "divar_df = divar_df[(divar_df['cat2_slug'] != 'real-estate-services') & (divar_df['cat2_slug'] != 'temporary-rent')]"
   ]
  },
  {
   "cell_type": "markdown",
   "id": "ef97fa3f",
   "metadata": {},
   "source": [
    "### building_size"
   ]
  },
  {
   "cell_type": "code",
   "execution_count": 10,
   "id": "a8a52025",
   "metadata": {},
   "outputs": [
    {
     "name": "stdout",
     "output_type": "stream",
     "text": [
      "apartment-sell :  0 303385\n",
      "apartment-rent :  0 211880\n",
      "office-rent :  0 21418\n",
      "shop-sell :  0 21855\n",
      "plot-old :  0 133570\n",
      "house-villa-sell :  0 121753\n",
      "house-villa-rent :  0 64678\n",
      "shop-rent :  0 45993\n",
      "industry-agriculture-business-rent :  0 9155\n",
      "office-sell :  0 5155\n",
      "industry-agriculture-business-sell :  0 11851\n",
      "nan :  0 0\n"
     ]
    }
   ],
   "source": [
    "for cat3 in divar_df['cat3_slug'].unique() :\n",
    "    df = divar_df[divar_df['cat3_slug'] == cat3]['building_size']\n",
    "    print(f'{cat3} : ' , df.isnull().sum(), len(df))"
   ]
  },
  {
   "cell_type": "code",
   "execution_count": 11,
   "id": "70010b26",
   "metadata": {},
   "outputs": [
    {
     "name": "stderr",
     "output_type": "stream",
     "text": [
      "/tmp/ipykernel_2491/3681495114.py:2: RuntimeWarning: Mean of empty slice\n",
      "  mean = np.round(np.nanmean(divar_df[divar_df['cat3_slug'] == cat3]['building_size'].to_numpy()))\n"
     ]
    }
   ],
   "source": [
    "for cat3 in divar_df['cat3_slug'].unique() :\n",
    "    mean = np.round(np.nanmean(divar_df[divar_df['cat3_slug'] == cat3]['building_size'].to_numpy()))\n",
    "    divar_df.loc[(divar_df['cat3_slug'] == cat3) & (divar_df['building_size'].isna()), 'building_size'] = mean"
   ]
  },
  {
   "cell_type": "markdown",
   "id": "e28ed0b9",
   "metadata": {},
   "source": [
    "### floor"
   ]
  },
  {
   "cell_type": "code",
   "execution_count": 12,
   "id": "6b537520",
   "metadata": {},
   "outputs": [],
   "source": [
    "divar_df['floor'] = divar_df['floor'].apply(lambda x: np.float64(30) if x == '30+' else np.float64(x))"
   ]
  },
  {
   "cell_type": "code",
   "execution_count": 13,
   "id": "dbe77abc",
   "metadata": {},
   "outputs": [
    {
     "name": "stdout",
     "output_type": "stream",
     "text": [
      "apartment-sell :  0 303385\n",
      "apartment-rent :  0 211880\n",
      "office-rent :  0 21418\n",
      "shop-sell :  0 21855\n",
      "plot-old :  0 133570\n",
      "house-villa-sell :  0 121753\n",
      "house-villa-rent :  0 64678\n",
      "shop-rent :  0 45993\n",
      "industry-agriculture-business-rent :  0 9155\n",
      "office-sell :  0 5155\n",
      "industry-agriculture-business-sell :  0 11851\n",
      "nan :  0 0\n"
     ]
    }
   ],
   "source": [
    "for cat3 in divar_df['cat3_slug'].unique() :\n",
    "    df = divar_df[divar_df['cat3_slug'] == cat3]['floor']\n",
    "    print(f'{cat3} : ' , df.isnull().sum(), len(df))"
   ]
  },
  {
   "cell_type": "code",
   "execution_count": 14,
   "id": "8cbd54f6",
   "metadata": {},
   "outputs": [
    {
     "name": "stderr",
     "output_type": "stream",
     "text": [
      "/tmp/ipykernel_2491/2803813171.py:5: RuntimeWarning: Mean of empty slice\n",
      "  mean = np.round(np.nanmean(divar_df[divar_df['cat3_slug'] == cat3]['floor'].to_numpy()))\n"
     ]
    }
   ],
   "source": [
    "for cat3 in divar_df['cat3_slug'].unique() :\n",
    "    if divar_df[divar_df['cat3_slug'] == cat3]['floor'].isnull().sum() > 100 :\n",
    "        divar_df.loc[(divar_df['cat3_slug'] == cat3) & (divar_df['floor'].isna()), 'floor'] = 0\n",
    "    else :\n",
    "        mean = np.round(np.nanmean(divar_df[divar_df['cat3_slug'] == cat3]['floor'].to_numpy()))\n",
    "        divar_df.loc[(divar_df['cat3_slug'] == cat3) & (divar_df['floor'].isna()), 'floor'] = mean"
   ]
  },
  {
   "cell_type": "code",
   "execution_count": 15,
   "id": "495bfa32",
   "metadata": {},
   "outputs": [
    {
     "data": {
      "text/plain": [
       "np.int64(1)"
      ]
     },
     "execution_count": 15,
     "metadata": {},
     "output_type": "execute_result"
    }
   ],
   "source": [
    "divar_df['floor'].isnull().sum()"
   ]
  },
  {
   "cell_type": "markdown",
   "id": "bdd2d9d1",
   "metadata": {},
   "source": [
    "### rooms_count"
   ]
  },
  {
   "cell_type": "code",
   "execution_count": 16,
   "id": "6bc4eefa",
   "metadata": {},
   "outputs": [
    {
     "name": "stdout",
     "output_type": "stream",
     "text": [
      "apartment-sell :  6 303385\n",
      "apartment-rent :  13 211880\n",
      "office-rent :  70 21418\n",
      "shop-sell :  11 21855\n",
      "plot-old :  133569 133570\n",
      "house-villa-sell :  15 121753\n",
      "house-villa-rent :  11 64678\n",
      "shop-rent :  30 45993\n",
      "industry-agriculture-business-rent :  382 9155\n",
      "office-sell :  0 5155\n",
      "industry-agriculture-business-sell :  581 11851\n",
      "nan :  0 0\n"
     ]
    }
   ],
   "source": [
    "for cat3 in divar_df['cat3_slug'].unique() :\n",
    "    df = divar_df[divar_df['cat3_slug'] == cat3]['rooms_count']\n",
    "    print(f'{cat3} : ' , df.isnull().sum(), len(df))"
   ]
  },
  {
   "cell_type": "code",
   "execution_count": 17,
   "id": "62439b03",
   "metadata": {},
   "outputs": [],
   "source": [
    "def rooms_counts_convertor(rooms_count) :\n",
    "    if rooms_count == 'یک' :\n",
    "        return 1\n",
    "    elif rooms_count == 'دو' :\n",
    "        return 2\n",
    "    elif rooms_count == 'سه' :\n",
    "        return 3\n",
    "    elif rooms_count == 'چهار' :\n",
    "        return 4\n",
    "    elif rooms_count == 'پنج یا بیشتر' :\n",
    "        return 5\n",
    "    elif rooms_count == 'بدون اتاق' :\n",
    "        return 0\n",
    "    \n",
    "divar_df['rooms_count'] = divar_df['rooms_count'].apply(lambda x: rooms_counts_convertor(x))"
   ]
  },
  {
   "cell_type": "code",
   "execution_count": 18,
   "id": "58f6e9cf",
   "metadata": {},
   "outputs": [
    {
     "name": "stderr",
     "output_type": "stream",
     "text": [
      "/tmp/ipykernel_2491/622566082.py:5: RuntimeWarning: Mean of empty slice\n",
      "  mean = np.round(np.nanmean(divar_df[divar_df['cat3_slug'] == cat3]['rooms_count'].to_numpy()))\n"
     ]
    }
   ],
   "source": [
    "for cat3 in divar_df['cat3_slug'].unique() :\n",
    "    if cat3 == 'plot-old' :\n",
    "        divar_df.loc[(divar_df['cat3_slug'] == cat3) & (divar_df['rooms_count'].isna()), 'rooms_count'] = 0\n",
    "    else :\n",
    "        mean = np.round(np.nanmean(divar_df[divar_df['cat3_slug'] == cat3]['rooms_count'].to_numpy()))\n",
    "        divar_df.loc[(divar_df['cat3_slug'] == cat3) & (divar_df['rooms_count'].isna()), 'rooms_count'] = mean"
   ]
  },
  {
   "cell_type": "markdown",
   "id": "a07c1792",
   "metadata": {},
   "source": [
    "### final_price"
   ]
  },
  {
   "cell_type": "code",
   "execution_count": 19,
   "id": "f3b87b3e",
   "metadata": {},
   "outputs": [],
   "source": [
    "divar_df['final_price'] = np.where(divar_df['price_value'].notna(), divar_df['price_value'],\n",
    "    np.where((divar_df['transformable_credit'].notna()) | (divar_df['transformable_rent'].notna()),\n",
    "        ((divar_df['transformable_credit'].fillna(0) * 30000) / 1000000) + divar_df['transformable_rent'].fillna(0), np.nan)\n",
    "            )"
   ]
  },
  {
   "cell_type": "markdown",
   "id": "c6ecced1",
   "metadata": {},
   "source": [
    "### construction_year"
   ]
  },
  {
   "cell_type": "code",
   "execution_count": 20,
   "id": "60068b76",
   "metadata": {},
   "outputs": [],
   "source": [
    "persian_to_english = str.maketrans(\"۰۱۲۳۴۵۶۷۸۹\", \"0123456789\")\n",
    "def convert(x):\n",
    "    if 'قبل' in str(x):\n",
    "        return 1369\n",
    "    elif not pd.notna(x) : return x\n",
    "    return int(str(x).translate(persian_to_english))\n",
    "\n",
    "divar_df['construction_year'] = divar_df['construction_year'].apply(convert)"
   ]
  },
  {
   "cell_type": "code",
   "execution_count": 21,
   "id": "910084a1",
   "metadata": {},
   "outputs": [
    {
     "name": "stdout",
     "output_type": "stream",
     "text": [
      "apartment-sell :  5 303385\n",
      "apartment-rent :  13 211880\n",
      "office-rent :  70 21418\n",
      "shop-sell :  11 21855\n",
      "plot-old :  133569 133570\n",
      "house-villa-sell :  15 121753\n",
      "house-villa-rent :  11 64678\n",
      "shop-rent :  30 45993\n",
      "industry-agriculture-business-rent :  478 9155\n",
      "office-sell :  0 5155\n",
      "industry-agriculture-business-sell :  663 11851\n",
      "nan :  0 0\n"
     ]
    }
   ],
   "source": [
    "for cat3 in divar_df['cat3_slug'].unique() :\n",
    "    df = divar_df[divar_df['cat3_slug'] == cat3]['construction_year']\n",
    "    print(f'{cat3} : ' , df.isnull().sum(), len(df))"
   ]
  },
  {
   "cell_type": "code",
   "execution_count": 22,
   "id": "5b7c4f4f",
   "metadata": {},
   "outputs": [
    {
     "data": {
      "text/plain": [
       "array(['residential-sell', 'residential-rent', 'commercial-rent',\n",
       "       'commercial-sell'], dtype=object)"
      ]
     },
     "execution_count": 22,
     "metadata": {},
     "output_type": "execute_result"
    }
   ],
   "source": [
    "divar_df['cat2_slug'].unique()"
   ]
  },
  {
   "cell_type": "code",
   "execution_count": 23,
   "id": "657e06e1",
   "metadata": {},
   "outputs": [],
   "source": [
    "divar_df.loc[divar_df['cat3_slug'] == 'plot-old', 'construction_year'] = 1370"
   ]
  },
  {
   "cell_type": "code",
   "execution_count": 24,
   "id": "e00bb08d",
   "metadata": {},
   "outputs": [
    {
     "name": "stderr",
     "output_type": "stream",
     "text": [
      "/tmp/ipykernel_2491/4002084911.py:2: RuntimeWarning: Mean of empty slice\n",
      "  mean = np.round(np.nanmean(\n"
     ]
    }
   ],
   "source": [
    "for cat3 in divar_df['cat3_slug'].unique() :\n",
    "    mean = np.round(np.nanmean(\n",
    "        divar_df[(divar_df['cat3_slug'] == cat3)]['construction_year'].to_numpy()\n",
    "    ))\n",
    "    divar_df.loc[(divar_df['cat3_slug'] == cat3) & (divar_df['construction_year'].isna()), 'construction_year'] = mean"
   ]
  },
  {
   "cell_type": "markdown",
   "id": "a84052a1",
   "metadata": {},
   "source": [
    "### has_elevator"
   ]
  },
  {
   "cell_type": "code",
   "execution_count": 15,
   "id": "dd6e995a",
   "metadata": {},
   "outputs": [
    {
     "name": "stdout",
     "output_type": "stream",
     "text": [
      "apartment-sell :  7 303385\n",
      "apartment-rent :  13 211880\n",
      "office-rent :  70 21418\n",
      "shop-sell :  21855 21855\n",
      "plot-old :  133570 133570\n",
      "house-villa-sell :  121753 121753\n",
      "house-villa-rent :  64678 64678\n",
      "shop-rent :  45993 45993\n",
      "industry-agriculture-business-rent :  9155 9155\n",
      "office-sell :  0 5155\n",
      "industry-agriculture-business-sell :  11850 11851\n",
      "nan :  0 0\n"
     ]
    }
   ],
   "source": [
    "for cat3 in divar_df['cat3_slug'].unique() :\n",
    "    df = divar_df[divar_df['cat3_slug'] == cat3]['has_elevator']\n",
    "    print(f'{cat3} : ' , df.isnull().sum(), len(df))"
   ]
  },
  {
   "cell_type": "code",
   "execution_count": 41,
   "id": "d2740da5",
   "metadata": {},
   "outputs": [
    {
     "name": "stdout",
     "output_type": "stream",
     "text": [
      "apartment-sell :  118552 303385\n",
      "apartment-rent :  92914 211880\n",
      "office-rent :  21418 21418\n",
      "shop-sell :  21855 21855\n",
      "plot-old :  133569 133570\n",
      "house-villa-sell :  6045 121753\n",
      "house-villa-rent :  3235 64678\n",
      "shop-rent :  45993 45993\n",
      "industry-agriculture-business-rent :  9155 9155\n",
      "office-sell :  5155 5155\n",
      "industry-agriculture-business-sell :  11851 11851\n",
      "nan :  0 0\n"
     ]
    }
   ],
   "source": [
    "for cat3 in divar_df['cat3_slug'].unique() :\n",
    "    df = divar_df[divar_df['cat3_slug'] == cat3]['has_balcony']\n",
    "    print(f'{cat3} : ' , df.isnull().sum(), len(df))"
   ]
  },
  {
   "cell_type": "code",
   "execution_count": 43,
   "id": "7c467685",
   "metadata": {},
   "outputs": [
    {
     "name": "stdout",
     "output_type": "stream",
     "text": [
      "apartment-sell :  387.85714285714283\n",
      "apartment-rent :  781.0\n",
      "office-rent :  2043.0\n",
      "shop-sell :  1922.259208419126\n",
      "plot-old :  10931.158269072397\n",
      "house-villa-sell :  2543.3232692418255\n",
      "house-villa-rent :  4675.252852592845\n",
      "shop-rent :  2234.4919009414475\n",
      "industry-agriculture-business-rent :  61111.255379574\n",
      "office-sell :  nan\n",
      "industry-agriculture-business-sell :  70535.57333333333\n",
      "nan :  nan\n"
     ]
    }
   ],
   "source": [
    "for cat3 in divar_df['cat3_slug'].unique() :\n",
    "    mean = divar_df[(divar_df['cat3_slug'] == cat3) & (divar_df['has_elevator'].isna())]['building_size'].mean()\n",
    "    print(f'{cat3} : ' , mean)"
   ]
  },
  {
   "cell_type": "code",
   "execution_count": 44,
   "id": "5143c8a5",
   "metadata": {},
   "outputs": [
    {
     "name": "stdout",
     "output_type": "stream",
     "text": [
      "apartment-sell :  648.0784669341084\n",
      "apartment-rent :  1182.981805500439\n",
      "office-rent :  3973.4364802520536\n",
      "shop-sell :  nan\n",
      "plot-old :  nan\n",
      "house-villa-sell :  nan\n",
      "house-villa-rent :  nan\n",
      "shop-rent :  nan\n",
      "industry-agriculture-business-rent :  nan\n",
      "office-sell :  365.69029275808936\n",
      "industry-agriculture-business-sell :  485.0\n",
      "nan :  nan\n"
     ]
    }
   ],
   "source": [
    "for cat3 in divar_df['cat3_slug'].unique() :\n",
    "    mean = divar_df[(divar_df['cat3_slug'] == cat3) & (divar_df['has_elevator'] == False)]['building_size'].mean()\n",
    "    print(f'{cat3} : ' , mean)"
   ]
  },
  {
   "cell_type": "code",
   "execution_count": 45,
   "id": "b7ef994b",
   "metadata": {},
   "outputs": [
    {
     "name": "stdout",
     "output_type": "stream",
     "text": [
      "apartment-sell :  442.66907595856804\n",
      "apartment-rent :  521.3722865356227\n",
      "office-rent :  666.6797207286735\n",
      "shop-sell :  nan\n",
      "plot-old :  nan\n",
      "house-villa-sell :  nan\n",
      "house-villa-rent :  nan\n",
      "shop-rent :  nan\n",
      "industry-agriculture-business-rent :  nan\n",
      "office-sell :  253.58465128338088\n",
      "industry-agriculture-business-sell :  nan\n",
      "nan :  nan\n"
     ]
    }
   ],
   "source": [
    "for cat3 in divar_df['cat3_slug'].unique() :\n",
    "    mean = divar_df[(divar_df['cat3_slug'] == cat3) & (divar_df['has_elevator'] == True)]['building_size'].mean()\n",
    "    print(f'{cat3} : ' , mean)"
   ]
  },
  {
   "cell_type": "code",
   "execution_count": 48,
   "id": "736b30c0",
   "metadata": {},
   "outputs": [
    {
     "name": "stdout",
     "output_type": "stream",
     "text": [
      "apartment-sell has_elevator\n",
      "True     220120\n",
      "False     83258\n",
      "Name: count, dtype: int64\n",
      "apartment-rent has_elevator\n",
      "True     128710\n",
      "False     83157\n",
      "Name: count, dtype: int64\n",
      "office-rent has_elevator\n",
      "True     12461\n",
      "False     8887\n",
      "Name: count, dtype: int64\n",
      "shop-sell Series([], Name: count, dtype: int64)\n",
      "plot-old Series([], Name: count, dtype: int64)\n",
      "house-villa-sell Series([], Name: count, dtype: int64)\n",
      "house-villa-rent Series([], Name: count, dtype: int64)\n",
      "shop-rent Series([], Name: count, dtype: int64)\n",
      "industry-agriculture-business-rent Series([], Name: count, dtype: int64)\n",
      "office-sell has_elevator\n",
      "True     3857\n",
      "False    1298\n",
      "Name: count, dtype: int64\n",
      "industry-agriculture-business-sell has_elevator\n",
      "False    1\n",
      "Name: count, dtype: int64\n",
      "nan Series([], Name: count, dtype: int64)\n"
     ]
    }
   ],
   "source": [
    "for cat3 in divar_df['cat3_slug'].unique() :\n",
    "    df = divar_df[(divar_df['cat3_slug'] == cat3)]['has_elevator']\n",
    "    print(cat3, df.value_counts())"
   ]
  },
  {
   "cell_type": "markdown",
   "id": "a6c26be0",
   "metadata": {},
   "source": [
    "### warehouse"
   ]
  },
  {
   "cell_type": "code",
   "execution_count": 25,
   "id": "4c5c2f6c",
   "metadata": {},
   "outputs": [
    {
     "name": "stdout",
     "output_type": "stream",
     "text": [
      "apartment-sell :  7 303385\n",
      "apartment-rent :  13 211880\n",
      "office-rent :  70 21418\n",
      "shop-sell :  21855 21855\n",
      "plot-old :  133569 133570\n",
      "house-villa-sell :  15 121753\n",
      "house-villa-rent :  11 64678\n",
      "shop-rent :  45993 45993\n",
      "industry-agriculture-business-rent :  9155 9155\n",
      "office-sell :  0 5155\n",
      "industry-agriculture-business-sell :  11850 11851\n",
      "nan :  0 0\n"
     ]
    }
   ],
   "source": [
    "for cat3 in divar_df['cat3_slug'].unique() :\n",
    "    df = divar_df[divar_df['cat3_slug'] == cat3]['has_warehouse']\n",
    "    print(f'{cat3} : ' , df.isnull().sum(), len(df))"
   ]
  },
  {
   "cell_type": "code",
   "execution_count": 26,
   "id": "6ad3603c",
   "metadata": {},
   "outputs": [],
   "source": [
    "divar_df.loc[divar_df['cat3_slug'] == 'plot-old', 'has_warehouse'] = False"
   ]
  },
  {
   "cell_type": "code",
   "execution_count": 27,
   "id": "0515a005",
   "metadata": {},
   "outputs": [
    {
     "name": "stdout",
     "output_type": "stream",
     "text": [
      "apartment-sell :  7 303385\n",
      "apartment-rent :  13 211880\n",
      "office-rent :  70 21418\n",
      "shop-sell :  21855 21855\n",
      "plot-old :  0 133570\n",
      "house-villa-sell :  15 121753\n",
      "house-villa-rent :  11 64678\n",
      "shop-rent :  45993 45993\n",
      "industry-agriculture-business-rent :  9155 9155\n",
      "office-sell :  0 5155\n",
      "industry-agriculture-business-sell :  11850 11851\n",
      "nan :  0 0\n"
     ]
    }
   ],
   "source": [
    "for cat3 in divar_df['cat3_slug'].unique() :\n",
    "    df = divar_df[divar_df['cat3_slug'] == cat3]['has_warehouse']\n",
    "    print(f'{cat3} : ' , df.isnull().sum(), len(df))"
   ]
  },
  {
   "cell_type": "code",
   "execution_count": 28,
   "id": "c1ce0ac6",
   "metadata": {},
   "outputs": [
    {
     "data": {
      "text/plain": [
       "<Axes: xlabel='building_size', ylabel='Count'>"
      ]
     },
     "execution_count": 28,
     "metadata": {},
     "output_type": "execute_result"
    },
    {
     "data": {
      "image/png": "[encoded data removed]",
      "text/plain": [
       "<Figure size 640x480 with 1 Axes>"
      ]
     },
     "metadata": {},
     "output_type": "display_data"
    }
   ],
   "source": [
    "test = divar_df[divar_df['cat3_slug'] == 'shop-sell']['building_size']\n",
    "sns.histplot(np.log10(test), bins=100, kde=True)\n"
   ]
  },
  {
   "cell_type": "code",
   "execution_count": 29,
   "id": "e9b73483",
   "metadata": {},
   "outputs": [
    {
     "name": "stderr",
     "output_type": "stream",
     "text": [
      "/home/roham/.miniconda3/envs/test/lib/python3.11/site-packages/pandas/core/arraylike.py:399: RuntimeWarning: divide by zero encountered in log10\n",
      "  result = getattr(ufunc, method)(*inputs, **kwargs)\n"
     ]
    },
    {
     "data": {
      "text/plain": [
       "<Axes: xlabel='final_price', ylabel='Count'>"
      ]
     },
     "execution_count": 29,
     "metadata": {},
     "output_type": "execute_result"
    },
    {
     "data": {
      "image/png": "[encoded data removed]",
      "text/plain": [
       "<Figure size 640x480 with 1 Axes>"
      ]
     },
     "metadata": {},
     "output_type": "display_data"
    }
   ],
   "source": [
    "test = divar_df[divar_df['cat3_slug'] == 'shop-sell']['final_price']\n",
    "sns.histplot(np.log10(test), bins=100, kde=True)"
   ]
  },
  {
   "cell_type": "code",
   "execution_count": 30,
   "id": "d4a17400",
   "metadata": {},
   "outputs": [],
   "source": [
    "for col in ['shop-sell', 'shop-rent'] :\n",
    "    quantile = divar_df[divar_df['cat3_slug'] == col]['building_size'].quantile(0.75)\n",
    "    divar_df.loc[(divar_df['cat3_slug'] == col) & (divar_df['building_size'] > quantile) & (divar_df['has_warehouse'].isna()), 'has_warehouse'] = True\n",
    "    divar_df.loc[(divar_df['cat3_slug'] == col) & (divar_df['has_warehouse'].isna()), 'has_warehouse'] = False\n"
   ]
  },
  {
   "cell_type": "code",
   "execution_count": 31,
   "id": "5f73ae07",
   "metadata": {},
   "outputs": [],
   "source": [
    "for col in ['industry-agriculture-business-rent', 'industry-agriculture-business-sell'] :\n",
    "    divar_df.loc[(divar_df['cat3_slug'] == col), 'has_warehouse'] = True"
   ]
  },
  {
   "cell_type": "code",
   "execution_count": 32,
   "id": "4f7d31e9",
   "metadata": {},
   "outputs": [],
   "source": [
    "for i, col in enumerate(divar_df['cat3_slug'].unique()) :\n",
    "    if i == 11: break\n",
    "    has_warehouse = divar_df[divar_df['cat3_slug'] == col]['has_warehouse'].value_counts().reset_index()['has_warehouse'][0]\n",
    "    divar_df.loc[(divar_df['cat3_slug'] == col) & (divar_df['has_warehouse'].isna()), 'has_warehouse'] = has_warehouse"
   ]
  },
  {
   "cell_type": "markdown",
   "id": "1930b824",
   "metadata": {},
   "source": [
    "### has_parking"
   ]
  },
  {
   "cell_type": "code",
   "execution_count": 33,
   "id": "b6801a8d",
   "metadata": {},
   "outputs": [
    {
     "name": "stdout",
     "output_type": "stream",
     "text": [
      "apartment-sell :  6 303385\n",
      "apartment-rent :  13 211880\n",
      "office-rent :  70 21418\n",
      "shop-sell :  21855 21855\n",
      "plot-old :  133569 133570\n",
      "house-villa-sell :  15 121753\n",
      "house-villa-rent :  11 64678\n",
      "shop-rent :  45993 45993\n",
      "industry-agriculture-business-rent :  9155 9155\n",
      "office-sell :  0 5155\n",
      "industry-agriculture-business-sell :  11850 11851\n",
      "nan :  0 0\n"
     ]
    }
   ],
   "source": [
    "for cat3 in divar_df['cat3_slug'].unique() :\n",
    "    df = divar_df[divar_df['cat3_slug'] == cat3]['has_parking']\n",
    "    print(f'{cat3} : ' , df.isnull().sum(), len(df))"
   ]
  },
  {
   "cell_type": "code",
   "execution_count": 34,
   "id": "657b6aee",
   "metadata": {},
   "outputs": [],
   "source": [
    "for col in divar_df['cat3_slug'].unique() :\n",
    "    divar_df.loc[(divar_df['cat3_slug'] == col) & (divar_df['has_parking'].isna()), 'has_parking'] = False"
   ]
  },
  {
   "cell_type": "markdown",
   "id": "51296ab6",
   "metadata": {},
   "source": [
    "### is_rebuilt"
   ]
  },
  {
   "cell_type": "code",
   "execution_count": 31,
   "id": "82fb2bee",
   "metadata": {},
   "outputs": [
    {
     "name": "stdout",
     "output_type": "stream",
     "text": [
      "apartment-sell :  78535 303385\n",
      "apartment-rent :  54797 211880\n",
      "office-rent :  21418 21418\n",
      "shop-sell :  21855 21855\n",
      "plot-old :  133569 133570\n",
      "house-villa-sell :  29897 121753\n",
      "house-villa-rent :  8998 64678\n",
      "shop-rent :  45993 45993\n",
      "industry-agriculture-business-rent :  9155 9155\n",
      "office-sell :  5155 5155\n",
      "industry-agriculture-business-sell :  11851 11851\n",
      "nan :  0 0\n"
     ]
    }
   ],
   "source": [
    "for cat3 in divar_df['cat3_slug'].unique() :\n",
    "    df = divar_df[divar_df['cat3_slug'] == cat3]['is_rebuilt']\n",
    "    print(f'{cat3} : ' , df.isnull().sum(), len(df))"
   ]
  },
  {
   "cell_type": "code",
   "execution_count": 33,
   "id": "998760c3",
   "metadata": {},
   "outputs": [
    {
     "data": {
      "text/plain": [
       "is_rebuilt\n",
       "False    353191\n",
       "True     176279\n",
       "Name: count, dtype: int64"
      ]
     },
     "execution_count": 33,
     "metadata": {},
     "output_type": "execute_result"
    }
   ],
   "source": [
    "divar_df['is_rebuilt'].value_counts()"
   ]
  },
  {
   "cell_type": "code",
   "execution_count": null,
   "id": "648b4ee1",
   "metadata": {},
   "outputs": [],
   "source": []
  },
  {
   "cell_type": "markdown",
   "id": "9638ad27",
   "metadata": {},
   "source": [
    "### final_price"
   ]
  },
  {
   "cell_type": "code",
   "execution_count": 35,
   "id": "9d57d5f0",
   "metadata": {},
   "outputs": [
    {
     "name": "stdout",
     "output_type": "stream",
     "text": [
      "apartment-sell :  5 303385\n",
      "apartment-rent :  280 211880\n",
      "office-rent :  186 21418\n",
      "shop-sell :  3296 21855\n",
      "plot-old :  23734 133570\n",
      "house-villa-sell :  5 121753\n",
      "house-villa-rent :  133 64678\n",
      "shop-rent :  166 45993\n",
      "industry-agriculture-business-rent :  110 9155\n",
      "office-sell :  675 5155\n",
      "industry-agriculture-business-sell :  2763 11851\n",
      "nan :  0 0\n"
     ]
    }
   ],
   "source": [
    "for cat3 in divar_df['cat3_slug'].unique() :\n",
    "    df = divar_df[divar_df['cat3_slug'] == cat3]['final_price']\n",
    "    print(f'{cat3} : ' , df.isnull().sum(), len(df))"
   ]
  },
  {
   "cell_type": "code",
   "execution_count": 36,
   "id": "f70cb5b5",
   "metadata": {},
   "outputs": [
    {
     "name": "stdout",
     "output_type": "stream",
     "text": [
      "residential-sell :  23744 558708\n",
      "residential-rent :  413 276558\n",
      "commercial-rent :  462 76567\n",
      "commercial-sell :  6734 38861\n"
     ]
    }
   ],
   "source": [
    "for cat2 in divar_df['cat2_slug'].unique() :\n",
    "    df = divar_df[divar_df['cat2_slug'] == cat2]['final_price']\n",
    "    print(f'{cat2} : ' , df.isnull().sum(), len(df))"
   ]
  },
  {
   "cell_type": "code",
   "execution_count": 37,
   "id": "172a6cd6",
   "metadata": {},
   "outputs": [
    {
     "name": "stdout",
     "output_type": "stream",
     "text": [
      "1384.0 :  57 8494\n",
      "1401.0 :  299 35328\n",
      "1400.0 :  577 53674\n",
      "1403.0 :  1138 116259\n",
      "1389.0 :  82 16755\n",
      "1395.0 :  353 53034\n",
      "1393.0 :  286 29209\n",
      "1396.0 :  225 35487\n",
      "1387.0 :  76 14136\n",
      "1385.0 :  242 34065\n",
      "1370.0 :  23734 133570\n",
      "1390.0 :  452 59161\n",
      "1398.0 :  288 38207\n",
      "1402.0 :  424 58424\n",
      "1388.0 :  118 24268\n",
      "1369.0 :  838 20637\n",
      "1392.0 :  402 26793\n",
      "1383.0 :  60 9894\n",
      "1394.0 :  230 26601\n",
      "1391.0 :  87 16316\n",
      "1380.0 :  293 23480\n",
      "1378.0 :  37 3025\n",
      "1375.0 :  112 7247\n",
      "1397.0 :  235 36326\n",
      "1399.0 :  211 29594\n",
      "1382.0 :  59 6965\n",
      "1386.0 :  109 13468\n",
      "1379.0 :  34 2415\n",
      "1372.0 :  34 1914\n",
      "1374.0 :  26 1289\n",
      "1376.0 :  19 1593\n",
      "1377.0 :  34 2117\n",
      "1371.0 :  112 5531\n",
      "1381.0 :  37 3590\n",
      "1373.0 :  33 1827\n",
      "nan :  0 0\n"
     ]
    }
   ],
   "source": [
    "for construction_year in divar_df['construction_year'].unique() :\n",
    "    df = divar_df[divar_df['construction_year'] == construction_year]['final_price']\n",
    "    print(f'{construction_year} : ' , df.isnull().sum(), len(df))"
   ]
  },
  {
   "cell_type": "code",
   "execution_count": 38,
   "id": "666fcf7f",
   "metadata": {},
   "outputs": [],
   "source": [
    "divar_df = divar_df[~divar_df['final_price'].isna()]"
   ]
  },
  {
   "cell_type": "markdown",
   "id": "e96e61ac",
   "metadata": {},
   "source": [
    "### colmns"
   ]
  },
  {
   "cell_type": "code",
   "execution_count": 72,
   "id": "f3922704",
   "metadata": {},
   "outputs": [],
   "source": [
    "columns = ['building_size', 'floor', 'rooms_count', 'construction_year', 'final_price', 'has_warehouse', 'has_parking', 'cat2_slug', 'location_latitude', 'location_longitude']"
   ]
  },
  {
   "cell_type": "code",
   "execution_count": 73,
   "id": "b02183b7",
   "metadata": {},
   "outputs": [],
   "source": [
    "df = divar_df[columns].copy()"
   ]
  },
  {
   "cell_type": "code",
   "execution_count": 41,
   "id": "c851a50c",
   "metadata": {},
   "outputs": [
    {
     "name": "stdout",
     "output_type": "stream",
     "text": [
      "<class 'pandas.core.frame.DataFrame'>\n",
      "Index: 919341 entries, 1 to 999999\n",
      "Data columns (total 8 columns):\n",
      " #   Column             Non-Null Count   Dtype  \n",
      "---  ------             --------------   -----  \n",
      " 0   building_size      919341 non-null  float64\n",
      " 1   floor              919340 non-null  float64\n",
      " 2   rooms_count        919340 non-null  float64\n",
      " 3   construction_year  919340 non-null  float64\n",
      " 4   final_price        919341 non-null  float64\n",
      " 5   has_warehouse      919340 non-null  object \n",
      " 6   has_parking        919340 non-null  object \n",
      " 7   cat2_slug          919341 non-null  object \n",
      "dtypes: float64(5), object(3)\n",
      "memory usage: 63.1+ MB\n"
     ]
    }
   ],
   "source": [
    "df.info()"
   ]
  },
  {
   "cell_type": "markdown",
   "id": "795db8ac",
   "metadata": {},
   "source": [
    "### encode"
   ]
  },
  {
   "cell_type": "code",
   "execution_count": 74,
   "id": "d02bb7c4",
   "metadata": {},
   "outputs": [],
   "source": [
    "df = pd.get_dummies(df, columns=['cat2_slug'])"
   ]
  },
  {
   "cell_type": "code",
   "execution_count": 75,
   "id": "ca97d927",
   "metadata": {},
   "outputs": [],
   "source": [
    "df = df.dropna()"
   ]
  },
  {
   "cell_type": "markdown",
   "id": "d77dc0f9",
   "metadata": {},
   "source": [
    "### model"
   ]
  },
  {
   "cell_type": "code",
   "execution_count": 76,
   "id": "2793b95a",
   "metadata": {},
   "outputs": [],
   "source": [
    "df['final_price_log'] = np.log1p(df['final_price'])"
   ]
  },
  {
   "cell_type": "code",
   "execution_count": 77,
   "id": "98e47d98",
   "metadata": {},
   "outputs": [],
   "source": [
    "Q1 = df['final_price_log'].quantile(0.25)\n",
    "Q3 = df['final_price_log'].quantile(0.75)\n",
    "IQR = Q3 - Q1\n",
    "lower = Q1 - 1.5 * IQR\n",
    "upper = Q3 + 1.5 * IQR\n",
    "df_clean = df[(df['final_price_log'] >= lower) & (df['final_price_log'] <= upper)]"
   ]
  },
  {
   "cell_type": "code",
   "execution_count": 41,
   "id": "484462aa",
   "metadata": {},
   "outputs": [
    {
     "data": {
      "text/plain": [
       "Index(['building_size', 'floor', 'rooms_count', 'construction_year',\n",
       "       'final_price', 'has_warehouse', 'has_parking',\n",
       "       'cat2_slug_commercial-rent', 'cat2_slug_commercial-sell',\n",
       "       'cat2_slug_residential-rent', 'cat2_slug_residential-sell',\n",
       "       'final_price_log'],\n",
       "      dtype='object')"
      ]
     },
     "execution_count": 41,
     "metadata": {},
     "output_type": "execute_result"
    }
   ],
   "source": [
    "df_clean.columns"
   ]
  },
  {
   "cell_type": "code",
   "execution_count": 78,
   "id": "ca3fe9fb",
   "metadata": {},
   "outputs": [],
   "source": [
    "from sklearn.preprocessing import RobustScaler\n",
    "\n",
    "num_cols = [\n",
    "    'building_size', 'floor', 'rooms_count', 'construction_year','final_price_log'\n",
    "]\n",
    "\n",
    "scaler = RobustScaler()\n",
    "scaled_data = scaler.fit_transform(df_clean[num_cols])\n",
    "\n",
    "# تبدیل به دیتافریم\n",
    "df_scaled = pd.DataFrame(scaled_data, columns=num_cols, index=df_clean.index)\n",
    "\n",
    "df_final = pd.concat([df_scaled, df_clean[['has_warehouse', 'has_parking', 'cat2_slug_commercial-rent', 'cat2_slug_commercial-sell', 'cat2_slug_residential-rent', 'cat2_slug_residential-sell']]], axis=1)"
   ]
  },
  {
   "cell_type": "code",
   "execution_count": 79,
   "id": "599f9dc7",
   "metadata": {},
   "outputs": [
    {
     "name": "stderr",
     "output_type": "stream",
     "text": [
      "/tmp/ipykernel_2491/3183889583.py:2: FutureWarning: Setting an item of incompatible dtype is deprecated and will raise an error in a future version of pandas. Value '1' has dtype incompatible with bool, please explicitly cast to a compatible dtype first.\n",
      "  df_final.loc[df_final[col] == True, col] = 1\n",
      "/tmp/ipykernel_2491/3183889583.py:2: FutureWarning: Setting an item of incompatible dtype is deprecated and will raise an error in a future version of pandas. Value '1' has dtype incompatible with bool, please explicitly cast to a compatible dtype first.\n",
      "  df_final.loc[df_final[col] == True, col] = 1\n",
      "/tmp/ipykernel_2491/3183889583.py:2: FutureWarning: Setting an item of incompatible dtype is deprecated and will raise an error in a future version of pandas. Value '1' has dtype incompatible with bool, please explicitly cast to a compatible dtype first.\n",
      "  df_final.loc[df_final[col] == True, col] = 1\n",
      "/tmp/ipykernel_2491/3183889583.py:2: FutureWarning: Setting an item of incompatible dtype is deprecated and will raise an error in a future version of pandas. Value '1' has dtype incompatible with bool, please explicitly cast to a compatible dtype first.\n",
      "  df_final.loc[df_final[col] == True, col] = 1\n"
     ]
    }
   ],
   "source": [
    "for col in ['has_warehouse', 'has_parking', 'cat2_slug_commercial-rent', 'cat2_slug_commercial-sell', 'cat2_slug_residential-rent', 'cat2_slug_residential-sell'] :\n",
    "    df_final.loc[df_final[col] == True, col] = 1\n",
    "    df_final.loc[df_final[col] == False, col] = 0"
   ]
  },
  {
   "cell_type": "code",
   "execution_count": 81,
   "id": "27ac71c8",
   "metadata": {},
   "outputs": [
    {
     "data": {
      "text/html": [
       "<div>\n",
       "<style scoped>\n",
       "    .dataframe tbody tr th:only-of-type {\n",
       "        vertical-align: middle;\n",
       "    }\n",
       "\n",
       "    .dataframe tbody tr th {\n",
       "        vertical-align: top;\n",
       "    }\n",
       "\n",
       "    .dataframe thead th {\n",
       "        text-align: right;\n",
       "    }\n",
       "</style>\n",
       "<table border=\"1\" class=\"dataframe\">\n",
       "  <thead>\n",
       "    <tr style=\"text-align: right;\">\n",
       "      <th></th>\n",
       "      <th>building_size</th>\n",
       "      <th>floor</th>\n",
       "      <th>rooms_count</th>\n",
       "      <th>construction_year</th>\n",
       "      <th>final_price_log</th>\n",
       "      <th>has_warehouse</th>\n",
       "      <th>has_parking</th>\n",
       "      <th>cat2_slug_commercial-rent</th>\n",
       "      <th>cat2_slug_commercial-sell</th>\n",
       "      <th>cat2_slug_residential-rent</th>\n",
       "      <th>cat2_slug_residential-sell</th>\n",
       "    </tr>\n",
       "  </thead>\n",
       "  <tbody>\n",
       "    <tr>\n",
       "      <th>2</th>\n",
       "      <td>0.415584</td>\n",
       "      <td>0.666667</td>\n",
       "      <td>1.0</td>\n",
       "      <td>0.466667</td>\n",
       "      <td>-0.613840</td>\n",
       "      <td>1</td>\n",
       "      <td>1</td>\n",
       "      <td>0</td>\n",
       "      <td>0</td>\n",
       "      <td>1</td>\n",
       "      <td>0</td>\n",
       "    </tr>\n",
       "    <tr>\n",
       "      <th>7</th>\n",
       "      <td>0.000000</td>\n",
       "      <td>1.000000</td>\n",
       "      <td>0.0</td>\n",
       "      <td>-0.066667</td>\n",
       "      <td>0.378997</td>\n",
       "      <td>1</td>\n",
       "      <td>1</td>\n",
       "      <td>0</td>\n",
       "      <td>0</td>\n",
       "      <td>0</td>\n",
       "      <td>1</td>\n",
       "    </tr>\n",
       "    <tr>\n",
       "      <th>8</th>\n",
       "      <td>-0.285714</td>\n",
       "      <td>1.000000</td>\n",
       "      <td>0.0</td>\n",
       "      <td>0.133333</td>\n",
       "      <td>-0.117297</td>\n",
       "      <td>1</td>\n",
       "      <td>1</td>\n",
       "      <td>0</td>\n",
       "      <td>0</td>\n",
       "      <td>0</td>\n",
       "      <td>1</td>\n",
       "    </tr>\n",
       "    <tr>\n",
       "      <th>10</th>\n",
       "      <td>-0.168831</td>\n",
       "      <td>1.000000</td>\n",
       "      <td>0.0</td>\n",
       "      <td>0.600000</td>\n",
       "      <td>0.147924</td>\n",
       "      <td>1</td>\n",
       "      <td>1</td>\n",
       "      <td>0</td>\n",
       "      <td>0</td>\n",
       "      <td>0</td>\n",
       "      <td>1</td>\n",
       "    </tr>\n",
       "    <tr>\n",
       "      <th>11</th>\n",
       "      <td>-0.116883</td>\n",
       "      <td>0.000000</td>\n",
       "      <td>0.0</td>\n",
       "      <td>-0.600000</td>\n",
       "      <td>-0.670861</td>\n",
       "      <td>1</td>\n",
       "      <td>1</td>\n",
       "      <td>0</td>\n",
       "      <td>0</td>\n",
       "      <td>1</td>\n",
       "      <td>0</td>\n",
       "    </tr>\n",
       "    <tr>\n",
       "      <th>...</th>\n",
       "      <td>...</td>\n",
       "      <td>...</td>\n",
       "      <td>...</td>\n",
       "      <td>...</td>\n",
       "      <td>...</td>\n",
       "      <td>...</td>\n",
       "      <td>...</td>\n",
       "      <td>...</td>\n",
       "      <td>...</td>\n",
       "      <td>...</td>\n",
       "      <td>...</td>\n",
       "    </tr>\n",
       "    <tr>\n",
       "      <th>999991</th>\n",
       "      <td>-0.116883</td>\n",
       "      <td>1.000000</td>\n",
       "      <td>0.0</td>\n",
       "      <td>-0.400000</td>\n",
       "      <td>0.210182</td>\n",
       "      <td>1</td>\n",
       "      <td>1</td>\n",
       "      <td>0</td>\n",
       "      <td>0</td>\n",
       "      <td>0</td>\n",
       "      <td>1</td>\n",
       "    </tr>\n",
       "    <tr>\n",
       "      <th>999993</th>\n",
       "      <td>-0.649351</td>\n",
       "      <td>0.000000</td>\n",
       "      <td>-1.0</td>\n",
       "      <td>-0.533333</td>\n",
       "      <td>-0.998340</td>\n",
       "      <td>0</td>\n",
       "      <td>1</td>\n",
       "      <td>0</td>\n",
       "      <td>0</td>\n",
       "      <td>1</td>\n",
       "      <td>0</td>\n",
       "    </tr>\n",
       "    <tr>\n",
       "      <th>999995</th>\n",
       "      <td>1.038961</td>\n",
       "      <td>1.000000</td>\n",
       "      <td>2.0</td>\n",
       "      <td>0.600000</td>\n",
       "      <td>0.349835</td>\n",
       "      <td>1</td>\n",
       "      <td>1</td>\n",
       "      <td>0</td>\n",
       "      <td>0</td>\n",
       "      <td>0</td>\n",
       "      <td>1</td>\n",
       "    </tr>\n",
       "    <tr>\n",
       "      <th>999996</th>\n",
       "      <td>0.129870</td>\n",
       "      <td>0.000000</td>\n",
       "      <td>0.0</td>\n",
       "      <td>0.600000</td>\n",
       "      <td>-0.530441</td>\n",
       "      <td>1</td>\n",
       "      <td>1</td>\n",
       "      <td>0</td>\n",
       "      <td>0</td>\n",
       "      <td>1</td>\n",
       "      <td>0</td>\n",
       "    </tr>\n",
       "    <tr>\n",
       "      <th>999999</th>\n",
       "      <td>-0.779221</td>\n",
       "      <td>0.333333</td>\n",
       "      <td>-1.0</td>\n",
       "      <td>-0.800000</td>\n",
       "      <td>-0.906590</td>\n",
       "      <td>0</td>\n",
       "      <td>0</td>\n",
       "      <td>0</td>\n",
       "      <td>0</td>\n",
       "      <td>1</td>\n",
       "      <td>0</td>\n",
       "    </tr>\n",
       "  </tbody>\n",
       "</table>\n",
       "<p>602438 rows × 11 columns</p>\n",
       "</div>"
      ],
      "text/plain": [
       "        building_size     floor  rooms_count  construction_year  \\\n",
       "2            0.415584  0.666667          1.0           0.466667   \n",
       "7            0.000000  1.000000          0.0          -0.066667   \n",
       "8           -0.285714  1.000000          0.0           0.133333   \n",
       "10          -0.168831  1.000000          0.0           0.600000   \n",
       "11          -0.116883  0.000000          0.0          -0.600000   \n",
       "...               ...       ...          ...                ...   \n",
       "999991      -0.116883  1.000000          0.0          -0.400000   \n",
       "999993      -0.649351  0.000000         -1.0          -0.533333   \n",
       "999995       1.038961  1.000000          2.0           0.600000   \n",
       "999996       0.129870  0.000000          0.0           0.600000   \n",
       "999999      -0.779221  0.333333         -1.0          -0.800000   \n",
       "\n",
       "        final_price_log has_warehouse has_parking cat2_slug_commercial-rent  \\\n",
       "2             -0.613840             1           1                         0   \n",
       "7              0.378997             1           1                         0   \n",
       "8             -0.117297             1           1                         0   \n",
       "10             0.147924             1           1                         0   \n",
       "11            -0.670861             1           1                         0   \n",
       "...                 ...           ...         ...                       ...   \n",
       "999991         0.210182             1           1                         0   \n",
       "999993        -0.998340             0           1                         0   \n",
       "999995         0.349835             1           1                         0   \n",
       "999996        -0.530441             1           1                         0   \n",
       "999999        -0.906590             0           0                         0   \n",
       "\n",
       "       cat2_slug_commercial-sell cat2_slug_residential-rent  \\\n",
       "2                              0                          1   \n",
       "7                              0                          0   \n",
       "8                              0                          0   \n",
       "10                             0                          0   \n",
       "11                             0                          1   \n",
       "...                          ...                        ...   \n",
       "999991                         0                          0   \n",
       "999993                         0                          1   \n",
       "999995                         0                          0   \n",
       "999996                         0                          1   \n",
       "999999                         0                          1   \n",
       "\n",
       "       cat2_slug_residential-sell  \n",
       "2                               0  \n",
       "7                               1  \n",
       "8                               1  \n",
       "10                              1  \n",
       "11                              0  \n",
       "...                           ...  \n",
       "999991                          1  \n",
       "999993                          0  \n",
       "999995                          1  \n",
       "999996                          0  \n",
       "999999                          0  \n",
       "\n",
       "[602438 rows x 11 columns]"
      ]
     },
     "execution_count": 81,
     "metadata": {},
     "output_type": "execute_result"
    }
   ],
   "source": [
    "df_final"
   ]
  },
  {
   "cell_type": "code",
   "execution_count": 82,
   "id": "a841589b",
   "metadata": {},
   "outputs": [
    {
     "name": "stdout",
     "output_type": "stream",
     "text": [
      "centroids:\n",
      "   building_size     floor  rooms_count  construction_year  final_price_log  \\\n",
      "0       2.416130  0.221003    -0.363126          -0.208664        -0.224771   \n",
      "1  128462.828505  0.051282    -0.615385          -0.203419        -0.346971   \n",
      "2   37313.393939 -0.287037    -0.638889          -0.179630        -0.196747   \n",
      "3   14334.778817 -0.219344    -0.829016          -0.294991        -0.308567   \n",
      "4   66255.313853 -0.333333    -0.833333          -0.544444         0.201300   \n",
      "5    1709.049358 -0.179189    -0.787120          -0.373286        -0.310234   \n",
      "6   25446.834632  0.066667    -0.933333          -0.515556         0.082245   \n",
      "7   86378.766234 -0.333333    -1.571429          -1.095238        -0.052601   \n",
      "8    6913.797422 -0.285354    -0.765152          -0.384343        -0.135463   \n",
      "9   54553.936064 -0.256410    -0.846154          -0.625641        -0.485517   \n",
      "\n",
      "   has_warehouse  has_parking  cat2_slug_commercial-rent  \\\n",
      "0       0.675364     0.597837                   0.083953   \n",
      "1       0.794872     0.256410                   0.307692   \n",
      "2       0.833333     0.222222                   0.333333   \n",
      "3       0.668394     0.305699                   0.259067   \n",
      "4       0.833333     0.083333                   0.333333   \n",
      "5       0.667263     0.290698                   0.213775   \n",
      "6       0.733333     0.166667                   0.266667   \n",
      "7       0.714286     0.000000                   0.285714   \n",
      "8       0.765152     0.136364                   0.325758   \n",
      "9       0.923077     0.076923                   0.538462   \n",
      "\n",
      "   cat2_slug_commercial-sell  cat2_slug_residential-rent  \\\n",
      "0                   0.034116                3.057245e-01   \n",
      "1                   0.333333                1.282051e-01   \n",
      "2                   0.333333                1.111111e-01   \n",
      "3                   0.155440                2.124352e-01   \n",
      "4                   0.416667                0.000000e+00   \n",
      "5                   0.163685                2.683363e-01   \n",
      "6                   0.266667                1.333333e-01   \n",
      "7                   0.285714               -5.551115e-17   \n",
      "8                   0.287879                5.303030e-02   \n",
      "9                   0.384615                0.000000e+00   \n",
      "\n",
      "   cat2_slug_residential-sell  \n",
      "0                    0.576206  \n",
      "1                    0.230769  \n",
      "2                    0.222222  \n",
      "3                    0.373057  \n",
      "4                    0.250000  \n",
      "5                    0.354204  \n",
      "6                    0.333333  \n",
      "7                    0.428571  \n",
      "8                    0.333333  \n",
      "9                    0.076923  \n"
     ]
    }
   ],
   "source": [
    "from sklearn.cluster import KMeans\n",
    "\n",
    "num_cols = df_final.columns\n",
    "\n",
    "X = df_final[num_cols]\n",
    "\n",
    "# اجرای KMeans با 10 خوشه\n",
    "kmeans = KMeans(n_clusters=10, random_state=42, n_init=10)\n",
    "df_final['cluster'] = kmeans.fit_predict(X)\n",
    "\n",
    "# مراکز خوشه‌ها\n",
    "centroids = kmeans.cluster_centers_\n",
    "\n",
    "print(\"centroids:\")\n",
    "print(pd.DataFrame(centroids, columns=num_cols))"
   ]
  },
  {
   "cell_type": "code",
   "execution_count": 65,
   "id": "e241f910",
   "metadata": {},
   "outputs": [
    {
     "name": "stdout",
     "output_type": "stream",
     "text": [
      "Silhouette Score (sampled): 0.9941735526298366\n"
     ]
    }
   ],
   "source": [
    "from sklearn.metrics import silhouette_score\n",
    "\n",
    "# نمونه‌برداری\n",
    "sample_idx = np.random.choice(len(X), size=200000, replace=False)\n",
    "\n",
    "# تبدیل X به array (اگر DataFrame است)\n",
    "X_sample = X.iloc[sample_idx].values  # تبدیل به numpy array\n",
    "cluster_sample = df_final['cluster'].iloc[sample_idx].values\n",
    "\n",
    "score = silhouette_score(X_sample, cluster_sample)\n",
    "print(\"Silhouette Score (sampled):\", score)"
   ]
  },
  {
   "cell_type": "code",
   "execution_count": 86,
   "id": "1f119c4b",
   "metadata": {},
   "outputs": [
    {
     "data": {
      "text/html": [
       "<div>\n",
       "<style scoped>\n",
       "    .dataframe tbody tr th:only-of-type {\n",
       "        vertical-align: middle;\n",
       "    }\n",
       "\n",
       "    .dataframe tbody tr th {\n",
       "        vertical-align: top;\n",
       "    }\n",
       "\n",
       "    .dataframe thead th {\n",
       "        text-align: right;\n",
       "    }\n",
       "</style>\n",
       "<table border=\"1\" class=\"dataframe\">\n",
       "  <thead>\n",
       "    <tr style=\"text-align: right;\">\n",
       "      <th></th>\n",
       "      <th>building_size</th>\n",
       "      <th>floor</th>\n",
       "      <th>rooms_count</th>\n",
       "      <th>construction_year</th>\n",
       "      <th>final_price_log</th>\n",
       "      <th>has_warehouse</th>\n",
       "      <th>has_parking</th>\n",
       "      <th>cat2_slug_commercial-rent</th>\n",
       "      <th>cat2_slug_commercial-sell</th>\n",
       "      <th>cat2_slug_residential-rent</th>\n",
       "      <th>cat2_slug_residential-sell</th>\n",
       "      <th>cluster</th>\n",
       "    </tr>\n",
       "  </thead>\n",
       "  <tbody>\n",
       "    <tr>\n",
       "      <th>2</th>\n",
       "      <td>0.415584</td>\n",
       "      <td>0.666667</td>\n",
       "      <td>1.0</td>\n",
       "      <td>0.466667</td>\n",
       "      <td>-0.613840</td>\n",
       "      <td>1</td>\n",
       "      <td>1</td>\n",
       "      <td>0</td>\n",
       "      <td>0</td>\n",
       "      <td>1</td>\n",
       "      <td>0</td>\n",
       "      <td>0</td>\n",
       "    </tr>\n",
       "    <tr>\n",
       "      <th>7</th>\n",
       "      <td>0.000000</td>\n",
       "      <td>1.000000</td>\n",
       "      <td>0.0</td>\n",
       "      <td>-0.066667</td>\n",
       "      <td>0.378997</td>\n",
       "      <td>1</td>\n",
       "      <td>1</td>\n",
       "      <td>0</td>\n",
       "      <td>0</td>\n",
       "      <td>0</td>\n",
       "      <td>1</td>\n",
       "      <td>0</td>\n",
       "    </tr>\n",
       "    <tr>\n",
       "      <th>8</th>\n",
       "      <td>-0.285714</td>\n",
       "      <td>1.000000</td>\n",
       "      <td>0.0</td>\n",
       "      <td>0.133333</td>\n",
       "      <td>-0.117297</td>\n",
       "      <td>1</td>\n",
       "      <td>1</td>\n",
       "      <td>0</td>\n",
       "      <td>0</td>\n",
       "      <td>0</td>\n",
       "      <td>1</td>\n",
       "      <td>0</td>\n",
       "    </tr>\n",
       "    <tr>\n",
       "      <th>10</th>\n",
       "      <td>-0.168831</td>\n",
       "      <td>1.000000</td>\n",
       "      <td>0.0</td>\n",
       "      <td>0.600000</td>\n",
       "      <td>0.147924</td>\n",
       "      <td>1</td>\n",
       "      <td>1</td>\n",
       "      <td>0</td>\n",
       "      <td>0</td>\n",
       "      <td>0</td>\n",
       "      <td>1</td>\n",
       "      <td>0</td>\n",
       "    </tr>\n",
       "    <tr>\n",
       "      <th>11</th>\n",
       "      <td>-0.116883</td>\n",
       "      <td>0.000000</td>\n",
       "      <td>0.0</td>\n",
       "      <td>-0.600000</td>\n",
       "      <td>-0.670861</td>\n",
       "      <td>1</td>\n",
       "      <td>1</td>\n",
       "      <td>0</td>\n",
       "      <td>0</td>\n",
       "      <td>1</td>\n",
       "      <td>0</td>\n",
       "      <td>0</td>\n",
       "    </tr>\n",
       "    <tr>\n",
       "      <th>...</th>\n",
       "      <td>...</td>\n",
       "      <td>...</td>\n",
       "      <td>...</td>\n",
       "      <td>...</td>\n",
       "      <td>...</td>\n",
       "      <td>...</td>\n",
       "      <td>...</td>\n",
       "      <td>...</td>\n",
       "      <td>...</td>\n",
       "      <td>...</td>\n",
       "      <td>...</td>\n",
       "      <td>...</td>\n",
       "    </tr>\n",
       "    <tr>\n",
       "      <th>999991</th>\n",
       "      <td>-0.116883</td>\n",
       "      <td>1.000000</td>\n",
       "      <td>0.0</td>\n",
       "      <td>-0.400000</td>\n",
       "      <td>0.210182</td>\n",
       "      <td>1</td>\n",
       "      <td>1</td>\n",
       "      <td>0</td>\n",
       "      <td>0</td>\n",
       "      <td>0</td>\n",
       "      <td>1</td>\n",
       "      <td>0</td>\n",
       "    </tr>\n",
       "    <tr>\n",
       "      <th>999993</th>\n",
       "      <td>-0.649351</td>\n",
       "      <td>0.000000</td>\n",
       "      <td>-1.0</td>\n",
       "      <td>-0.533333</td>\n",
       "      <td>-0.998340</td>\n",
       "      <td>0</td>\n",
       "      <td>1</td>\n",
       "      <td>0</td>\n",
       "      <td>0</td>\n",
       "      <td>1</td>\n",
       "      <td>0</td>\n",
       "      <td>0</td>\n",
       "    </tr>\n",
       "    <tr>\n",
       "      <th>999995</th>\n",
       "      <td>1.038961</td>\n",
       "      <td>1.000000</td>\n",
       "      <td>2.0</td>\n",
       "      <td>0.600000</td>\n",
       "      <td>0.349835</td>\n",
       "      <td>1</td>\n",
       "      <td>1</td>\n",
       "      <td>0</td>\n",
       "      <td>0</td>\n",
       "      <td>0</td>\n",
       "      <td>1</td>\n",
       "      <td>0</td>\n",
       "    </tr>\n",
       "    <tr>\n",
       "      <th>999996</th>\n",
       "      <td>0.129870</td>\n",
       "      <td>0.000000</td>\n",
       "      <td>0.0</td>\n",
       "      <td>0.600000</td>\n",
       "      <td>-0.530441</td>\n",
       "      <td>1</td>\n",
       "      <td>1</td>\n",
       "      <td>0</td>\n",
       "      <td>0</td>\n",
       "      <td>1</td>\n",
       "      <td>0</td>\n",
       "      <td>0</td>\n",
       "    </tr>\n",
       "    <tr>\n",
       "      <th>999999</th>\n",
       "      <td>-0.779221</td>\n",
       "      <td>0.333333</td>\n",
       "      <td>-1.0</td>\n",
       "      <td>-0.800000</td>\n",
       "      <td>-0.906590</td>\n",
       "      <td>0</td>\n",
       "      <td>0</td>\n",
       "      <td>0</td>\n",
       "      <td>0</td>\n",
       "      <td>1</td>\n",
       "      <td>0</td>\n",
       "      <td>0</td>\n",
       "    </tr>\n",
       "  </tbody>\n",
       "</table>\n",
       "<p>602438 rows × 12 columns</p>\n",
       "</div>"
      ],
      "text/plain": [
       "        building_size     floor  rooms_count  construction_year  \\\n",
       "2            0.415584  0.666667          1.0           0.466667   \n",
       "7            0.000000  1.000000          0.0          -0.066667   \n",
       "8           -0.285714  1.000000          0.0           0.133333   \n",
       "10          -0.168831  1.000000          0.0           0.600000   \n",
       "11          -0.116883  0.000000          0.0          -0.600000   \n",
       "...               ...       ...          ...                ...   \n",
       "999991      -0.116883  1.000000          0.0          -0.400000   \n",
       "999993      -0.649351  0.000000         -1.0          -0.533333   \n",
       "999995       1.038961  1.000000          2.0           0.600000   \n",
       "999996       0.129870  0.000000          0.0           0.600000   \n",
       "999999      -0.779221  0.333333         -1.0          -0.800000   \n",
       "\n",
       "        final_price_log has_warehouse has_parking cat2_slug_commercial-rent  \\\n",
       "2             -0.613840             1           1                         0   \n",
       "7              0.378997             1           1                         0   \n",
       "8             -0.117297             1           1                         0   \n",
       "10             0.147924             1           1                         0   \n",
       "11            -0.670861             1           1                         0   \n",
       "...                 ...           ...         ...                       ...   \n",
       "999991         0.210182             1           1                         0   \n",
       "999993        -0.998340             0           1                         0   \n",
       "999995         0.349835             1           1                         0   \n",
       "999996        -0.530441             1           1                         0   \n",
       "999999        -0.906590             0           0                         0   \n",
       "\n",
       "       cat2_slug_commercial-sell cat2_slug_residential-rent  \\\n",
       "2                              0                          1   \n",
       "7                              0                          0   \n",
       "8                              0                          0   \n",
       "10                             0                          0   \n",
       "11                             0                          1   \n",
       "...                          ...                        ...   \n",
       "999991                         0                          0   \n",
       "999993                         0                          1   \n",
       "999995                         0                          0   \n",
       "999996                         0                          1   \n",
       "999999                         0                          1   \n",
       "\n",
       "       cat2_slug_residential-sell  cluster  \n",
       "2                               0        0  \n",
       "7                               1        0  \n",
       "8                               1        0  \n",
       "10                              1        0  \n",
       "11                              0        0  \n",
       "...                           ...      ...  \n",
       "999991                          1        0  \n",
       "999993                          0        0  \n",
       "999995                          1        0  \n",
       "999996                          0        0  \n",
       "999999                          0        0  \n",
       "\n",
       "[602438 rows x 12 columns]"
      ]
     },
     "execution_count": 86,
     "metadata": {},
     "output_type": "execute_result"
    }
   ],
   "source": [
    "df_final"
   ]
  },
  {
   "cell_type": "code",
   "execution_count": null,
   "id": "f7bd57aa",
   "metadata": {},
   "outputs": [
    {
     "data": {
      "text/html": [
       "<div>\n",
       "<style scoped>\n",
       "    .dataframe tbody tr th:only-of-type {\n",
       "        vertical-align: middle;\n",
       "    }\n",
       "\n",
       "    .dataframe tbody tr th {\n",
       "        vertical-align: top;\n",
       "    }\n",
       "\n",
       "    .dataframe thead th {\n",
       "        text-align: right;\n",
       "    }\n",
       "</style>\n",
       "<table border=\"1\" class=\"dataframe\">\n",
       "  <thead>\n",
       "    <tr style=\"text-align: right;\">\n",
       "      <th></th>\n",
       "      <th>building_size</th>\n",
       "      <th>floor</th>\n",
       "      <th>rooms_count</th>\n",
       "      <th>construction_year</th>\n",
       "      <th>final_price_log</th>\n",
       "      <th>has_warehouse</th>\n",
       "      <th>has_parking</th>\n",
       "      <th>cat2_slug_commercial-rent</th>\n",
       "      <th>cat2_slug_commercial-sell</th>\n",
       "      <th>cat2_slug_residential-rent</th>\n",
       "      <th>cat2_slug_residential-sell</th>\n",
       "      <th>cluster</th>\n",
       "      <th>location_latitude</th>\n",
       "      <th>location_longitude</th>\n",
       "    </tr>\n",
       "  </thead>\n",
       "  <tbody>\n",
       "    <tr>\n",
       "      <th>2</th>\n",
       "      <td>0.415584</td>\n",
       "      <td>0.666667</td>\n",
       "      <td>1.0</td>\n",
       "      <td>0.466667</td>\n",
       "      <td>-0.613840</td>\n",
       "      <td>1</td>\n",
       "      <td>1</td>\n",
       "      <td>0</td>\n",
       "      <td>0</td>\n",
       "      <td>1</td>\n",
       "      <td>0</td>\n",
       "      <td>0.0</td>\n",
       "      <td>35.703865</td>\n",
       "      <td>51.373459</td>\n",
       "    </tr>\n",
       "    <tr>\n",
       "      <th>7</th>\n",
       "      <td>0.000000</td>\n",
       "      <td>1.000000</td>\n",
       "      <td>0.0</td>\n",
       "      <td>-0.066667</td>\n",
       "      <td>0.378997</td>\n",
       "      <td>1</td>\n",
       "      <td>1</td>\n",
       "      <td>0</td>\n",
       "      <td>0</td>\n",
       "      <td>0</td>\n",
       "      <td>1</td>\n",
       "      <td>0.0</td>\n",
       "      <td>35.729832</td>\n",
       "      <td>51.505466</td>\n",
       "    </tr>\n",
       "    <tr>\n",
       "      <th>8</th>\n",
       "      <td>-0.285714</td>\n",
       "      <td>1.000000</td>\n",
       "      <td>0.0</td>\n",
       "      <td>0.133333</td>\n",
       "      <td>-0.117297</td>\n",
       "      <td>1</td>\n",
       "      <td>1</td>\n",
       "      <td>0</td>\n",
       "      <td>0</td>\n",
       "      <td>0</td>\n",
       "      <td>1</td>\n",
       "      <td>0.0</td>\n",
       "      <td>35.712364</td>\n",
       "      <td>50.794781</td>\n",
       "    </tr>\n",
       "    <tr>\n",
       "      <th>10</th>\n",
       "      <td>-0.168831</td>\n",
       "      <td>1.000000</td>\n",
       "      <td>0.0</td>\n",
       "      <td>0.600000</td>\n",
       "      <td>0.147924</td>\n",
       "      <td>1</td>\n",
       "      <td>1</td>\n",
       "      <td>0</td>\n",
       "      <td>0</td>\n",
       "      <td>0</td>\n",
       "      <td>1</td>\n",
       "      <td>0.0</td>\n",
       "      <td>35.778664</td>\n",
       "      <td>51.757549</td>\n",
       "    </tr>\n",
       "    <tr>\n",
       "      <th>11</th>\n",
       "      <td>-0.116883</td>\n",
       "      <td>0.000000</td>\n",
       "      <td>0.0</td>\n",
       "      <td>-0.600000</td>\n",
       "      <td>-0.670861</td>\n",
       "      <td>1</td>\n",
       "      <td>1</td>\n",
       "      <td>0</td>\n",
       "      <td>0</td>\n",
       "      <td>1</td>\n",
       "      <td>0</td>\n",
       "      <td>0.0</td>\n",
       "      <td>35.733952</td>\n",
       "      <td>51.380608</td>\n",
       "    </tr>\n",
       "    <tr>\n",
       "      <th>...</th>\n",
       "      <td>...</td>\n",
       "      <td>...</td>\n",
       "      <td>...</td>\n",
       "      <td>...</td>\n",
       "      <td>...</td>\n",
       "      <td>...</td>\n",
       "      <td>...</td>\n",
       "      <td>...</td>\n",
       "      <td>...</td>\n",
       "      <td>...</td>\n",
       "      <td>...</td>\n",
       "      <td>...</td>\n",
       "      <td>...</td>\n",
       "      <td>...</td>\n",
       "    </tr>\n",
       "    <tr>\n",
       "      <th>999984</th>\n",
       "      <td>NaN</td>\n",
       "      <td>NaN</td>\n",
       "      <td>NaN</td>\n",
       "      <td>NaN</td>\n",
       "      <td>NaN</td>\n",
       "      <td>NaN</td>\n",
       "      <td>NaN</td>\n",
       "      <td>NaN</td>\n",
       "      <td>NaN</td>\n",
       "      <td>NaN</td>\n",
       "      <td>NaN</td>\n",
       "      <td>NaN</td>\n",
       "      <td>NaN</td>\n",
       "      <td>NaN</td>\n",
       "    </tr>\n",
       "    <tr>\n",
       "      <th>999985</th>\n",
       "      <td>NaN</td>\n",
       "      <td>NaN</td>\n",
       "      <td>NaN</td>\n",
       "      <td>NaN</td>\n",
       "      <td>NaN</td>\n",
       "      <td>NaN</td>\n",
       "      <td>NaN</td>\n",
       "      <td>NaN</td>\n",
       "      <td>NaN</td>\n",
       "      <td>NaN</td>\n",
       "      <td>NaN</td>\n",
       "      <td>NaN</td>\n",
       "      <td>NaN</td>\n",
       "      <td>NaN</td>\n",
       "    </tr>\n",
       "    <tr>\n",
       "      <th>999987</th>\n",
       "      <td>NaN</td>\n",
       "      <td>NaN</td>\n",
       "      <td>NaN</td>\n",
       "      <td>NaN</td>\n",
       "      <td>NaN</td>\n",
       "      <td>NaN</td>\n",
       "      <td>NaN</td>\n",
       "      <td>NaN</td>\n",
       "      <td>NaN</td>\n",
       "      <td>NaN</td>\n",
       "      <td>NaN</td>\n",
       "      <td>NaN</td>\n",
       "      <td>NaN</td>\n",
       "      <td>NaN</td>\n",
       "    </tr>\n",
       "    <tr>\n",
       "      <th>999992</th>\n",
       "      <td>NaN</td>\n",
       "      <td>NaN</td>\n",
       "      <td>NaN</td>\n",
       "      <td>NaN</td>\n",
       "      <td>NaN</td>\n",
       "      <td>NaN</td>\n",
       "      <td>NaN</td>\n",
       "      <td>NaN</td>\n",
       "      <td>NaN</td>\n",
       "      <td>NaN</td>\n",
       "      <td>NaN</td>\n",
       "      <td>NaN</td>\n",
       "      <td>NaN</td>\n",
       "      <td>NaN</td>\n",
       "    </tr>\n",
       "    <tr>\n",
       "      <th>999997</th>\n",
       "      <td>NaN</td>\n",
       "      <td>NaN</td>\n",
       "      <td>NaN</td>\n",
       "      <td>NaN</td>\n",
       "      <td>NaN</td>\n",
       "      <td>NaN</td>\n",
       "      <td>NaN</td>\n",
       "      <td>NaN</td>\n",
       "      <td>NaN</td>\n",
       "      <td>NaN</td>\n",
       "      <td>NaN</td>\n",
       "      <td>NaN</td>\n",
       "      <td>NaN</td>\n",
       "      <td>NaN</td>\n",
       "    </tr>\n",
       "  </tbody>\n",
       "</table>\n",
       "<p>919341 rows × 14 columns</p>\n",
       "</div>"
      ],
      "text/plain": [
       "        building_size     floor  rooms_count  construction_year  \\\n",
       "2            0.415584  0.666667          1.0           0.466667   \n",
       "7            0.000000  1.000000          0.0          -0.066667   \n",
       "8           -0.285714  1.000000          0.0           0.133333   \n",
       "10          -0.168831  1.000000          0.0           0.600000   \n",
       "11          -0.116883  0.000000          0.0          -0.600000   \n",
       "...               ...       ...          ...                ...   \n",
       "999984            NaN       NaN          NaN                NaN   \n",
       "999985            NaN       NaN          NaN                NaN   \n",
       "999987            NaN       NaN          NaN                NaN   \n",
       "999992            NaN       NaN          NaN                NaN   \n",
       "999997            NaN       NaN          NaN                NaN   \n",
       "\n",
       "        final_price_log has_warehouse has_parking cat2_slug_commercial-rent  \\\n",
       "2             -0.613840             1           1                         0   \n",
       "7              0.378997             1           1                         0   \n",
       "8             -0.117297             1           1                         0   \n",
       "10             0.147924             1           1                         0   \n",
       "11            -0.670861             1           1                         0   \n",
       "...                 ...           ...         ...                       ...   \n",
       "999984              NaN           NaN         NaN                       NaN   \n",
       "999985              NaN           NaN         NaN                       NaN   \n",
       "999987              NaN           NaN         NaN                       NaN   \n",
       "999992              NaN           NaN         NaN                       NaN   \n",
       "999997              NaN           NaN         NaN                       NaN   \n",
       "\n",
       "       cat2_slug_commercial-sell cat2_slug_residential-rent  \\\n",
       "2                              0                          1   \n",
       "7                              0                          0   \n",
       "8                              0                          0   \n",
       "10                             0                          0   \n",
       "11                             0                          1   \n",
       "...                          ...                        ...   \n",
       "999984                       NaN                        NaN   \n",
       "999985                       NaN                        NaN   \n",
       "999987                       NaN                        NaN   \n",
       "999992                       NaN                        NaN   \n",
       "999997                       NaN                        NaN   \n",
       "\n",
       "       cat2_slug_residential-sell  cluster  location_latitude  \\\n",
       "2                               0      0.0          35.703865   \n",
       "7                               1      0.0          35.729832   \n",
       "8                               1      0.0          35.712364   \n",
       "10                              1      0.0          35.778664   \n",
       "11                              0      0.0          35.733952   \n",
       "...                           ...      ...                ...   \n",
       "999984                        NaN      NaN                NaN   \n",
       "999985                        NaN      NaN                NaN   \n",
       "999987                        NaN      NaN                NaN   \n",
       "999992                        NaN      NaN                NaN   \n",
       "999997                        NaN      NaN                NaN   \n",
       "\n",
       "        location_longitude  \n",
       "2                51.373459  \n",
       "7                51.505466  \n",
       "8                50.794781  \n",
       "10               51.757549  \n",
       "11               51.380608  \n",
       "...                    ...  \n",
       "999984                 NaN  \n",
       "999985                 NaN  \n",
       "999987                 NaN  \n",
       "999992                 NaN  \n",
       "999997                 NaN  \n",
       "\n",
       "[919341 rows x 14 columns]"
      ]
     },
     "execution_count": 85,
     "metadata": {},
     "output_type": "execute_result"
    }
   ],
   "source": [
    "pd.concat([df_final, df[['location_latitude', 'location_longitude']]], axis=1)"
   ]
  },
  {
   "cell_type": "code",
   "execution_count": 67,
   "id": "8242477e",
   "metadata": {},
   "outputs": [
    {
     "ename": "KeyError",
     "evalue": "\"['location_latitude', 'location_longitude'] not in index\"",
     "output_type": "error",
     "traceback": [
      "\u001b[31m---------------------------------------------------------------------------\u001b[39m",
      "\u001b[31mKeyError\u001b[39m                                  Traceback (most recent call last)",
      "\u001b[36mCell\u001b[39m\u001b[36m \u001b[39m\u001b[32mIn[67]\u001b[39m\u001b[32m, line 5\u001b[39m\n\u001b[32m      2\u001b[39m \u001b[38;5;28;01mfrom\u001b[39;00m\u001b[38;5;250m \u001b[39m\u001b[34;01mpyproj\u001b[39;00m\u001b[38;5;250m \u001b[39m\u001b[38;5;28;01mimport\u001b[39;00m Transformer\n\u001b[32m      4\u001b[39m \u001b[38;5;66;03m# فقط رکوردهایی که مختصات دارن\u001b[39;00m\n\u001b[32m----> \u001b[39m\u001b[32m5\u001b[39m coords = df_clean[[\u001b[33m'\u001b[39m\u001b[33mlocation_latitude\u001b[39m\u001b[33m'\u001b[39m, \u001b[33m'\u001b[39m\u001b[33mlocation_longitude\u001b[39m\u001b[33m'\u001b[39m, \u001b[33m'\u001b[39m\u001b[33mfinal_price_log\u001b[39m\u001b[33m'\u001b[39m, \u001b[33m'\u001b[39m\u001b[33mcluster\u001b[39m\u001b[33m'\u001b[39m]].dropna()\n\u001b[32m      7\u001b[39m \u001b[38;5;66;03m# تبدیل مختصات به UTM (اینجا Zone 39N فرض شده، اگر منطقه‌ی داده‌ها فرق داره باید Zone اصلاح بشه)\u001b[39;00m\n\u001b[32m      8\u001b[39m transformer = Transformer.from_crs(\u001b[33m\"\u001b[39m\u001b[33mepsg:4326\u001b[39m\u001b[33m\"\u001b[39m, \u001b[33m\"\u001b[39m\u001b[33mepsg:32639\u001b[39m\u001b[33m\"\u001b[39m, always_xy=\u001b[38;5;28;01mTrue\u001b[39;00m)\n",
      "\u001b[36mFile \u001b[39m\u001b[32m~/.miniconda3/envs/test/lib/python3.11/site-packages/pandas/core/frame.py:4113\u001b[39m, in \u001b[36mDataFrame.__getitem__\u001b[39m\u001b[34m(self, key)\u001b[39m\n\u001b[32m   4111\u001b[39m     \u001b[38;5;28;01mif\u001b[39;00m is_iterator(key):\n\u001b[32m   4112\u001b[39m         key = \u001b[38;5;28mlist\u001b[39m(key)\n\u001b[32m-> \u001b[39m\u001b[32m4113\u001b[39m     indexer = \u001b[38;5;28mself\u001b[39m.columns._get_indexer_strict(key, \u001b[33m\"\u001b[39m\u001b[33mcolumns\u001b[39m\u001b[33m\"\u001b[39m)[\u001b[32m1\u001b[39m]\n\u001b[32m   4115\u001b[39m \u001b[38;5;66;03m# take() does not accept boolean indexers\u001b[39;00m\n\u001b[32m   4116\u001b[39m \u001b[38;5;28;01mif\u001b[39;00m \u001b[38;5;28mgetattr\u001b[39m(indexer, \u001b[33m\"\u001b[39m\u001b[33mdtype\u001b[39m\u001b[33m\"\u001b[39m, \u001b[38;5;28;01mNone\u001b[39;00m) == \u001b[38;5;28mbool\u001b[39m:\n",
      "\u001b[36mFile \u001b[39m\u001b[32m~/.miniconda3/envs/test/lib/python3.11/site-packages/pandas/core/indexes/base.py:6212\u001b[39m, in \u001b[36mIndex._get_indexer_strict\u001b[39m\u001b[34m(self, key, axis_name)\u001b[39m\n\u001b[32m   6209\u001b[39m \u001b[38;5;28;01melse\u001b[39;00m:\n\u001b[32m   6210\u001b[39m     keyarr, indexer, new_indexer = \u001b[38;5;28mself\u001b[39m._reindex_non_unique(keyarr)\n\u001b[32m-> \u001b[39m\u001b[32m6212\u001b[39m \u001b[38;5;28mself\u001b[39m._raise_if_missing(keyarr, indexer, axis_name)\n\u001b[32m   6214\u001b[39m keyarr = \u001b[38;5;28mself\u001b[39m.take(indexer)\n\u001b[32m   6215\u001b[39m \u001b[38;5;28;01mif\u001b[39;00m \u001b[38;5;28misinstance\u001b[39m(key, Index):\n\u001b[32m   6216\u001b[39m     \u001b[38;5;66;03m# GH 42790 - Preserve name from an Index\u001b[39;00m\n",
      "\u001b[36mFile \u001b[39m\u001b[32m~/.miniconda3/envs/test/lib/python3.11/site-packages/pandas/core/indexes/base.py:6264\u001b[39m, in \u001b[36mIndex._raise_if_missing\u001b[39m\u001b[34m(self, key, indexer, axis_name)\u001b[39m\n\u001b[32m   6261\u001b[39m     \u001b[38;5;28;01mraise\u001b[39;00m \u001b[38;5;167;01mKeyError\u001b[39;00m(\u001b[33mf\u001b[39m\u001b[33m\"\u001b[39m\u001b[33mNone of [\u001b[39m\u001b[38;5;132;01m{\u001b[39;00mkey\u001b[38;5;132;01m}\u001b[39;00m\u001b[33m] are in the [\u001b[39m\u001b[38;5;132;01m{\u001b[39;00maxis_name\u001b[38;5;132;01m}\u001b[39;00m\u001b[33m]\u001b[39m\u001b[33m\"\u001b[39m)\n\u001b[32m   6263\u001b[39m not_found = \u001b[38;5;28mlist\u001b[39m(ensure_index(key)[missing_mask.nonzero()[\u001b[32m0\u001b[39m]].unique())\n\u001b[32m-> \u001b[39m\u001b[32m6264\u001b[39m \u001b[38;5;28;01mraise\u001b[39;00m \u001b[38;5;167;01mKeyError\u001b[39;00m(\u001b[33mf\u001b[39m\u001b[33m\"\u001b[39m\u001b[38;5;132;01m{\u001b[39;00mnot_found\u001b[38;5;132;01m}\u001b[39;00m\u001b[33m not in index\u001b[39m\u001b[33m\"\u001b[39m)\n",
      "\u001b[31mKeyError\u001b[39m: \"['location_latitude', 'location_longitude'] not in index\""
     ]
    }
   ],
   "source": [
    "import matplotlib.pyplot as plt\n",
    "from pyproj import Transformer\n",
    "\n",
    "# فقط رکوردهایی که مختصات دارن\n",
    "coords = df_clean[['location_latitude', 'location_longitude', 'final_price_log', 'cluster']].dropna()\n",
    "\n",
    "# تبدیل مختصات به UTM (اینجا Zone 39N فرض شده، اگر منطقه‌ی داده‌ها فرق داره باید Zone اصلاح بشه)\n",
    "transformer = Transformer.from_crs(\"epsg:4326\", \"epsg:32639\", always_xy=True)\n",
    "\n",
    "coords['UTM_E'], coords['UTM_N'] = transformer.transform(\n",
    "    coords['location_longitude'].values,\n",
    "    coords['location_latitude'].values\n",
    ")\n",
    "\n",
    "# مراکز خوشه‌ها هم به UTM تبدیل کنیم\n",
    "centroids = kmeans.cluster_centers_   # از مدل KMeans قبلی\n",
    "centroids_df = pd.DataFrame(centroids, columns=num_cols)\n",
    "\n",
    "# برای نمایش مراکز روی نقشه، لازم داریم مختصات مرکز خوشه‌ها در UTM\n",
    "# چون ما latitude/longitude رو از فیچرها حذف کردیم، اینجا فقط قیمته → پس برای نمایش ساده‌تر فقط X=final_price_log و Y=neighborhood_encoded رو نمی‌خوایم\n",
    "# پس مراکز جغرافیایی رو از داده‌ی اصلی محاسبه می‌کنیم\n",
    "centroids_geo = coords.groupby('cluster')[['UTM_E','UTM_N']].mean().reset_index()\n",
    "\n",
    "# رسم نمودار\n",
    "plt.figure(figsize=(12, 8))\n",
    "scatter = plt.scatter(coords['UTM_E'], coords['UTM_N'],\n",
    "                      c=coords['cluster'], cmap='tab10', alpha=0.5, s=10, label=\"Properties\")\n",
    "\n",
    "# رسم مراکز خوشه‌ها\n",
    "plt.scatter(centroids_geo['UTM_E'], centroids_geo['UTM_N'],\n",
    "            c=centroids_geo['cluster'], cmap='tab10', \n",
    "            marker='X', s=200, edgecolor='black', linewidth=1.5, label=\"Cluster Centers\")\n",
    "\n",
    "# عنوان و برچسب محور\n",
    "plt.xlabel(\"UTM Easting (m)\")\n",
    "plt.ylabel(\"UTM Northing (m)\")\n",
    "plt.title(\"K-means Clustering of Properties (UTM Coordinates)\")\n",
    "\n",
    "# legend و colorbar\n",
    "plt.legend()\n",
    "plt.show()"
   ]
  }
 ],
 "metadata": {
  "kernelspec": {
   "display_name": "test",
   "language": "python",
   "name": "python3"
  },
  "language_info": {
   "codemirror_mode": {
    "name": "ipython",
    "version": 3
   },
   "file_extension": ".py",
   "mimetype": "text/x-python",
   "name": "python",
   "nbconvert_exporter": "python",
   "pygments_lexer": "ipython3",
   "version": "3.11.13"
  }
 },
 "nbformat": 4,
 "nbformat_minor": 5
}
