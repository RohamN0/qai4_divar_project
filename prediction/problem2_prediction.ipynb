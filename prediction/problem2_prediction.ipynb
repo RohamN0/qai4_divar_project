{
  "nbformat": 4,
  "nbformat_minor": 0,
  "metadata": {
    "colab": {
      "provenance": []
    },
    "kernelspec": {
      "name": "python3",
      "display_name": "Python 3"
    },
    "language_info": {
      "name": "python"
    }
  },
  "cells": [
    {
      "cell_type": "code",
      "execution_count": 33,
      "metadata": {
        "id": "h-5YTuSFYfXB"
      },
      "outputs": [],
      "source": [
        "import pandas as pd\n",
        "import numpy as np\n",
        "import matplotlib.pyplot as plt\n",
        "import seaborn as sns\n",
        "from sklearn.model_selection import train_test_split, GridSearchCV, RandomizedSearchCV\n",
        "from sklearn.preprocessing import StandardScaler, LabelEncoder\n",
        "from sklearn.ensemble import RandomForestRegressor\n",
        "from sklearn.metrics import r2_score, mean_absolute_error, mean_squared_error\n",
        "import re\n",
        "import scipy.stats as stats"
      ]
    },
    {
      "cell_type": "code",
      "source": [
        "import gdown\n",
        "\n",
        "ID = \"https://drive.google.com/drive/folders/1RZJdNpCfbMt2SB_kfWsxQgOk5LeuV7lw\"\n",
        "gdown.download_folder(ID, quiet=True)\n",
        "df = pd.read_csv('Divar Dataset/Divar.csv', low_memory=False)\n",
        "\n",
        "# Display basic info\n",
        "print(df.info())\n",
        "print(df.head())\n",
        "\n",
        "# Check for missing values\n",
        "print(df.isnull().sum())"
      ],
      "metadata": {
        "colab": {
          "base_uri": "https://localhost:8080/"
        },
        "id": "y65RBXz9YnT4",
        "outputId": "38f566da-e154-424e-f884-cd0fe4c5f50c"
      },
      "execution_count": 19,
      "outputs": [
        {
          "output_type": "stream",
          "name": "stdout",
          "text": [
            "<class 'pandas.core.frame.DataFrame'>\n",
            "RangeIndex: 1000000 entries, 0 to 999999\n",
            "Data columns (total 61 columns):\n",
            " #   Column                      Non-Null Count    Dtype  \n",
            "---  ------                      --------------    -----  \n",
            " 0   Unnamed: 0                  1000000 non-null  int64  \n",
            " 1   cat2_slug                   1000000 non-null  object \n",
            " 2   cat3_slug                   999999 non-null   object \n",
            " 3   city_slug                   999998 non-null   object \n",
            " 4   neighborhood_slug           437139 non-null   object \n",
            " 5   created_at_month            1000000 non-null  object \n",
            " 6   user_type                   288882 non-null   object \n",
            " 7   description                 1000000 non-null  object \n",
            " 8   title                       999946 non-null   object \n",
            " 9   rent_mode                   352994 non-null   object \n",
            " 10  rent_value                  351322 non-null   float64\n",
            " 11  rent_to_single              19 non-null       object \n",
            " 12  rent_type                   103961 non-null   object \n",
            " 13  price_mode                  573606 non-null   object \n",
            " 14  price_value                 568346 non-null   float64\n",
            " 15  credit_mode                 352994 non-null   object \n",
            " 16  credit_value                352095 non-null   float64\n",
            " 17  rent_credit_transform       352985 non-null   object \n",
            " 18  transformable_price         352894 non-null   object \n",
            " 19  transformable_credit        352085 non-null   float64\n",
            " 20  transformed_credit          72409 non-null    float64\n",
            " 21  transformable_rent          351248 non-null   float64\n",
            " 22  transformed_rent            72409 non-null    float64\n",
            " 23  land_size                   186396 non-null   float64\n",
            " 24  building_size               980394 non-null   float64\n",
            " 25  deed_type                   253458 non-null   object \n",
            " 26  has_business_deed           34679 non-null    object \n",
            " 27  floor                       541748 non-null   object \n",
            " 28  rooms_count                 845899 non-null   object \n",
            " 29  total_floors_count          304352 non-null   object \n",
            " 30  unit_per_floor              302283 non-null   object \n",
            " 31  has_balcony                 506411 non-null   object \n",
            " 32  has_elevator                541749 non-null   object \n",
            " 33  has_warehouse               728155 non-null   object \n",
            " 34  has_parking                 728156 non-null   object \n",
            " 35  construction_year           815828 non-null   object \n",
            " 36  is_rebuilt                  529470 non-null   object \n",
            " 37  has_water                   33444 non-null    object \n",
            " 38  has_warm_water_provider     379500 non-null   object \n",
            " 39  has_electricity             33445 non-null    object \n",
            " 40  has_gas                     33430 non-null    object \n",
            " 41  has_heating_system          368969 non-null   object \n",
            " 42  has_cooling_system          350619 non-null   object \n",
            " 43  has_restroom                406913 non-null   object \n",
            " 44  has_security_guard          31312 non-null    object \n",
            " 45  has_barbecue                31198 non-null    object \n",
            " 46  building_direction          323923 non-null   object \n",
            " 47  has_pool                    29390 non-null    object \n",
            " 48  has_jacuzzi                 28728 non-null    object \n",
            " 49  has_sauna                   28479 non-null    object \n",
            " 50  floor_material              405984 non-null   object \n",
            " 51  property_type               27057 non-null    object \n",
            " 52  regular_person_capacity     29870 non-null    float64\n",
            " 53  extra_person_capacity       24009 non-null    object \n",
            " 54  cost_per_extra_person       10241 non-null    float64\n",
            " 55  rent_price_on_regular_days  18068 non-null    float64\n",
            " 56  rent_price_on_special_days  10463 non-null    float64\n",
            " 57  rent_price_at_weekends      13551 non-null    float64\n",
            " 58  location_latitude           655608 non-null   float64\n",
            " 59  location_longitude          655608 non-null   float64\n",
            " 60  location_radius             339699 non-null   float64\n",
            "dtypes: float64(17), int64(1), object(43)\n",
            "memory usage: 465.4+ MB\n",
            "None\n",
            "   Unnamed: 0         cat2_slug       cat3_slug city_slug neighborhood_slug  \\\n",
            "0           0    temporary-rent           villa     karaj         mehrshahr   \n",
            "1           1  residential-sell  apartment-sell    tehran           gholhak   \n",
            "2           2  residential-rent  apartment-rent    tehran             tohid   \n",
            "3           3   commercial-rent     office-rent    tehran          elahiyeh   \n",
            "4           4  residential-sell  apartment-sell   mashhad          emamreza   \n",
            "\n",
            "      created_at_month    user_type  \\\n",
            "0  2024-08-01 00:00:00  مشاور املاک   \n",
            "1  2024-05-01 00:00:00  مشاور املاک   \n",
            "2  2024-10-01 00:00:00          NaN   \n",
            "3  2024-06-01 00:00:00          NaN   \n",
            "4  2024-05-01 00:00:00  مشاور املاک   \n",
            "\n",
            "                                         description  \\\n",
            "0  ۵۰۰متر\\n۲۰۰متر بنا دوبلکس\\n۳خواب\\nاستخر آبگرم ...   \n",
            "1  دسترسی عالی به مترو و شریعتی \\nمشاعات تمیز \\nب...   \n",
            "2                                    تخلیه پایان ماه   \n",
            "3  فرشته تاپ لوکیشن\\n۹۰ متر موقعیت اداری\\nیک اتاق...   \n",
            "4  هلدینگ ساختمانی اکبری\\n\\nهمراه شما هستیم برای ...   \n",
            "\n",
            "                                              title rent_mode  ...  \\\n",
            "0  باغ ویلا اجاره روزانه استخر داخل لشکرآباد سهیلیه       NaN  ...   \n",
            "1                           ۶۰ متر قلهک فول امکانات       NaN  ...   \n",
            "2                          آپارتمان ۳ خوابه ۱۳۲ متر     مقطوع  ...   \n",
            "3           فرشته ۹۰ متر دفتر کار مدرن موقعیت اداری     مقطوع  ...   \n",
            "4                  ۱۱۵ متری/شمالی رو به آفتاب/اکبری       NaN  ...   \n",
            "\n",
            "   property_type regular_person_capacity extra_person_capacity  \\\n",
            "0            NaN                     4.0                     6   \n",
            "1            NaN                     NaN                   NaN   \n",
            "2            NaN                     NaN                   NaN   \n",
            "3            NaN                     NaN                   NaN   \n",
            "4            NaN                     NaN                   NaN   \n",
            "\n",
            "  cost_per_extra_person  rent_price_on_regular_days  \\\n",
            "0              350000.0                   1500000.0   \n",
            "1                   NaN                         NaN   \n",
            "2                   NaN                         NaN   \n",
            "3                   NaN                         NaN   \n",
            "4                   NaN                         NaN   \n",
            "\n",
            "  rent_price_on_special_days  rent_price_at_weekends location_latitude  \\\n",
            "0               3.500000e+09               3500000.0         35.811684   \n",
            "1                        NaN                     NaN               NaN   \n",
            "2                        NaN                     NaN         35.703865   \n",
            "3                        NaN                     NaN               NaN   \n",
            "4                        NaN                     NaN               NaN   \n",
            "\n",
            "  location_longitude  location_radius  \n",
            "0          50.936600            500.0  \n",
            "1                NaN            500.0  \n",
            "2          51.373459              NaN  \n",
            "3                NaN              NaN  \n",
            "4                NaN              NaN  \n",
            "\n",
            "[5 rows x 61 columns]\n",
            "Unnamed: 0                         0\n",
            "cat2_slug                          0\n",
            "cat3_slug                          1\n",
            "city_slug                          2\n",
            "neighborhood_slug             562861\n",
            "                               ...  \n",
            "rent_price_on_special_days    989537\n",
            "rent_price_at_weekends        986449\n",
            "location_latitude             344392\n",
            "location_longitude            344392\n",
            "location_radius               660301\n",
            "Length: 61, dtype: int64\n"
          ]
        }
      ]
    },
    {
      "cell_type": "code",
      "source": [
        "# Create a copy of the DataFrame to avoid SettingWithCopyWarning\n",
        "df_clean = df.copy()\n",
        "\n",
        "# Drop columns with high missingness or irrelevant to prediction\n",
        "columns_to_drop = ['description', 'title', 'rent_mode', 'rent_value', 'rent_to_single',\n",
        "                   'rent_type', 'price_mode', 'price_value', 'credit_mode', 'credit_value',\n",
        "                   'rent_credit_transform', 'transformed_credit', 'transformed_rent']\n",
        "\n",
        "df_clean = df_clean.drop(columns=columns_to_drop)\n",
        "\n",
        "# Drop rows where target is missing\n",
        "df_clean = df_clean[df_clean['transformable_price'].notna()]\n",
        "\n",
        "# Convert Farsi numbers to English\n",
        "def farsi_to_english(text):\n",
        "    farsi_digits = '۰۱۲۳۴۵۶۷۸۹'\n",
        "    english_digits = '0123456789'\n",
        "    if pd.isna(text):\n",
        "        return text\n",
        "    text = str(text)\n",
        "    for f, e in zip(farsi_digits, english_digits):\n",
        "        text = text.replace(f, e)\n",
        "    return text\n",
        "\n",
        "# Apply to all columns\n",
        "for col in df_clean.columns:\n",
        "    if df_clean[col].dtype == 'object':\n",
        "        df_clean[col] = df_clean[col].apply(farsi_to_english)\n",
        "\n",
        "# Fill missing numerical values with median\n",
        "num_cols = df_clean.select_dtypes(include=np.number).columns\n",
        "for col in num_cols:\n",
        "    df_clean[col] = df_clean[col].fillna(df_clean[col].median())\n",
        "\n",
        "# Fill categorical missing values with mode\n",
        "cat_cols = df_clean.select_dtypes(include='object').columns\n",
        "for col in cat_cols:\n",
        "    mode_val = df_clean[col].mode()\n",
        "    if not mode_val.empty:\n",
        "        df_clean[col] = df_clean[col].fillna(mode_val.iloc[0])\n",
        "    else:\n",
        "        # If no mode exists, fill with a placeholder\n",
        "        df_clean[col] = df_clean[col].fillna('Unknown')\n",
        "\n",
        "# Encode categorical variables\n",
        "label_encoders = {}\n",
        "for col in cat_cols:\n",
        "    le = LabelEncoder()\n",
        "    df_clean[col] = le.fit_transform(df_clean[col].astype(str))\n",
        "    label_encoders[col] = le"
      ],
      "metadata": {
        "id": "lmBXKWhIalEp"
      },
      "execution_count": 21,
      "outputs": []
    },
    {
      "cell_type": "code",
      "source": [
        "# Select features and target\n",
        "X = df_clean.drop('transformable_price', axis=1)\n",
        "y = df_clean['transformable_price']\n",
        "\n",
        "# First split: separate out test set (20%)\n",
        "X_train_val, X_test, y_train_val, y_test = train_test_split(\n",
        "    X, y, test_size=0.2, random_state=42\n",
        ")\n",
        "\n",
        "# Second split: separate validation set from training\n",
        "X_train, X_val, y_train, y_val = train_test_split(\n",
        "    X_train_val, y_train_val, test_size=0.25, random_state=42\n",
        ")\n",
        "\n",
        "print(f\"Training set size: {X_train.shape}\")\n",
        "print(f\"Validation set size: {X_val.shape}\")\n",
        "print(f\"Test set size: {X_test.shape}\")"
      ],
      "metadata": {
        "colab": {
          "base_uri": "https://localhost:8080/"
        },
        "id": "Yno8Ealv02qa",
        "outputId": "c23da839-ef64-4f5e-ca0a-4b7c9282e184"
      },
      "execution_count": 25,
      "outputs": [
        {
          "output_type": "stream",
          "name": "stdout",
          "text": [
            "Training set size: (211736, 47)\n",
            "Validation set size: (70579, 47)\n",
            "Test set size: (70579, 47)\n"
          ]
        }
      ]
    },
    {
      "cell_type": "code",
      "source": [
        "# Define parameter distributions for Random Forest\n",
        "param_dist = {\n",
        "    'n_estimators': stats.randint(50, 300),\n",
        "    'max_depth': [None] + list(range(5, 50, 5)),\n",
        "    'min_samples_split': stats.randint(2, 20),\n",
        "    'min_samples_leaf': stats.randint(1, 10),\n",
        "    'max_features': ['sqrt', 'log2'],\n",
        "    'bootstrap': [True, False]\n",
        "}\n",
        "\n",
        "# Initialize the model\n",
        "rf = RandomForestRegressor(random_state=42, n_jobs=-1)\n",
        "\n",
        "# Initialize RandomizedSearchCV\n",
        "random_search = RandomizedSearchCV(\n",
        "    estimator=rf,\n",
        "    param_distributions=param_dist,\n",
        "    n_iter=4,  # Number of parameter settings to sample\n",
        "    cv=3,  # 3-fold cross-validation\n",
        "    scoring='r2',\n",
        "    n_jobs=-1,\n",
        "    random_state=42,\n",
        "    verbose=1\n",
        ")\n",
        "\n",
        "# Fit RandomizedSearchCV\n",
        "print(\"Starting hyperparameter tuning with RandomizedSearchCV...\")\n",
        "random_search.fit(X_train, y_train)\n",
        "\n",
        "# Get the best parameters\n",
        "best_params = random_search.best_params_\n",
        "print(f\"Best parameters: {best_params}\")\n",
        "print(f\"Best cross-validation score: {random_search.best_score_:.4f}\")\n",
        "\n",
        "# Train the best model on the full training set\n",
        "best_model = random_search.best_estimator_"
      ],
      "metadata": {
        "colab": {
          "base_uri": "https://localhost:8080/"
        },
        "id": "_QHOjcHt57uM",
        "outputId": "185f3160-b8cc-45e0-85a0-0962072d8aeb"
      },
      "execution_count": 37,
      "outputs": [
        {
          "output_type": "stream",
          "name": "stdout",
          "text": [
            "Starting hyperparameter tuning with RandomizedSearchCV...\n",
            "Fitting 3 folds for each of 4 candidates, totalling 12 fits\n",
            "Best parameters: {'bootstrap': False, 'max_depth': 25, 'max_features': 'log2', 'min_samples_leaf': 5, 'min_samples_split': 2, 'n_estimators': 253}\n",
            "Best cross-validation score: 0.1183\n"
          ]
        }
      ]
    },
    {
      "cell_type": "code",
      "source": [
        "# Predict on validation set\n",
        "y_val_pred = best_model.predict(X_val)\n",
        "\n",
        "# Calculate metrics\n",
        "r2_val = r2_score(y_val, y_val_pred)\n",
        "mae_val = mean_absolute_error(y_val, y_val_pred)\n",
        "mse_val = mean_squared_error(y_val, y_val_pred)\n",
        "rmse_val = np.sqrt(mse_val)\n",
        "\n",
        "print(\"\\nValidation Set Evaluation Metrics:\")\n",
        "print(f'R2 Score: {r2_val:.4f}')\n",
        "print(f'MAE: {mae_val:.4f}')\n",
        "print(f'MSE: {mse_val:.4f}')\n",
        "print(f'RMSE: {rmse_val:.4f}')"
      ],
      "metadata": {
        "colab": {
          "base_uri": "https://localhost:8080/"
        },
        "id": "LOiIob1c04qf",
        "outputId": "28e13fda-2e18-41aa-a210-a9f095d5ff51"
      },
      "execution_count": 38,
      "outputs": [
        {
          "output_type": "stream",
          "name": "stdout",
          "text": [
            "\n",
            "Validation Set Evaluation Metrics:\n",
            "R2 Score: 0.1215\n",
            "MAE: 0.2916\n",
            "MSE: 0.1441\n",
            "RMSE: 0.3796\n"
          ]
        }
      ]
    },
    {
      "cell_type": "code",
      "source": [
        "# Retrain the best model on the combined training+validation data\n",
        "print(\"Retraining on combined training+validation data...\")\n",
        "final_model = RandomForestRegressor(**best_params, random_state=42, n_jobs=-1)\n",
        "final_model.fit(X_train_val, y_train_val)\n",
        "\n",
        "# Predict on test set\n",
        "y_test_pred = final_model.predict(X_test)\n",
        "\n",
        "# Calculate metrics\n",
        "r2_test = r2_score(y_test, y_test_pred)\n",
        "mae_test = mean_absolute_error(y_test, y_test_pred)\n",
        "mse_test = mean_squared_error(y_test, y_test_pred)\n",
        "rmse_test = np.sqrt(mse_test)\n",
        "\n",
        "print(\"\\nFinal Test Set Evaluation Metrics:\")\n",
        "print(f'R2 Score: {r2_test:.4f}')\n",
        "print(f'MAE: {mae_test:.4f}')\n",
        "print(f'MSE: {mse_test:.4f}')\n",
        "print(f'RMSE: {rmse_test:.4f}')"
      ],
      "metadata": {
        "colab": {
          "base_uri": "https://localhost:8080/"
        },
        "id": "XvCwru6T5FP-",
        "outputId": "37b9351e-f9b0-4c77-8bae-5378d8faaced"
      },
      "execution_count": 39,
      "outputs": [
        {
          "output_type": "stream",
          "name": "stdout",
          "text": [
            "Retraining on combined training+validation data...\n",
            "\n",
            "Final Test Set Evaluation Metrics:\n",
            "R2 Score: 0.1254\n",
            "MAE: 0.2908\n",
            "MSE: 0.1436\n",
            "RMSE: 0.3789\n"
          ]
        }
      ]
    },
    {
      "cell_type": "code",
      "source": [],
      "metadata": {
        "id": "0MWmpyY36S9o"
      },
      "execution_count": null,
      "outputs": []
    }
  ]
}