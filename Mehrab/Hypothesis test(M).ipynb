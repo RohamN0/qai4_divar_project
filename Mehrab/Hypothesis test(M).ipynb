{
 "cells": [
  {
   "cell_type": "code",
   "execution_count": 1,
   "id": "60c89d81-860f-470e-9860-73b99446dde7",
   "metadata": {},
   "outputs": [],
   "source": [
    "import pandas as pd \n"
   ]
  },
  {
   "cell_type": "code",
   "execution_count": 87,
   "id": "907588b3-04ec-4a33-b4c6-3345d4192665",
   "metadata": {},
   "outputs": [],
   "source": [
    "colums = ['building_size', 'construction_year', 'land_size', 'description']\n",
    "df = pd.read_csv(r'C:\\Users\\rezaei\\OneDrive\\Documents\\Bootcamp\\pro\\Divar.csv', usecols=colums)"
   ]
  },
  {
   "cell_type": "code",
   "execution_count": 89,
   "id": "b0e73599-f0a7-4f2e-b921-e5ff81b65eca",
   "metadata": {},
   "outputs": [
    {
     "data": {
      "text/html": [
       "<div>\n",
       "<style scoped>\n",
       "    .dataframe tbody tr th:only-of-type {\n",
       "        vertical-align: middle;\n",
       "    }\n",
       "\n",
       "    .dataframe tbody tr th {\n",
       "        vertical-align: top;\n",
       "    }\n",
       "\n",
       "    .dataframe thead th {\n",
       "        text-align: right;\n",
       "    }\n",
       "</style>\n",
       "<table border=\"1\" class=\"dataframe\">\n",
       "  <thead>\n",
       "    <tr style=\"text-align: right;\">\n",
       "      <th></th>\n",
       "      <th>description</th>\n",
       "      <th>land_size</th>\n",
       "      <th>building_size</th>\n",
       "      <th>construction_year</th>\n",
       "    </tr>\n",
       "  </thead>\n",
       "  <tbody>\n",
       "    <tr>\n",
       "      <th>0</th>\n",
       "      <td>۵۰۰متر\\n۲۰۰متر بنا دوبلکس\\n۳خواب\\nاستخر آبگرم ...</td>\n",
       "      <td>NaN</td>\n",
       "      <td>500.0</td>\n",
       "      <td>NaN</td>\n",
       "    </tr>\n",
       "    <tr>\n",
       "      <th>1</th>\n",
       "      <td>دسترسی عالی به مترو و شریعتی \\nمشاعات تمیز \\nب...</td>\n",
       "      <td>NaN</td>\n",
       "      <td>60.0</td>\n",
       "      <td>۱۳۸۴</td>\n",
       "    </tr>\n",
       "    <tr>\n",
       "      <th>2</th>\n",
       "      <td>تخلیه پایان ماه</td>\n",
       "      <td>NaN</td>\n",
       "      <td>132.0</td>\n",
       "      <td>۱۴۰۱</td>\n",
       "    </tr>\n",
       "    <tr>\n",
       "      <th>3</th>\n",
       "      <td>فرشته تاپ لوکیشن\\n۹۰ متر موقعیت اداری\\nیک اتاق...</td>\n",
       "      <td>NaN</td>\n",
       "      <td>90.0</td>\n",
       "      <td>۱۴۰۰</td>\n",
       "    </tr>\n",
       "    <tr>\n",
       "      <th>4</th>\n",
       "      <td>هلدینگ ساختمانی اکبری\\n\\nهمراه شما هستیم برای ...</td>\n",
       "      <td>NaN</td>\n",
       "      <td>115.0</td>\n",
       "      <td>۱۴۰۳</td>\n",
       "    </tr>\n",
       "    <tr>\n",
       "      <th>5</th>\n",
       "      <td>اپارتمان ۱۰۰متری واحد جلو دارای دو اتاق خواب ک...</td>\n",
       "      <td>NaN</td>\n",
       "      <td>100.0</td>\n",
       "      <td>۱۳۸۹</td>\n",
       "    </tr>\n",
       "    <tr>\n",
       "      <th>6</th>\n",
       "      <td>♦مشاورین املاک سیب♦\\n✅️کد:G۱۰۵\\n♦با سالها سابق...</td>\n",
       "      <td>NaN</td>\n",
       "      <td>80.0</td>\n",
       "      <td>۱۳۹۵</td>\n",
       "    </tr>\n",
       "    <tr>\n",
       "      <th>7</th>\n",
       "      <td>♡♡♡♡♡♡بنام خدا♡♡♡♡♡♡\\n♡♡♡عرض ادب واحترام♡♡♡\\n♡...</td>\n",
       "      <td>NaN</td>\n",
       "      <td>100.0</td>\n",
       "      <td>۱۳۹۳</td>\n",
       "    </tr>\n",
       "    <tr>\n",
       "      <th>8</th>\n",
       "      <td>با سلام\\n\\nاملاک بزرگ اتحاد با ۲شعبه فعال با ف...</td>\n",
       "      <td>NaN</td>\n",
       "      <td>78.0</td>\n",
       "      <td>۱۳۹۶</td>\n",
       "    </tr>\n",
       "    <tr>\n",
       "      <th>9</th>\n",
       "      <td>اول رسالت فرد  نزدیک به حاشیه فرامرز .. ساکنین...</td>\n",
       "      <td>NaN</td>\n",
       "      <td>80.0</td>\n",
       "      <td>۱۳۸۷</td>\n",
       "    </tr>\n",
       "  </tbody>\n",
       "</table>\n",
       "</div>"
      ],
      "text/plain": [
       "                                         description  land_size  \\\n",
       "0  ۵۰۰متر\\n۲۰۰متر بنا دوبلکس\\n۳خواب\\nاستخر آبگرم ...        NaN   \n",
       "1  دسترسی عالی به مترو و شریعتی \\nمشاعات تمیز \\nب...        NaN   \n",
       "2                                    تخلیه پایان ماه        NaN   \n",
       "3  فرشته تاپ لوکیشن\\n۹۰ متر موقعیت اداری\\nیک اتاق...        NaN   \n",
       "4  هلدینگ ساختمانی اکبری\\n\\nهمراه شما هستیم برای ...        NaN   \n",
       "5  اپارتمان ۱۰۰متری واحد جلو دارای دو اتاق خواب ک...        NaN   \n",
       "6  ♦مشاورین املاک سیب♦\\n✅️کد:G۱۰۵\\n♦با سالها سابق...        NaN   \n",
       "7  ♡♡♡♡♡♡بنام خدا♡♡♡♡♡♡\\n♡♡♡عرض ادب واحترام♡♡♡\\n♡...        NaN   \n",
       "8  با سلام\\n\\nاملاک بزرگ اتحاد با ۲شعبه فعال با ف...        NaN   \n",
       "9  اول رسالت فرد  نزدیک به حاشیه فرامرز .. ساکنین...        NaN   \n",
       "\n",
       "   building_size construction_year  \n",
       "0          500.0               NaN  \n",
       "1           60.0              ۱۳۸۴  \n",
       "2          132.0              ۱۴۰۱  \n",
       "3           90.0              ۱۴۰۰  \n",
       "4          115.0              ۱۴۰۳  \n",
       "5          100.0              ۱۳۸۹  \n",
       "6           80.0              ۱۳۹۵  \n",
       "7          100.0              ۱۳۹۳  \n",
       "8           78.0              ۱۳۹۶  \n",
       "9           80.0              ۱۳۸۷  "
      ]
     },
     "execution_count": 89,
     "metadata": {},
     "output_type": "execute_result"
    }
   ],
   "source": [
    "df.head(10)"
   ]
  },
  {
   "cell_type": "code",
   "execution_count": 91,
   "id": "395c5966-b855-44ca-a66b-4fe0828576b6",
   "metadata": {},
   "outputs": [
    {
     "data": {
      "text/plain": [
       "0"
      ]
     },
     "execution_count": 91,
     "metadata": {},
     "output_type": "execute_result"
    }
   ],
   "source": [
    "df = df.dropna(subset='construction_year')\n",
    "df['construction_year'].isna().sum()"
   ]
  },
  {
   "cell_type": "code",
   "execution_count": 93,
   "id": "071dedaa-cf26-4b94-bf3d-eb0ca8a97ffb",
   "metadata": {},
   "outputs": [
    {
     "name": "stdout",
     "output_type": "stream",
     "text": [
      "<class 'pandas.core.frame.DataFrame'>\n",
      "Index: 815828 entries, 1 to 999999\n",
      "Data columns (total 4 columns):\n",
      " #   Column             Non-Null Count   Dtype  \n",
      "---  ------             --------------   -----  \n",
      " 0   description        815828 non-null  object \n",
      " 1   land_size          186396 non-null  float64\n",
      " 2   building_size      815826 non-null  float64\n",
      " 3   construction_year  815828 non-null  object \n",
      "dtypes: float64(2), object(2)\n",
      "memory usage: 31.1+ MB\n"
     ]
    }
   ],
   "source": [
    "df.info()"
   ]
  },
  {
   "cell_type": "code",
   "execution_count": 95,
   "id": "cf4edf3d-b395-4e31-b859-b764330c8296",
   "metadata": {},
   "outputs": [],
   "source": [
    "persian_to_english = str.maketrans(\"۰۱۲۳۴۵۶۷۸۹\", \"0123456789\")\n",
    "def convert(x):\n",
    "    if 'قبل' in str(x):\n",
    "        return 1365\n",
    "    return int(str(x).translate(persian_to_english))"
   ]
  },
  {
   "cell_type": "code",
   "execution_count": 97,
   "id": "d19ce8e6-4c0a-4291-ae7a-97843d3c67f9",
   "metadata": {},
   "outputs": [
    {
     "data": {
      "text/plain": [
       "dtype('int64')"
      ]
     },
     "execution_count": 97,
     "metadata": {},
     "output_type": "execute_result"
    }
   ],
   "source": [
    "df['construction_year'] = df['construction_year'].apply(convert)\n",
    "df['construction_year'].dtype"
   ]
  },
  {
   "cell_type": "code",
   "execution_count": 98,
   "id": "f21cc58c-fc01-4394-8920-d51d3550a12f",
   "metadata": {},
   "outputs": [
    {
     "name": "stdout",
     "output_type": "stream",
     "text": [
      "<class 'pandas.core.frame.DataFrame'>\n",
      "Index: 815828 entries, 1 to 999999\n",
      "Data columns (total 4 columns):\n",
      " #   Column             Non-Null Count   Dtype  \n",
      "---  ------             --------------   -----  \n",
      " 0   description        815828 non-null  object \n",
      " 1   land_size          186396 non-null  float64\n",
      " 2   building_size      815826 non-null  float64\n",
      " 3   construction_year  815828 non-null  int64  \n",
      "dtypes: float64(2), int64(1), object(1)\n",
      "memory usage: 31.1+ MB\n"
     ]
    }
   ],
   "source": [
    "df.info()"
   ]
  },
  {
   "cell_type": "code",
   "execution_count": 101,
   "id": "af3315a7-5987-42f7-8553-838a42d3a1c5",
   "metadata": {},
   "outputs": [
    {
     "data": {
      "text/html": [
       "<div>\n",
       "<style scoped>\n",
       "    .dataframe tbody tr th:only-of-type {\n",
       "        vertical-align: middle;\n",
       "    }\n",
       "\n",
       "    .dataframe tbody tr th {\n",
       "        vertical-align: top;\n",
       "    }\n",
       "\n",
       "    .dataframe thead th {\n",
       "        text-align: right;\n",
       "    }\n",
       "</style>\n",
       "<table border=\"1\" class=\"dataframe\">\n",
       "  <thead>\n",
       "    <tr style=\"text-align: right;\">\n",
       "      <th></th>\n",
       "      <th>building_size</th>\n",
       "      <th>land_size</th>\n",
       "    </tr>\n",
       "  </thead>\n",
       "  <tbody>\n",
       "    <tr>\n",
       "      <th>231124</th>\n",
       "      <td>NaN</td>\n",
       "      <td>NaN</td>\n",
       "    </tr>\n",
       "    <tr>\n",
       "      <th>299538</th>\n",
       "      <td>NaN</td>\n",
       "      <td>NaN</td>\n",
       "    </tr>\n",
       "  </tbody>\n",
       "</table>\n",
       "</div>"
      ],
      "text/plain": [
       "        building_size  land_size\n",
       "231124            NaN        NaN\n",
       "299538            NaN        NaN"
      ]
     },
     "execution_count": 101,
     "metadata": {},
     "output_type": "execute_result"
    }
   ],
   "source": [
    "df[df.building_size.isna()][['building_size', 'land_size']]"
   ]
  },
  {
   "cell_type": "code",
   "execution_count": 103,
   "id": "0f5ffc0d-516b-4e4e-b92b-a83dc2ae27f1",
   "metadata": {},
   "outputs": [
    {
     "data": {
      "text/plain": [
       "'۱۳۱ متر آپارتمان ۳ خوابه\\nپارکینگ انباری تراس\\nکابینت mdf _ کف سرامیک _ نقاشی شده\\nگاز رومیزی _ هود\\nفول بازسازی شده\\nمبلغ ۹/۷۰۰/۰۰۰/۰۰۰ تومان'"
      ]
     },
     "execution_count": 103,
     "metadata": {},
     "output_type": "execute_result"
    }
   ],
   "source": [
    "df.loc[231124, 'description']"
   ]
  },
  {
   "cell_type": "code",
   "execution_count": 105,
   "id": "def780b7-d33c-4d21-ba69-d3b4422cfa91",
   "metadata": {},
   "outputs": [
    {
     "data": {
      "text/plain": [
       "'انتهای بلوار بعثت خیابان دستغیب جنب مصالح فروشی سلیمانی'"
      ]
     },
     "execution_count": 105,
     "metadata": {},
     "output_type": "execute_result"
    }
   ],
   "source": [
    "df.loc[299538, 'description']"
   ]
  },
  {
   "cell_type": "code",
   "execution_count": 107,
   "id": "6cb5243b-171f-4072-98fc-e45a11f96611",
   "metadata": {},
   "outputs": [],
   "source": [
    "df.loc[231124, 'building_size'] = 131.0"
   ]
  },
  {
   "cell_type": "code",
   "execution_count": 119,
   "id": "fea19ea0-b0ac-44d7-8e6e-5d523f8d821f",
   "metadata": {},
   "outputs": [],
   "source": [
    "df = df.drop(index=299538)"
   ]
  },
  {
   "cell_type": "code",
   "execution_count": 121,
   "id": "87885b3b-2972-4179-a0eb-3ca74c90a836",
   "metadata": {},
   "outputs": [
    {
     "name": "stdout",
     "output_type": "stream",
     "text": [
      "<class 'pandas.core.frame.DataFrame'>\n",
      "Index: 815827 entries, 1 to 999999\n",
      "Data columns (total 4 columns):\n",
      " #   Column             Non-Null Count   Dtype  \n",
      "---  ------             --------------   -----  \n",
      " 0   description        815827 non-null  object \n",
      " 1   land_size          186396 non-null  float64\n",
      " 2   building_size      815827 non-null  float64\n",
      " 3   construction_year  815827 non-null  int64  \n",
      "dtypes: float64(2), int64(1), object(1)\n",
      "memory usage: 31.1+ MB\n"
     ]
    }
   ],
   "source": [
    "df.info()"
   ]
  },
  {
   "cell_type": "code",
   "execution_count": 123,
   "id": "c1d2d8f9-3c94-438f-9cbc-099bebe81341",
   "metadata": {},
   "outputs": [],
   "source": [
    "df1 = df.copy()"
   ]
  },
  {
   "cell_type": "code",
   "execution_count": 133,
   "id": "ad782047-b85a-4945-909f-c9ed49decefc",
   "metadata": {},
   "outputs": [],
   "source": [
    "df1 = df1.drop(columns=['description', 'land_size'])"
   ]
  },
  {
   "cell_type": "code",
   "execution_count": 141,
   "id": "c4ebc3be-27c8-415b-809f-6e9bfc4fe3fa",
   "metadata": {},
   "outputs": [],
   "source": [
    "old_houses = df1[df1[\"construction_year\"] < 1396][\"building_size\"].dropna()\n",
    "new_houses = df1[df1[\"construction_year\"] >= 1396][\"building_size\"].dropna()\n"
   ]
  },
  {
   "cell_type": "code",
   "execution_count": 143,
   "id": "3b16e7b3-4c05-4f10-9c27-611763dca7f1",
   "metadata": {},
   "outputs": [],
   "source": [
    "from scipy import stats"
   ]
  },
  {
   "cell_type": "code",
   "execution_count": 145,
   "id": "9fe04b28-834b-4f96-86d6-aa306b2f1b88",
   "metadata": {},
   "outputs": [
    {
     "name": "stderr",
     "output_type": "stream",
     "text": [
      "C:\\Users\\rezaei\\anaconda3\\Lib\\site-packages\\scipy\\stats\\_axis_nan_policy.py:531: UserWarning: scipy.stats.shapiro: For N > 5000, computed p-value may not be accurate. Current N is 412528.\n",
      "  res = hypotest_fun_out(*samples, **kwds)\n"
     ]
    },
    {
     "data": {
      "text/plain": [
       "ShapiroResult(statistic=0.0071234802569691835, pvalue=2.3666475623032504e-221)"
      ]
     },
     "execution_count": 145,
     "metadata": {},
     "output_type": "execute_result"
    }
   ],
   "source": [
    "stats.shapiro(old_houses)"
   ]
  },
  {
   "cell_type": "code",
   "execution_count": 147,
   "id": "7077c03a-88aa-4c81-9541-71b03fb50075",
   "metadata": {},
   "outputs": [
    {
     "name": "stderr",
     "output_type": "stream",
     "text": [
      "C:\\Users\\rezaei\\anaconda3\\Lib\\site-packages\\scipy\\stats\\_axis_nan_policy.py:531: UserWarning: scipy.stats.shapiro: For N > 5000, computed p-value may not be accurate. Current N is 403299.\n",
      "  res = hypotest_fun_out(*samples, **kwds)\n"
     ]
    },
    {
     "data": {
      "text/plain": [
       "ShapiroResult(statistic=0.008465789847212912, pvalue=8.633900676012841e-221)"
      ]
     },
     "execution_count": 147,
     "metadata": {},
     "output_type": "execute_result"
    }
   ],
   "source": [
    "stats.shapiro(new_houses)"
   ]
  },
  {
   "cell_type": "code",
   "execution_count": 155,
   "id": "598196d3-150d-4126-a00d-cd8612f8547a",
   "metadata": {},
   "outputs": [],
   "source": [
    "import matplotlib.pyplot as plt"
   ]
  },
  {
   "cell_type": "code",
   "execution_count": 165,
   "id": "4a382149-c6a1-473b-a8a8-4cbfe82ff18a",
   "metadata": {},
   "outputs": [
    {
     "data": {
      "image/png": "[encoded data removed]",
      "text/plain": [
       "<Figure size 600x600 with 1 Axes>"
      ]
     },
     "metadata": {},
     "output_type": "display_data"
    }
   ],
   "source": [
    "plt.figure(figsize=(6,6))\n",
    "stats.probplot(old_houses.sample(10000, random_state=42), dist=\"norm\", plot=plt)\n",
    "plt.show()"
   ]
  },
  {
   "cell_type": "code",
   "execution_count": 163,
   "id": "49166e72-eadb-4a2e-9e68-54e048b2a2c0",
   "metadata": {},
   "outputs": [
    {
     "data": {
      "image/png": "[encoded data removed]",
      "text/plain": [
       "<Figure size 600x600 with 1 Axes>"
      ]
     },
     "metadata": {},
     "output_type": "display_data"
    }
   ],
   "source": [
    "plt.figure(figsize=(6,6))\n",
    "stats.probplot(new_houses.sample(10000, random_state=42), dist=\"norm\", plot=plt)\n",
    "plt.show()"
   ]
  },
  {
   "cell_type": "code",
   "execution_count": 149,
   "id": "852094f2-4e22-4e1f-a5c9-f19e01f98ce6",
   "metadata": {},
   "outputs": [],
   "source": [
    "u_stat, p_value = stats.mannwhitneyu(old_houses, new_houses, alternative=\"greater\")"
   ]
  },
  {
   "cell_type": "code",
   "execution_count": 151,
   "id": "58c2913a-92e0-48cc-ac40-6bb5171c25ce",
   "metadata": {},
   "outputs": [
    {
     "data": {
      "text/plain": [
       "(64810500398.5, 1.0)"
      ]
     },
     "execution_count": 151,
     "metadata": {},
     "output_type": "execute_result"
    }
   ],
   "source": [
    "u_stat, p_value"
   ]
  },
  {
   "cell_type": "code",
   "execution_count": 153,
   "id": "b56eb00a-ab92-4fe6-ab26-439535c3b984",
   "metadata": {},
   "outputs": [
    {
     "name": "stdout",
     "output_type": "stream",
     "text": [
      "The H₀ is not rejected. There is not enough evidence that older houses are larger.\n"
     ]
    }
   ],
   "source": [
    "alpha = 0.05\n",
    "if p_value < alpha:\n",
    "    print('The H₀ is rejected. Older houses have more area.')\n",
    "else:\n",
    "    print('The H₀ is not rejected. There is not enough evidence that older houses are larger.')"
   ]
  },
  {
   "cell_type": "code",
   "execution_count": null,
   "id": "5c7ec199-3ab3-4236-a8e5-3ed8165113d8",
   "metadata": {},
   "outputs": [],
   "source": []
  }
 ],
 "metadata": {
  "kernelspec": {
   "display_name": "Python [conda env:base] *",
   "language": "python",
   "name": "conda-base-py"
  },
  "language_info": {
   "codemirror_mode": {
    "name": "ipython",
    "version": 3
   },
   "file_extension": ".py",
   "mimetype": "text/x-python",
   "name": "python",
   "nbconvert_exporter": "python",
   "pygments_lexer": "ipython3",
   "version": "3.12.4"
  }
 },
 "nbformat": 4,
 "nbformat_minor": 5
}
