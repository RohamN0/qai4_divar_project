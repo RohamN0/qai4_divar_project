{
 "cells": [
  {
   "cell_type": "code",
   "execution_count": 1,
   "id": "60c89d81-860f-470e-9860-73b99446dde7",
   "metadata": {},
   "outputs": [],
   "source": [
    "import pandas as pd \n"
   ]
  },
  {
   "cell_type": "code",
   "execution_count": 21,
   "id": "907588b3-04ec-4a33-b4c6-3345d4192665",
   "metadata": {},
   "outputs": [],
   "source": [
    "colums = ['building_size', 'construction_year', 'land_size', 'description', 'cat2_slug', 'cat3_slug']\n",
    "df = pd.read_csv(r'C:\\Users\\rezaei\\OneDrive\\Documents\\Bootcamp\\pro\\Divar.csv', usecols=colums)"
   ]
  },
  {
   "cell_type": "code",
   "execution_count": 23,
   "id": "b0e73599-f0a7-4f2e-b921-e5ff81b65eca",
   "metadata": {},
   "outputs": [
    {
     "data": {
      "text/html": [
       "<div>\n",
       "<style scoped>\n",
       "    .dataframe tbody tr th:only-of-type {\n",
       "        vertical-align: middle;\n",
       "    }\n",
       "\n",
       "    .dataframe tbody tr th {\n",
       "        vertical-align: top;\n",
       "    }\n",
       "\n",
       "    .dataframe thead th {\n",
       "        text-align: right;\n",
       "    }\n",
       "</style>\n",
       "<table border=\"1\" class=\"dataframe\">\n",
       "  <thead>\n",
       "    <tr style=\"text-align: right;\">\n",
       "      <th></th>\n",
       "      <th>cat2_slug</th>\n",
       "      <th>cat3_slug</th>\n",
       "      <th>description</th>\n",
       "      <th>land_size</th>\n",
       "      <th>building_size</th>\n",
       "      <th>construction_year</th>\n",
       "    </tr>\n",
       "  </thead>\n",
       "  <tbody>\n",
       "    <tr>\n",
       "      <th>0</th>\n",
       "      <td>temporary-rent</td>\n",
       "      <td>villa</td>\n",
       "      <td>۵۰۰متر\\n۲۰۰متر بنا دوبلکس\\n۳خواب\\nاستخر آبگرم ...</td>\n",
       "      <td>NaN</td>\n",
       "      <td>500.0</td>\n",
       "      <td>NaN</td>\n",
       "    </tr>\n",
       "    <tr>\n",
       "      <th>1</th>\n",
       "      <td>residential-sell</td>\n",
       "      <td>apartment-sell</td>\n",
       "      <td>دسترسی عالی به مترو و شریعتی \\nمشاعات تمیز \\nب...</td>\n",
       "      <td>NaN</td>\n",
       "      <td>60.0</td>\n",
       "      <td>۱۳۸۴</td>\n",
       "    </tr>\n",
       "    <tr>\n",
       "      <th>2</th>\n",
       "      <td>residential-rent</td>\n",
       "      <td>apartment-rent</td>\n",
       "      <td>تخلیه پایان ماه</td>\n",
       "      <td>NaN</td>\n",
       "      <td>132.0</td>\n",
       "      <td>۱۴۰۱</td>\n",
       "    </tr>\n",
       "    <tr>\n",
       "      <th>3</th>\n",
       "      <td>commercial-rent</td>\n",
       "      <td>office-rent</td>\n",
       "      <td>فرشته تاپ لوکیشن\\n۹۰ متر موقعیت اداری\\nیک اتاق...</td>\n",
       "      <td>NaN</td>\n",
       "      <td>90.0</td>\n",
       "      <td>۱۴۰۰</td>\n",
       "    </tr>\n",
       "    <tr>\n",
       "      <th>4</th>\n",
       "      <td>residential-sell</td>\n",
       "      <td>apartment-sell</td>\n",
       "      <td>هلدینگ ساختمانی اکبری\\n\\nهمراه شما هستیم برای ...</td>\n",
       "      <td>NaN</td>\n",
       "      <td>115.0</td>\n",
       "      <td>۱۴۰۳</td>\n",
       "    </tr>\n",
       "    <tr>\n",
       "      <th>5</th>\n",
       "      <td>residential-rent</td>\n",
       "      <td>apartment-rent</td>\n",
       "      <td>اپارتمان ۱۰۰متری واحد جلو دارای دو اتاق خواب ک...</td>\n",
       "      <td>NaN</td>\n",
       "      <td>100.0</td>\n",
       "      <td>۱۳۸۹</td>\n",
       "    </tr>\n",
       "    <tr>\n",
       "      <th>6</th>\n",
       "      <td>commercial-rent</td>\n",
       "      <td>office-rent</td>\n",
       "      <td>♦مشاورین املاک سیب♦\\n✅️کد:G۱۰۵\\n♦با سالها سابق...</td>\n",
       "      <td>NaN</td>\n",
       "      <td>80.0</td>\n",
       "      <td>۱۳۹۵</td>\n",
       "    </tr>\n",
       "    <tr>\n",
       "      <th>7</th>\n",
       "      <td>residential-sell</td>\n",
       "      <td>apartment-sell</td>\n",
       "      <td>♡♡♡♡♡♡بنام خدا♡♡♡♡♡♡\\n♡♡♡عرض ادب واحترام♡♡♡\\n♡...</td>\n",
       "      <td>NaN</td>\n",
       "      <td>100.0</td>\n",
       "      <td>۱۳۹۳</td>\n",
       "    </tr>\n",
       "    <tr>\n",
       "      <th>8</th>\n",
       "      <td>residential-sell</td>\n",
       "      <td>apartment-sell</td>\n",
       "      <td>با سلام\\n\\nاملاک بزرگ اتحاد با ۲شعبه فعال با ف...</td>\n",
       "      <td>NaN</td>\n",
       "      <td>78.0</td>\n",
       "      <td>۱۳۹۶</td>\n",
       "    </tr>\n",
       "    <tr>\n",
       "      <th>9</th>\n",
       "      <td>residential-sell</td>\n",
       "      <td>apartment-sell</td>\n",
       "      <td>اول رسالت فرد  نزدیک به حاشیه فرامرز .. ساکنین...</td>\n",
       "      <td>NaN</td>\n",
       "      <td>80.0</td>\n",
       "      <td>۱۳۸۷</td>\n",
       "    </tr>\n",
       "  </tbody>\n",
       "</table>\n",
       "</div>"
      ],
      "text/plain": [
       "          cat2_slug       cat3_slug  \\\n",
       "0    temporary-rent           villa   \n",
       "1  residential-sell  apartment-sell   \n",
       "2  residential-rent  apartment-rent   \n",
       "3   commercial-rent     office-rent   \n",
       "4  residential-sell  apartment-sell   \n",
       "5  residential-rent  apartment-rent   \n",
       "6   commercial-rent     office-rent   \n",
       "7  residential-sell  apartment-sell   \n",
       "8  residential-sell  apartment-sell   \n",
       "9  residential-sell  apartment-sell   \n",
       "\n",
       "                                         description  land_size  \\\n",
       "0  ۵۰۰متر\\n۲۰۰متر بنا دوبلکس\\n۳خواب\\nاستخر آبگرم ...        NaN   \n",
       "1  دسترسی عالی به مترو و شریعتی \\nمشاعات تمیز \\nب...        NaN   \n",
       "2                                    تخلیه پایان ماه        NaN   \n",
       "3  فرشته تاپ لوکیشن\\n۹۰ متر موقعیت اداری\\nیک اتاق...        NaN   \n",
       "4  هلدینگ ساختمانی اکبری\\n\\nهمراه شما هستیم برای ...        NaN   \n",
       "5  اپارتمان ۱۰۰متری واحد جلو دارای دو اتاق خواب ک...        NaN   \n",
       "6  ♦مشاورین املاک سیب♦\\n✅️کد:G۱۰۵\\n♦با سالها سابق...        NaN   \n",
       "7  ♡♡♡♡♡♡بنام خدا♡♡♡♡♡♡\\n♡♡♡عرض ادب واحترام♡♡♡\\n♡...        NaN   \n",
       "8  با سلام\\n\\nاملاک بزرگ اتحاد با ۲شعبه فعال با ف...        NaN   \n",
       "9  اول رسالت فرد  نزدیک به حاشیه فرامرز .. ساکنین...        NaN   \n",
       "\n",
       "   building_size construction_year  \n",
       "0          500.0               NaN  \n",
       "1           60.0              ۱۳۸۴  \n",
       "2          132.0              ۱۴۰۱  \n",
       "3           90.0              ۱۴۰۰  \n",
       "4          115.0              ۱۴۰۳  \n",
       "5          100.0              ۱۳۸۹  \n",
       "6           80.0              ۱۳۹۵  \n",
       "7          100.0              ۱۳۹۳  \n",
       "8           78.0              ۱۳۹۶  \n",
       "9           80.0              ۱۳۸۷  "
      ]
     },
     "execution_count": 23,
     "metadata": {},
     "output_type": "execute_result"
    }
   ],
   "source": [
    "df.head(10)"
   ]
  },
  {
   "cell_type": "code",
   "execution_count": 25,
   "id": "715312f5-38bf-43e7-b68a-4fbdadd55e32",
   "metadata": {},
   "outputs": [],
   "source": [
    "df2 = df.copy()"
   ]
  },
  {
   "cell_type": "code",
   "execution_count": 27,
   "id": "395c5966-b855-44ca-a66b-4fe0828576b6",
   "metadata": {},
   "outputs": [],
   "source": [
    "persian_to_english = str.maketrans(\"۰۱۲۳۴۵۶۷۸۹\", \"0123456789\")\n",
    "def convert(x):\n",
    "    if 'قبل' in str(x):\n",
    "        return 1369\n",
    "    elif not pd.notna(x) : return x\n",
    "    return int(str(x).translate(persian_to_english))\n",
    "\n",
    "df2['construction_year'] = df2['construction_year'].apply(convert)"
   ]
  },
  {
   "cell_type": "code",
   "execution_count": 29,
   "id": "8af74985-0e7b-45a3-b42e-0af0db0226f3",
   "metadata": {},
   "outputs": [
    {
     "name": "stdout",
     "output_type": "stream",
     "text": [
      "temporary-rent :  29903 1000000\n",
      "residential-sell :  133589 1000000\n",
      "residential-rent :  24 1000000\n",
      "commercial-rent :  579 1000000\n",
      "commercial-sell :  674 1000000\n",
      "real-estate-services :  19403 1000000\n"
     ]
    }
   ],
   "source": [
    "for cat3 in df2['cat2_slug'].unique() :\n",
    "    x = df2[df2['cat2_slug'] == cat3]['construction_year']\n",
    "    print(f'{cat3} : ' , x.isnull().sum(), len(df))"
   ]
  },
  {
   "cell_type": "code",
   "execution_count": 31,
   "id": "47b6c15f-a609-4aeb-b202-f14b3f825405",
   "metadata": {},
   "outputs": [
    {
     "data": {
      "text/plain": [
       "array(['temporary-rent', 'residential-sell', 'residential-rent',\n",
       "       'commercial-rent', 'commercial-sell', 'real-estate-services'],\n",
       "      dtype=object)"
      ]
     },
     "execution_count": 31,
     "metadata": {},
     "output_type": "execute_result"
    }
   ],
   "source": [
    "df2['cat2_slug'].unique()"
   ]
  },
  {
   "cell_type": "code",
   "execution_count": 33,
   "id": "d5266e92-6cd8-4391-85da-17aa21249df7",
   "metadata": {},
   "outputs": [],
   "source": [
    "df2.loc[df2['cat3_slug'] == 'plot-old', 'construction_year'] = 1370"
   ]
  },
  {
   "cell_type": "code",
   "execution_count": 35,
   "id": "47f37492-d23f-430b-b17f-61885dc93288",
   "metadata": {},
   "outputs": [
    {
     "data": {
      "text/plain": [
       "construction_year\n",
       "1370.0    133570\n",
       "1403.0    116259\n",
       "1390.0     59139\n",
       "1402.0     58424\n",
       "1400.0     53674\n",
       "1395.0     53029\n",
       "1398.0     38207\n",
       "1397.0     36326\n",
       "1396.0     35487\n",
       "1401.0     35328\n",
       "1385.0     34065\n",
       "1399.0     29594\n",
       "1393.0     29094\n",
       "1392.0     26130\n",
       "1394.0     26110\n",
       "1388.0     24268\n",
       "1380.0     23480\n",
       "1369.0     20637\n",
       "1389.0     16755\n",
       "1391.0     16316\n",
       "1387.0     14136\n",
       "1386.0     13468\n",
       "1383.0      9894\n",
       "1384.0      8494\n",
       "1375.0      7247\n",
       "1382.0      6965\n",
       "1371.0      5531\n",
       "1381.0      3590\n",
       "1378.0      3025\n",
       "1379.0      2415\n",
       "1377.0      2117\n",
       "1372.0      1914\n",
       "1373.0      1827\n",
       "1376.0      1593\n",
       "1374.0      1289\n",
       "Name: count, dtype: int64"
      ]
     },
     "execution_count": 35,
     "metadata": {},
     "output_type": "execute_result"
    }
   ],
   "source": [
    "df2['construction_year'].value_counts()"
   ]
  },
  {
   "cell_type": "code",
   "execution_count": 39,
   "id": "f21cc58c-fc01-4394-8920-d51d3550a12f",
   "metadata": {},
   "outputs": [
    {
     "name": "stdout",
     "output_type": "stream",
     "text": [
      "<class 'pandas.core.frame.DataFrame'>\n",
      "RangeIndex: 1000000 entries, 0 to 999999\n",
      "Data columns (total 6 columns):\n",
      " #   Column             Non-Null Count    Dtype  \n",
      "---  ------             --------------    -----  \n",
      " 0   cat2_slug          1000000 non-null  object \n",
      " 1   cat3_slug          999999 non-null   object \n",
      " 2   description        1000000 non-null  object \n",
      " 3   land_size          186396 non-null   float64\n",
      " 4   building_size      980394 non-null   float64\n",
      " 5   construction_year  949397 non-null   float64\n",
      "dtypes: float64(3), object(3)\n",
      "memory usage: 45.8+ MB\n"
     ]
    }
   ],
   "source": [
    "df2.info()"
   ]
  },
  {
   "cell_type": "code",
   "execution_count": 45,
   "id": "af3315a7-5987-42f7-8553-838a42d3a1c5",
   "metadata": {},
   "outputs": [
    {
     "name": "stdout",
     "output_type": "stream",
     "text": [
      "<class 'pandas.core.series.Series'>\n",
      "RangeIndex: 1000000 entries, 0 to 999999\n",
      "Series name: building_size\n",
      "Non-Null Count   Dtype  \n",
      "--------------   -----  \n",
      "980394 non-null  float64\n",
      "dtypes: float64(1)\n",
      "memory usage: 7.6 MB\n"
     ]
    }
   ],
   "source": [
    "df2.building_size.info()"
   ]
  },
  {
   "cell_type": "code",
   "execution_count": 59,
   "id": "0f5ffc0d-516b-4e4e-b92b-a83dc2ae27f1",
   "metadata": {},
   "outputs": [],
   "source": [
    "df2 = df2.dropna(subset='building_size')"
   ]
  },
  {
   "cell_type": "code",
   "execution_count": 61,
   "id": "777c0077-130d-422b-9280-6e2fbcba60c6",
   "metadata": {},
   "outputs": [
    {
     "name": "stdout",
     "output_type": "stream",
     "text": [
      "<class 'pandas.core.frame.DataFrame'>\n",
      "Index: 980394 entries, 0 to 999999\n",
      "Data columns (total 6 columns):\n",
      " #   Column             Non-Null Count   Dtype  \n",
      "---  ------             --------------   -----  \n",
      " 0   cat2_slug          980394 non-null  object \n",
      " 1   cat3_slug          980393 non-null  object \n",
      " 2   description        980394 non-null  object \n",
      " 3   land_size          186396 non-null  float64\n",
      " 4   building_size      980394 non-null  float64\n",
      " 5   construction_year  949384 non-null  float64\n",
      "dtypes: float64(3), object(3)\n",
      "memory usage: 52.4+ MB\n"
     ]
    }
   ],
   "source": [
    "df2.info()"
   ]
  },
  {
   "cell_type": "code",
   "execution_count": 63,
   "id": "c1d2d8f9-3c94-438f-9cbc-099bebe81341",
   "metadata": {},
   "outputs": [],
   "source": [
    "df1 = df2.copy()"
   ]
  },
  {
   "cell_type": "code",
   "execution_count": 65,
   "id": "ad782047-b85a-4945-909f-c9ed49decefc",
   "metadata": {},
   "outputs": [],
   "source": [
    "df1 = df1.drop(columns=['description', 'land_size'])"
   ]
  },
  {
   "cell_type": "code",
   "execution_count": 67,
   "id": "c4ebc3be-27c8-415b-809f-6e9bfc4fe3fa",
   "metadata": {},
   "outputs": [],
   "source": [
    "old_houses = df1[df1[\"construction_year\"] < 1396][\"building_size\"].dropna()\n",
    "new_houses = df1[df1[\"construction_year\"] >= 1396][\"building_size\"].dropna()\n"
   ]
  },
  {
   "cell_type": "code",
   "execution_count": 69,
   "id": "3b16e7b3-4c05-4f10-9c27-611763dca7f1",
   "metadata": {},
   "outputs": [],
   "source": [
    "from scipy import stats"
   ]
  },
  {
   "cell_type": "code",
   "execution_count": 71,
   "id": "9fe04b28-834b-4f96-86d6-aa306b2f1b88",
   "metadata": {},
   "outputs": [
    {
     "name": "stderr",
     "output_type": "stream",
     "text": [
      "C:\\Users\\rezaei\\anaconda3\\Lib\\site-packages\\scipy\\stats\\_axis_nan_policy.py:531: UserWarning: scipy.stats.shapiro: For N > 5000, computed p-value may not be accurate. Current N is 546087.\n",
      "  res = hypotest_fun_out(*samples, **kwds)\n"
     ]
    },
    {
     "data": {
      "text/plain": [
       "ShapiroResult(statistic=0.012321423390632025, pvalue=3.6273216829644516e-227)"
      ]
     },
     "execution_count": 71,
     "metadata": {},
     "output_type": "execute_result"
    }
   ],
   "source": [
    "stats.shapiro(old_houses)"
   ]
  },
  {
   "cell_type": "code",
   "execution_count": 73,
   "id": "7077c03a-88aa-4c81-9541-71b03fb50075",
   "metadata": {},
   "outputs": [
    {
     "name": "stderr",
     "output_type": "stream",
     "text": [
      "C:\\Users\\rezaei\\anaconda3\\Lib\\site-packages\\scipy\\stats\\_axis_nan_policy.py:531: UserWarning: scipy.stats.shapiro: For N > 5000, computed p-value may not be accurate. Current N is 403297.\n",
      "  res = hypotest_fun_out(*samples, **kwds)\n"
     ]
    },
    {
     "data": {
      "text/plain": [
       "ShapiroResult(statistic=0.00846582512674221, pvalue=8.63615434974934e-221)"
      ]
     },
     "execution_count": 73,
     "metadata": {},
     "output_type": "execute_result"
    }
   ],
   "source": [
    "stats.shapiro(new_houses)"
   ]
  },
  {
   "cell_type": "code",
   "execution_count": 79,
   "id": "598196d3-150d-4126-a00d-cd8612f8547a",
   "metadata": {},
   "outputs": [],
   "source": [
    "import matplotlib.pyplot as plt"
   ]
  },
  {
   "cell_type": "code",
   "execution_count": 81,
   "id": "4a382149-c6a1-473b-a8a8-4cbfe82ff18a",
   "metadata": {},
   "outputs": [
    {
     "data": {
      "image/png": "[encoded data removed]",
      "text/plain": [
       "<Figure size 600x600 with 1 Axes>"
      ]
     },
     "metadata": {},
     "output_type": "display_data"
    }
   ],
   "source": [
    "plt.figure(figsize=(6,6))\n",
    "stats.probplot(old_houses.sample(10000, random_state=42), dist=\"norm\", plot=plt)\n",
    "plt.show()"
   ]
  },
  {
   "cell_type": "code",
   "execution_count": 85,
   "id": "49166e72-eadb-4a2e-9e68-54e048b2a2c0",
   "metadata": {},
   "outputs": [
    {
     "data": {
      "image/png": "[encoded data removed]",
      "text/plain": [
       "<Figure size 600x600 with 1 Axes>"
      ]
     },
     "metadata": {},
     "output_type": "display_data"
    }
   ],
   "source": [
    "plt.figure(figsize=(6,6))\n",
    "stats.probplot(new_houses.sample(100000, random_state=42), dist=\"norm\", plot=plt)\n",
    "plt.show()"
   ]
  },
  {
   "cell_type": "code",
   "execution_count": 87,
   "id": "852094f2-4e22-4e1f-a5c9-f19e01f98ce6",
   "metadata": {},
   "outputs": [],
   "source": [
    "u_stat, p_value = stats.mannwhitneyu(old_houses, new_houses, alternative=\"greater\")"
   ]
  },
  {
   "cell_type": "code",
   "execution_count": 89,
   "id": "58c2913a-92e0-48cc-ac40-6bb5171c25ce",
   "metadata": {},
   "outputs": [
    {
     "data": {
      "text/plain": [
       "(111320228938.0, 4.0243967283360714e-20)"
      ]
     },
     "execution_count": 89,
     "metadata": {},
     "output_type": "execute_result"
    }
   ],
   "source": [
    "u_stat, p_value"
   ]
  },
  {
   "cell_type": "code",
   "execution_count": 91,
   "id": "b56eb00a-ab92-4fe6-ab26-439535c3b984",
   "metadata": {},
   "outputs": [
    {
     "name": "stdout",
     "output_type": "stream",
     "text": [
      "The H₀ is rejected. Older houses have more area.\n"
     ]
    }
   ],
   "source": [
    "alpha = 0.05\n",
    "if p_value < alpha:\n",
    "    print('The H₀ is rejected. Older houses have more area.')\n",
    "else:\n",
    "    print('The H₀ is not rejected. There is not enough evidence that older houses are larger.')"
   ]
  },
  {
   "cell_type": "code",
   "execution_count": null,
   "id": "5c7ec199-3ab3-4236-a8e5-3ed8165113d8",
   "metadata": {},
   "outputs": [],
   "source": []
  }
 ],
 "metadata": {
  "kernelspec": {
   "display_name": "Python [conda env:base] *",
   "language": "python",
   "name": "conda-base-py"
  },
  "language_info": {
   "codemirror_mode": {
    "name": "ipython",
    "version": 3
   },
   "file_extension": ".py",
   "mimetype": "text/x-python",
   "name": "python",
   "nbconvert_exporter": "python",
   "pygments_lexer": "ipython3",
   "version": "3.12.4"
  }
 },
 "nbformat": 4,
 "nbformat_minor": 5
}
