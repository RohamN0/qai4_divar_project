{
 "cells": [
  {
   "cell_type": "code",
   "execution_count": 1,
   "id": "0a6ae312-1eb9-471c-a61d-093596097ae7",
   "metadata": {},
   "outputs": [],
   "source": [
    "import pandas as pd"
   ]
  },
  {
   "cell_type": "code",
   "execution_count": 5,
   "id": "5a240cef-1494-496d-94d0-b2605cb6e8b5",
   "metadata": {},
   "outputs": [
    {
     "name": "stderr",
     "output_type": "stream",
     "text": [
      "C:\\Users\\rezaei\\AppData\\Local\\Temp\\ipykernel_11368\\2456494102.py:1: DtypeWarning: Columns (11,27,29,53) have mixed types. Specify dtype option on import or set low_memory=False.\n",
      "  df = pd.read_csv(r'C:\\Users\\rezaei\\OneDrive\\Documents\\Bootcamp\\pro\\Divar.csv')\n"
     ]
    }
   ],
   "source": [
    "df = pd.read_csv(r'C:\\Users\\rezaei\\OneDrive\\Documents\\Bootcamp\\pro\\Divar.csv')"
   ]
  },
  {
   "cell_type": "code",
   "execution_count": 7,
   "id": "8e0ffe71-80b7-4d65-b3f7-13c60a123b44",
   "metadata": {
    "scrolled": true
   },
   "outputs": [
    {
     "name": "stdout",
     "output_type": "stream",
     "text": [
      "<class 'pandas.core.frame.DataFrame'>\n",
      "RangeIndex: 1000000 entries, 0 to 999999\n",
      "Data columns (total 61 columns):\n",
      " #   Column                      Non-Null Count    Dtype  \n",
      "---  ------                      --------------    -----  \n",
      " 0   Unnamed: 0                  1000000 non-null  int64  \n",
      " 1   cat2_slug                   1000000 non-null  object \n",
      " 2   cat3_slug                   999999 non-null   object \n",
      " 3   city_slug                   999998 non-null   object \n",
      " 4   neighborhood_slug           437139 non-null   object \n",
      " 5   created_at_month            1000000 non-null  object \n",
      " 6   user_type                   288882 non-null   object \n",
      " 7   description                 1000000 non-null  object \n",
      " 8   title                       999946 non-null   object \n",
      " 9   rent_mode                   352994 non-null   object \n",
      " 10  rent_value                  351322 non-null   float64\n",
      " 11  rent_to_single              19 non-null       object \n",
      " 12  rent_type                   103961 non-null   object \n",
      " 13  price_mode                  573606 non-null   object \n",
      " 14  price_value                 568346 non-null   float64\n",
      " 15  credit_mode                 352994 non-null   object \n",
      " 16  credit_value                352095 non-null   float64\n",
      " 17  rent_credit_transform       352985 non-null   object \n",
      " 18  transformable_price         352894 non-null   object \n",
      " 19  transformable_credit        352085 non-null   float64\n",
      " 20  transformed_credit          72409 non-null    float64\n",
      " 21  transformable_rent          351248 non-null   float64\n",
      " 22  transformed_rent            72409 non-null    float64\n",
      " 23  land_size                   186396 non-null   float64\n",
      " 24  building_size               980394 non-null   float64\n",
      " 25  deed_type                   253458 non-null   object \n",
      " 26  has_business_deed           34679 non-null    object \n",
      " 27  floor                       541748 non-null   object \n",
      " 28  rooms_count                 845899 non-null   object \n",
      " 29  total_floors_count          304352 non-null   object \n",
      " 30  unit_per_floor              302283 non-null   object \n",
      " 31  has_balcony                 506411 non-null   object \n",
      " 32  has_elevator                541749 non-null   object \n",
      " 33  has_warehouse               728155 non-null   object \n",
      " 34  has_parking                 728156 non-null   object \n",
      " 35  construction_year           815828 non-null   object \n",
      " 36  is_rebuilt                  529470 non-null   object \n",
      " 37  has_water                   33444 non-null    object \n",
      " 38  has_warm_water_provider     379500 non-null   object \n",
      " 39  has_electricity             33445 non-null    object \n",
      " 40  has_gas                     33430 non-null    object \n",
      " 41  has_heating_system          368969 non-null   object \n",
      " 42  has_cooling_system          350619 non-null   object \n",
      " 43  has_restroom                406913 non-null   object \n",
      " 44  has_security_guard          31312 non-null    object \n",
      " 45  has_barbecue                31198 non-null    object \n",
      " 46  building_direction          323923 non-null   object \n",
      " 47  has_pool                    29390 non-null    object \n",
      " 48  has_jacuzzi                 28728 non-null    object \n",
      " 49  has_sauna                   28479 non-null    object \n",
      " 50  floor_material              405984 non-null   object \n",
      " 51  property_type               27057 non-null    object \n",
      " 52  regular_person_capacity     29870 non-null    float64\n",
      " 53  extra_person_capacity       24009 non-null    object \n",
      " 54  cost_per_extra_person       10241 non-null    float64\n",
      " 55  rent_price_on_regular_days  18068 non-null    float64\n",
      " 56  rent_price_on_special_days  10463 non-null    float64\n",
      " 57  rent_price_at_weekends      13551 non-null    float64\n",
      " 58  location_latitude           655608 non-null   float64\n",
      " 59  location_longitude          655608 non-null   float64\n",
      " 60  location_radius             339699 non-null   float64\n",
      "dtypes: float64(17), int64(1), object(43)\n",
      "memory usage: 465.4+ MB\n"
     ]
    }
   ],
   "source": [
    "df.info()"
   ]
  },
  {
   "cell_type": "code",
   "execution_count": 9,
   "id": "e9e5623c-b032-4817-8d6f-06c548b79b39",
   "metadata": {},
   "outputs": [],
   "source": [
    "df1 = df.copy()"
   ]
  },
  {
   "cell_type": "code",
   "execution_count": 11,
   "id": "26087ab4-a2e4-4689-a178-01421b9bba87",
   "metadata": {},
   "outputs": [],
   "source": [
    "df1 = df[['cat2_slug', 'cat3_slug']]"
   ]
  },
  {
   "cell_type": "code",
   "execution_count": 13,
   "id": "4fbb3f80-c6a5-4dcc-b29f-e7672077c377",
   "metadata": {},
   "outputs": [
    {
     "data": {
      "text/html": [
       "<div>\n",
       "<style scoped>\n",
       "    .dataframe tbody tr th:only-of-type {\n",
       "        vertical-align: middle;\n",
       "    }\n",
       "\n",
       "    .dataframe tbody tr th {\n",
       "        vertical-align: top;\n",
       "    }\n",
       "\n",
       "    .dataframe thead th {\n",
       "        text-align: right;\n",
       "    }\n",
       "</style>\n",
       "<table border=\"1\" class=\"dataframe\">\n",
       "  <thead>\n",
       "    <tr style=\"text-align: right;\">\n",
       "      <th></th>\n",
       "      <th>cat2_slug</th>\n",
       "      <th>cat3_slug</th>\n",
       "    </tr>\n",
       "  </thead>\n",
       "  <tbody>\n",
       "    <tr>\n",
       "      <th>0</th>\n",
       "      <td>temporary-rent</td>\n",
       "      <td>villa</td>\n",
       "    </tr>\n",
       "    <tr>\n",
       "      <th>1</th>\n",
       "      <td>residential-sell</td>\n",
       "      <td>apartment-sell</td>\n",
       "    </tr>\n",
       "    <tr>\n",
       "      <th>2</th>\n",
       "      <td>residential-rent</td>\n",
       "      <td>apartment-rent</td>\n",
       "    </tr>\n",
       "    <tr>\n",
       "      <th>3</th>\n",
       "      <td>commercial-rent</td>\n",
       "      <td>office-rent</td>\n",
       "    </tr>\n",
       "    <tr>\n",
       "      <th>4</th>\n",
       "      <td>residential-sell</td>\n",
       "      <td>apartment-sell</td>\n",
       "    </tr>\n",
       "    <tr>\n",
       "      <th>5</th>\n",
       "      <td>residential-rent</td>\n",
       "      <td>apartment-rent</td>\n",
       "    </tr>\n",
       "    <tr>\n",
       "      <th>6</th>\n",
       "      <td>commercial-rent</td>\n",
       "      <td>office-rent</td>\n",
       "    </tr>\n",
       "    <tr>\n",
       "      <th>7</th>\n",
       "      <td>residential-sell</td>\n",
       "      <td>apartment-sell</td>\n",
       "    </tr>\n",
       "    <tr>\n",
       "      <th>8</th>\n",
       "      <td>residential-sell</td>\n",
       "      <td>apartment-sell</td>\n",
       "    </tr>\n",
       "    <tr>\n",
       "      <th>9</th>\n",
       "      <td>residential-sell</td>\n",
       "      <td>apartment-sell</td>\n",
       "    </tr>\n",
       "  </tbody>\n",
       "</table>\n",
       "</div>"
      ],
      "text/plain": [
       "          cat2_slug       cat3_slug\n",
       "0    temporary-rent           villa\n",
       "1  residential-sell  apartment-sell\n",
       "2  residential-rent  apartment-rent\n",
       "3   commercial-rent     office-rent\n",
       "4  residential-sell  apartment-sell\n",
       "5  residential-rent  apartment-rent\n",
       "6   commercial-rent     office-rent\n",
       "7  residential-sell  apartment-sell\n",
       "8  residential-sell  apartment-sell\n",
       "9  residential-sell  apartment-sell"
      ]
     },
     "execution_count": 13,
     "metadata": {},
     "output_type": "execute_result"
    }
   ],
   "source": [
    "df1.head(10)"
   ]
  },
  {
   "cell_type": "code",
   "execution_count": 25,
   "id": "f6dbdbcf-34a1-4892-a92e-a54e72aa9bb9",
   "metadata": {},
   "outputs": [
    {
     "data": {
      "text/html": [
       "<div>\n",
       "<style scoped>\n",
       "    .dataframe tbody tr th:only-of-type {\n",
       "        vertical-align: middle;\n",
       "    }\n",
       "\n",
       "    .dataframe tbody tr th {\n",
       "        vertical-align: top;\n",
       "    }\n",
       "\n",
       "    .dataframe thead th {\n",
       "        text-align: right;\n",
       "    }\n",
       "</style>\n",
       "<table border=\"1\" class=\"dataframe\">\n",
       "  <thead>\n",
       "    <tr style=\"text-align: right;\">\n",
       "      <th></th>\n",
       "      <th>cat2_slug</th>\n",
       "      <th>cat3_slug</th>\n",
       "    </tr>\n",
       "  </thead>\n",
       "  <tbody>\n",
       "    <tr>\n",
       "      <th>338801</th>\n",
       "      <td>commercial-rent</td>\n",
       "      <td>NaN</td>\n",
       "    </tr>\n",
       "  </tbody>\n",
       "</table>\n",
       "</div>"
      ],
      "text/plain": [
       "              cat2_slug cat3_slug\n",
       "338801  commercial-rent       NaN"
      ]
     },
     "execution_count": 25,
     "metadata": {},
     "output_type": "execute_result"
    }
   ],
   "source": [
    "df1[df1.cat3_slug.isna()]"
   ]
  },
  {
   "cell_type": "code",
   "execution_count": 29,
   "id": "5f955528-c45c-4a21-95ca-fd7816af3268",
   "metadata": {},
   "outputs": [
    {
     "data": {
      "text/plain": [
       "cat2_slug        cat3_slug                         \n",
       "commercial-rent  shop-rent                             45993\n",
       "                 office-rent                           21418\n",
       "                 industry-agriculture-business-rent     9155\n",
       "Name: count, dtype: int64"
      ]
     },
     "execution_count": 29,
     "metadata": {},
     "output_type": "execute_result"
    }
   ],
   "source": [
    "df1[df1.cat2_slug == 'commercial-rent'].value_counts()"
   ]
  },
  {
   "cell_type": "code",
   "execution_count": 37,
   "id": "e9aa5b9c-81ad-4c82-8264-cbb64e4c2960",
   "metadata": {},
   "outputs": [
    {
     "data": {
      "text/html": [
       "<div>\n",
       "<style scoped>\n",
       "    .dataframe tbody tr th:only-of-type {\n",
       "        vertical-align: middle;\n",
       "    }\n",
       "\n",
       "    .dataframe tbody tr th {\n",
       "        vertical-align: top;\n",
       "    }\n",
       "\n",
       "    .dataframe thead th {\n",
       "        text-align: right;\n",
       "    }\n",
       "</style>\n",
       "<table border=\"1\" class=\"dataframe\">\n",
       "  <thead>\n",
       "    <tr style=\"text-align: right;\">\n",
       "      <th></th>\n",
       "      <th>description</th>\n",
       "    </tr>\n",
       "  </thead>\n",
       "  <tbody>\n",
       "    <tr>\n",
       "      <th>338801</th>\n",
       "      <td>از بانوان حرفه ای و دارای مشتری دعوت میشود به ...</td>\n",
       "    </tr>\n",
       "  </tbody>\n",
       "</table>\n",
       "</div>"
      ],
      "text/plain": [
       "                                              description\n",
       "338801  از بانوان حرفه ای و دارای مشتری دعوت میشود به ..."
      ]
     },
     "execution_count": 37,
     "metadata": {},
     "output_type": "execute_result"
    }
   ],
   "source": [
    "df[df.cat3_slug.isna()][['description']]"
   ]
  },
  {
   "cell_type": "code",
   "execution_count": 41,
   "id": "850cf0c4-d82c-4e77-a4ad-858917cceabf",
   "metadata": {},
   "outputs": [
    {
     "data": {
      "text/plain": [
       "'از بانوان حرفه ای و دارای مشتری دعوت میشود به مجموعه ما با شرایط همکاری عالی و قیمت مناسب بپیوندید؛\\n\\nما در آموزشگاه و سالن زیبایی بانو یارمحمدی \\nآماده همکاری جهت آموزش و خدمات \\nدر لاین های زیر هستیم :\\nخدمات میکاپ\\nخدمات شینیون\\nخدمات ناخن \\nخدمات مژه\\nخدمات اکستنشن مو\\nخدمات پوست\\nبافت مو\\nخدمات پدیکور\\n❌ فقط تماس بگیرید لطفا ❌'"
      ]
     },
     "execution_count": 41,
     "metadata": {},
     "output_type": "execute_result"
    }
   ],
   "source": [
    "df.loc[338801, 'description'] "
   ]
  },
  {
   "cell_type": "code",
   "execution_count": 43,
   "id": "bdf4ee1b-2d65-4155-8e4e-aaf0e3c771c8",
   "metadata": {},
   "outputs": [
    {
     "data": {
      "text/html": [
       "<div>\n",
       "<style scoped>\n",
       "    .dataframe tbody tr th:only-of-type {\n",
       "        vertical-align: middle;\n",
       "    }\n",
       "\n",
       "    .dataframe tbody tr th {\n",
       "        vertical-align: top;\n",
       "    }\n",
       "\n",
       "    .dataframe thead th {\n",
       "        text-align: right;\n",
       "    }\n",
       "</style>\n",
       "<table border=\"1\" class=\"dataframe\">\n",
       "  <thead>\n",
       "    <tr style=\"text-align: right;\">\n",
       "      <th></th>\n",
       "      <th>Unnamed: 0</th>\n",
       "      <th>cat2_slug</th>\n",
       "      <th>cat3_slug</th>\n",
       "      <th>city_slug</th>\n",
       "      <th>neighborhood_slug</th>\n",
       "      <th>created_at_month</th>\n",
       "      <th>user_type</th>\n",
       "      <th>description</th>\n",
       "      <th>title</th>\n",
       "      <th>rent_mode</th>\n",
       "      <th>...</th>\n",
       "      <th>property_type</th>\n",
       "      <th>regular_person_capacity</th>\n",
       "      <th>extra_person_capacity</th>\n",
       "      <th>cost_per_extra_person</th>\n",
       "      <th>rent_price_on_regular_days</th>\n",
       "      <th>rent_price_on_special_days</th>\n",
       "      <th>rent_price_at_weekends</th>\n",
       "      <th>location_latitude</th>\n",
       "      <th>location_longitude</th>\n",
       "      <th>location_radius</th>\n",
       "    </tr>\n",
       "  </thead>\n",
       "  <tbody>\n",
       "    <tr>\n",
       "      <th>0</th>\n",
       "      <td>0</td>\n",
       "      <td>temporary-rent</td>\n",
       "      <td>villa</td>\n",
       "      <td>karaj</td>\n",
       "      <td>mehrshahr</td>\n",
       "      <td>2024-08-01 00:00:00</td>\n",
       "      <td>مشاور املاک</td>\n",
       "      <td>۵۰۰متر\\n۲۰۰متر بنا دوبلکس\\n۳خواب\\nاستخر آبگرم ...</td>\n",
       "      <td>باغ ویلا اجاره روزانه استخر داخل لشکرآباد سهیلیه</td>\n",
       "      <td>NaN</td>\n",
       "      <td>...</td>\n",
       "      <td>NaN</td>\n",
       "      <td>4.0</td>\n",
       "      <td>6</td>\n",
       "      <td>350000.0</td>\n",
       "      <td>1500000.0</td>\n",
       "      <td>3.500000e+09</td>\n",
       "      <td>3500000.0</td>\n",
       "      <td>35.811684</td>\n",
       "      <td>50.936600</td>\n",
       "      <td>500.0</td>\n",
       "    </tr>\n",
       "    <tr>\n",
       "      <th>1</th>\n",
       "      <td>1</td>\n",
       "      <td>residential-sell</td>\n",
       "      <td>apartment-sell</td>\n",
       "      <td>tehran</td>\n",
       "      <td>gholhak</td>\n",
       "      <td>2024-05-01 00:00:00</td>\n",
       "      <td>مشاور املاک</td>\n",
       "      <td>دسترسی عالی به مترو و شریعتی \\nمشاعات تمیز \\nب...</td>\n",
       "      <td>۶۰ متر قلهک فول امکانات</td>\n",
       "      <td>NaN</td>\n",
       "      <td>...</td>\n",
       "      <td>NaN</td>\n",
       "      <td>NaN</td>\n",
       "      <td>NaN</td>\n",
       "      <td>NaN</td>\n",
       "      <td>NaN</td>\n",
       "      <td>NaN</td>\n",
       "      <td>NaN</td>\n",
       "      <td>NaN</td>\n",
       "      <td>NaN</td>\n",
       "      <td>500.0</td>\n",
       "    </tr>\n",
       "    <tr>\n",
       "      <th>2</th>\n",
       "      <td>2</td>\n",
       "      <td>residential-rent</td>\n",
       "      <td>apartment-rent</td>\n",
       "      <td>tehran</td>\n",
       "      <td>tohid</td>\n",
       "      <td>2024-10-01 00:00:00</td>\n",
       "      <td>NaN</td>\n",
       "      <td>تخلیه پایان ماه</td>\n",
       "      <td>آپارتمان ۳ خوابه ۱۳۲ متر</td>\n",
       "      <td>مقطوع</td>\n",
       "      <td>...</td>\n",
       "      <td>NaN</td>\n",
       "      <td>NaN</td>\n",
       "      <td>NaN</td>\n",
       "      <td>NaN</td>\n",
       "      <td>NaN</td>\n",
       "      <td>NaN</td>\n",
       "      <td>NaN</td>\n",
       "      <td>35.703865</td>\n",
       "      <td>51.373459</td>\n",
       "      <td>NaN</td>\n",
       "    </tr>\n",
       "    <tr>\n",
       "      <th>3</th>\n",
       "      <td>3</td>\n",
       "      <td>commercial-rent</td>\n",
       "      <td>office-rent</td>\n",
       "      <td>tehran</td>\n",
       "      <td>elahiyeh</td>\n",
       "      <td>2024-06-01 00:00:00</td>\n",
       "      <td>NaN</td>\n",
       "      <td>فرشته تاپ لوکیشن\\n۹۰ متر موقعیت اداری\\nیک اتاق...</td>\n",
       "      <td>فرشته ۹۰ متر دفتر کار مدرن موقعیت اداری</td>\n",
       "      <td>مقطوع</td>\n",
       "      <td>...</td>\n",
       "      <td>NaN</td>\n",
       "      <td>NaN</td>\n",
       "      <td>NaN</td>\n",
       "      <td>NaN</td>\n",
       "      <td>NaN</td>\n",
       "      <td>NaN</td>\n",
       "      <td>NaN</td>\n",
       "      <td>NaN</td>\n",
       "      <td>NaN</td>\n",
       "      <td>NaN</td>\n",
       "    </tr>\n",
       "    <tr>\n",
       "      <th>4</th>\n",
       "      <td>4</td>\n",
       "      <td>residential-sell</td>\n",
       "      <td>apartment-sell</td>\n",
       "      <td>mashhad</td>\n",
       "      <td>emamreza</td>\n",
       "      <td>2024-05-01 00:00:00</td>\n",
       "      <td>مشاور املاک</td>\n",
       "      <td>هلدینگ ساختمانی اکبری\\n\\nهمراه شما هستیم برای ...</td>\n",
       "      <td>۱۱۵ متری/شمالی رو به آفتاب/اکبری</td>\n",
       "      <td>NaN</td>\n",
       "      <td>...</td>\n",
       "      <td>NaN</td>\n",
       "      <td>NaN</td>\n",
       "      <td>NaN</td>\n",
       "      <td>NaN</td>\n",
       "      <td>NaN</td>\n",
       "      <td>NaN</td>\n",
       "      <td>NaN</td>\n",
       "      <td>NaN</td>\n",
       "      <td>NaN</td>\n",
       "      <td>NaN</td>\n",
       "    </tr>\n",
       "    <tr>\n",
       "      <th>5</th>\n",
       "      <td>5</td>\n",
       "      <td>residential-rent</td>\n",
       "      <td>apartment-rent</td>\n",
       "      <td>ahvaz</td>\n",
       "      <td>mellirah</td>\n",
       "      <td>2024-09-01 00:00:00</td>\n",
       "      <td>NaN</td>\n",
       "      <td>اپارتمان ۱۰۰متری واحد جلو دارای دو اتاق خواب ک...</td>\n",
       "      <td>اپارتمان ۱۰۰متری ملی راه واحد جلو</td>\n",
       "      <td>مقطوع</td>\n",
       "      <td>...</td>\n",
       "      <td>NaN</td>\n",
       "      <td>NaN</td>\n",
       "      <td>NaN</td>\n",
       "      <td>NaN</td>\n",
       "      <td>NaN</td>\n",
       "      <td>NaN</td>\n",
       "      <td>NaN</td>\n",
       "      <td>NaN</td>\n",
       "      <td>NaN</td>\n",
       "      <td>NaN</td>\n",
       "    </tr>\n",
       "    <tr>\n",
       "      <th>6</th>\n",
       "      <td>6</td>\n",
       "      <td>commercial-rent</td>\n",
       "      <td>office-rent</td>\n",
       "      <td>kermanshah</td>\n",
       "      <td>NaN</td>\n",
       "      <td>2024-11-01 00:00:00</td>\n",
       "      <td>NaN</td>\n",
       "      <td>♦مشاورین املاک سیب♦\\n✅️کد:G۱۰۵\\n♦با سالها سابق...</td>\n",
       "      <td>واحداداری ۸۰متری ۲۲بهمن(برق)</td>\n",
       "      <td>مقطوع</td>\n",
       "      <td>...</td>\n",
       "      <td>NaN</td>\n",
       "      <td>NaN</td>\n",
       "      <td>NaN</td>\n",
       "      <td>NaN</td>\n",
       "      <td>NaN</td>\n",
       "      <td>NaN</td>\n",
       "      <td>NaN</td>\n",
       "      <td>NaN</td>\n",
       "      <td>NaN</td>\n",
       "      <td>NaN</td>\n",
       "    </tr>\n",
       "    <tr>\n",
       "      <th>7</th>\n",
       "      <td>7</td>\n",
       "      <td>residential-sell</td>\n",
       "      <td>apartment-sell</td>\n",
       "      <td>tehran</td>\n",
       "      <td>dardasht</td>\n",
       "      <td>2024-09-01 00:00:00</td>\n",
       "      <td>مشاور املاک</td>\n",
       "      <td>♡♡♡♡♡♡بنام خدا♡♡♡♡♡♡\\n♡♡♡عرض ادب واحترام♡♡♡\\n♡...</td>\n",
       "      <td>اپارتمان ۱۰۰متری طبقه۳و۴ فول دردشت شمالی</td>\n",
       "      <td>NaN</td>\n",
       "      <td>...</td>\n",
       "      <td>NaN</td>\n",
       "      <td>NaN</td>\n",
       "      <td>NaN</td>\n",
       "      <td>NaN</td>\n",
       "      <td>NaN</td>\n",
       "      <td>NaN</td>\n",
       "      <td>NaN</td>\n",
       "      <td>35.729832</td>\n",
       "      <td>51.505466</td>\n",
       "      <td>500.0</td>\n",
       "    </tr>\n",
       "    <tr>\n",
       "      <th>8</th>\n",
       "      <td>8</td>\n",
       "      <td>residential-sell</td>\n",
       "      <td>apartment-sell</td>\n",
       "      <td>mahdasht-city</td>\n",
       "      <td>NaN</td>\n",
       "      <td>2024-06-01 00:00:00</td>\n",
       "      <td>مشاور املاک</td>\n",
       "      <td>با سلام\\n\\nاملاک بزرگ اتحاد با ۲شعبه فعال با ف...</td>\n",
       "      <td>۷۸متری دوبحرنورگیر بازسازی شده شیک سندتک برگ</td>\n",
       "      <td>NaN</td>\n",
       "      <td>...</td>\n",
       "      <td>NaN</td>\n",
       "      <td>NaN</td>\n",
       "      <td>NaN</td>\n",
       "      <td>NaN</td>\n",
       "      <td>NaN</td>\n",
       "      <td>NaN</td>\n",
       "      <td>NaN</td>\n",
       "      <td>35.712364</td>\n",
       "      <td>50.794781</td>\n",
       "      <td>500.0</td>\n",
       "    </tr>\n",
       "    <tr>\n",
       "      <th>9</th>\n",
       "      <td>9</td>\n",
       "      <td>residential-sell</td>\n",
       "      <td>apartment-sell</td>\n",
       "      <td>mashhad</td>\n",
       "      <td>faramarzabbasi</td>\n",
       "      <td>2024-10-01 00:00:00</td>\n",
       "      <td>NaN</td>\n",
       "      <td>اول رسالت فرد  نزدیک به حاشیه فرامرز .. ساکنین...</td>\n",
       "      <td>متراژ ۸۰ متر فرامرز نزدیک حاشیه</td>\n",
       "      <td>NaN</td>\n",
       "      <td>...</td>\n",
       "      <td>NaN</td>\n",
       "      <td>NaN</td>\n",
       "      <td>NaN</td>\n",
       "      <td>NaN</td>\n",
       "      <td>NaN</td>\n",
       "      <td>NaN</td>\n",
       "      <td>NaN</td>\n",
       "      <td>NaN</td>\n",
       "      <td>NaN</td>\n",
       "      <td>NaN</td>\n",
       "    </tr>\n",
       "  </tbody>\n",
       "</table>\n",
       "<p>10 rows × 61 columns</p>\n",
       "</div>"
      ],
      "text/plain": [
       "   Unnamed: 0         cat2_slug       cat3_slug      city_slug  \\\n",
       "0           0    temporary-rent           villa          karaj   \n",
       "1           1  residential-sell  apartment-sell         tehran   \n",
       "2           2  residential-rent  apartment-rent         tehran   \n",
       "3           3   commercial-rent     office-rent         tehran   \n",
       "4           4  residential-sell  apartment-sell        mashhad   \n",
       "5           5  residential-rent  apartment-rent          ahvaz   \n",
       "6           6   commercial-rent     office-rent     kermanshah   \n",
       "7           7  residential-sell  apartment-sell         tehran   \n",
       "8           8  residential-sell  apartment-sell  mahdasht-city   \n",
       "9           9  residential-sell  apartment-sell        mashhad   \n",
       "\n",
       "  neighborhood_slug     created_at_month    user_type  \\\n",
       "0         mehrshahr  2024-08-01 00:00:00  مشاور املاک   \n",
       "1           gholhak  2024-05-01 00:00:00  مشاور املاک   \n",
       "2             tohid  2024-10-01 00:00:00          NaN   \n",
       "3          elahiyeh  2024-06-01 00:00:00          NaN   \n",
       "4          emamreza  2024-05-01 00:00:00  مشاور املاک   \n",
       "5          mellirah  2024-09-01 00:00:00          NaN   \n",
       "6               NaN  2024-11-01 00:00:00          NaN   \n",
       "7          dardasht  2024-09-01 00:00:00  مشاور املاک   \n",
       "8               NaN  2024-06-01 00:00:00  مشاور املاک   \n",
       "9    faramarzabbasi  2024-10-01 00:00:00          NaN   \n",
       "\n",
       "                                         description  \\\n",
       "0  ۵۰۰متر\\n۲۰۰متر بنا دوبلکس\\n۳خواب\\nاستخر آبگرم ...   \n",
       "1  دسترسی عالی به مترو و شریعتی \\nمشاعات تمیز \\nب...   \n",
       "2                                    تخلیه پایان ماه   \n",
       "3  فرشته تاپ لوکیشن\\n۹۰ متر موقعیت اداری\\nیک اتاق...   \n",
       "4  هلدینگ ساختمانی اکبری\\n\\nهمراه شما هستیم برای ...   \n",
       "5  اپارتمان ۱۰۰متری واحد جلو دارای دو اتاق خواب ک...   \n",
       "6  ♦مشاورین املاک سیب♦\\n✅️کد:G۱۰۵\\n♦با سالها سابق...   \n",
       "7  ♡♡♡♡♡♡بنام خدا♡♡♡♡♡♡\\n♡♡♡عرض ادب واحترام♡♡♡\\n♡...   \n",
       "8  با سلام\\n\\nاملاک بزرگ اتحاد با ۲شعبه فعال با ف...   \n",
       "9  اول رسالت فرد  نزدیک به حاشیه فرامرز .. ساکنین...   \n",
       "\n",
       "                                              title rent_mode  ...  \\\n",
       "0  باغ ویلا اجاره روزانه استخر داخل لشکرآباد سهیلیه       NaN  ...   \n",
       "1                           ۶۰ متر قلهک فول امکانات       NaN  ...   \n",
       "2                          آپارتمان ۳ خوابه ۱۳۲ متر     مقطوع  ...   \n",
       "3           فرشته ۹۰ متر دفتر کار مدرن موقعیت اداری     مقطوع  ...   \n",
       "4                  ۱۱۵ متری/شمالی رو به آفتاب/اکبری       NaN  ...   \n",
       "5                 اپارتمان ۱۰۰متری ملی راه واحد جلو     مقطوع  ...   \n",
       "6                      واحداداری ۸۰متری ۲۲بهمن(برق)     مقطوع  ...   \n",
       "7          اپارتمان ۱۰۰متری طبقه۳و۴ فول دردشت شمالی       NaN  ...   \n",
       "8      ۷۸متری دوبحرنورگیر بازسازی شده شیک سندتک برگ       NaN  ...   \n",
       "9                   متراژ ۸۰ متر فرامرز نزدیک حاشیه       NaN  ...   \n",
       "\n",
       "   property_type regular_person_capacity extra_person_capacity  \\\n",
       "0            NaN                     4.0                     6   \n",
       "1            NaN                     NaN                   NaN   \n",
       "2            NaN                     NaN                   NaN   \n",
       "3            NaN                     NaN                   NaN   \n",
       "4            NaN                     NaN                   NaN   \n",
       "5            NaN                     NaN                   NaN   \n",
       "6            NaN                     NaN                   NaN   \n",
       "7            NaN                     NaN                   NaN   \n",
       "8            NaN                     NaN                   NaN   \n",
       "9            NaN                     NaN                   NaN   \n",
       "\n",
       "  cost_per_extra_person  rent_price_on_regular_days  \\\n",
       "0              350000.0                   1500000.0   \n",
       "1                   NaN                         NaN   \n",
       "2                   NaN                         NaN   \n",
       "3                   NaN                         NaN   \n",
       "4                   NaN                         NaN   \n",
       "5                   NaN                         NaN   \n",
       "6                   NaN                         NaN   \n",
       "7                   NaN                         NaN   \n",
       "8                   NaN                         NaN   \n",
       "9                   NaN                         NaN   \n",
       "\n",
       "  rent_price_on_special_days  rent_price_at_weekends location_latitude  \\\n",
       "0               3.500000e+09               3500000.0         35.811684   \n",
       "1                        NaN                     NaN               NaN   \n",
       "2                        NaN                     NaN         35.703865   \n",
       "3                        NaN                     NaN               NaN   \n",
       "4                        NaN                     NaN               NaN   \n",
       "5                        NaN                     NaN               NaN   \n",
       "6                        NaN                     NaN               NaN   \n",
       "7                        NaN                     NaN         35.729832   \n",
       "8                        NaN                     NaN         35.712364   \n",
       "9                        NaN                     NaN               NaN   \n",
       "\n",
       "  location_longitude  location_radius  \n",
       "0          50.936600            500.0  \n",
       "1                NaN            500.0  \n",
       "2          51.373459              NaN  \n",
       "3                NaN              NaN  \n",
       "4                NaN              NaN  \n",
       "5                NaN              NaN  \n",
       "6                NaN              NaN  \n",
       "7          51.505466            500.0  \n",
       "8          50.794781            500.0  \n",
       "9                NaN              NaN  \n",
       "\n",
       "[10 rows x 61 columns]"
      ]
     },
     "execution_count": 43,
     "metadata": {},
     "output_type": "execute_result"
    }
   ],
   "source": [
    "df.head(10)"
   ]
  },
  {
   "cell_type": "code",
   "execution_count": 47,
   "id": "d1c09278-2575-49e4-a220-254b8ef61d77",
   "metadata": {},
   "outputs": [
    {
     "name": "stderr",
     "output_type": "stream",
     "text": [
      "C:\\Users\\rezaei\\AppData\\Local\\Temp\\ipykernel_11368\\1608940251.py:1: SettingWithCopyWarning: \n",
      "A value is trying to be set on a copy of a slice from a DataFrame.\n",
      "Try using .loc[row_indexer,col_indexer] = value instead\n",
      "\n",
      "See the caveats in the documentation: https://pandas.pydata.org/pandas-docs/stable/user_guide/indexing.html#returning-a-view-versus-a-copy\n",
      "  df1[\"cat3_slug\"] = df1[\"cat3_slug\"].fillna(\"industry-agriculture-business-rent\")\n"
     ]
    }
   ],
   "source": [
    "df1[\"cat3_slug\"] = df1[\"cat3_slug\"].fillna(\"industry-agriculture-business-rent\")\n"
   ]
  },
  {
   "cell_type": "code",
   "execution_count": 49,
   "id": "d755d4b2-d294-49d2-b581-d872a7c43ac2",
   "metadata": {},
   "outputs": [
    {
     "name": "stdout",
     "output_type": "stream",
     "text": [
      "<class 'pandas.core.frame.DataFrame'>\n",
      "RangeIndex: 1000000 entries, 0 to 999999\n",
      "Data columns (total 2 columns):\n",
      " #   Column     Non-Null Count    Dtype \n",
      "---  ------     --------------    ----- \n",
      " 0   cat2_slug  1000000 non-null  object\n",
      " 1   cat3_slug  1000000 non-null  object\n",
      "dtypes: object(2)\n",
      "memory usage: 15.3+ MB\n"
     ]
    }
   ],
   "source": [
    "df1.info()"
   ]
  },
  {
   "cell_type": "code",
   "execution_count": 55,
   "id": "b7a8b8f7-ecf8-476b-a978-2ddc4ca60dae",
   "metadata": {},
   "outputs": [
    {
     "data": {
      "text/plain": [
       "<Axes: xlabel='cat3_slug'>"
      ]
     },
     "execution_count": 55,
     "metadata": {},
     "output_type": "execute_result"
    },
    {
     "data": {
      "image/png": "[encoded data removed]",
      "text/plain": [
       "<Figure size 640x480 with 1 Axes>"
      ]
     },
     "metadata": {},
     "output_type": "display_data"
    }
   ],
   "source": [
    "import matplotlib.pyplot as plt\n",
    "df1['cat3_slug'].value_counts().plot(kind='bar')"
   ]
  },
  {
   "cell_type": "code",
   "execution_count": 57,
   "id": "2b0a0421-d6e9-4e24-bee4-3ccff1a6a518",
   "metadata": {},
   "outputs": [
    {
     "data": {
      "text/plain": [
       "<Axes: xlabel='cat2_slug'>"
      ]
     },
     "execution_count": 57,
     "metadata": {},
     "output_type": "execute_result"
    },
    {
     "data": {
      "image/png": "[encoded data removed]",
      "text/plain": [
       "<Figure size 640x480 with 1 Axes>"
      ]
     },
     "metadata": {},
     "output_type": "display_data"
    }
   ],
   "source": [
    "df1['cat2_slug'].value_counts().plot(kind='bar')"
   ]
  },
  {
   "cell_type": "code",
   "execution_count": 61,
   "id": "4abb896d-ee5b-4db5-8cb6-dc10e59aba41",
   "metadata": {},
   "outputs": [
    {
     "data": {
      "image/png": "[encoded data removed]",
      "text/plain": [
       "<Figure size 1800x600 with 2 Axes>"
      ]
     },
     "metadata": {},
     "output_type": "display_data"
    }
   ],
   "source": [
    "figs, axes  = plt.subplots(1, 2, figsize=(18, 6))\n",
    "df1['cat2_slug'].value_counts().plot(kind='bar', ax=axes[0])\n",
    "df1['cat3_slug'].value_counts().plot(kind='bar', ax=axes[1])\n",
    "plt.show()"
   ]
  },
  {
   "cell_type": "markdown",
   "id": "08466857-f581-476d-99bc-24903b813b8d",
   "metadata": {},
   "source": [
    "# Part 2"
   ]
  },
  {
   "cell_type": "code",
   "execution_count": 71,
   "id": "e416da0f-3ff4-4299-b1b3-e906c5082a8f",
   "metadata": {},
   "outputs": [
    {
     "name": "stdout",
     "output_type": "stream",
     "text": [
      "<class 'pandas.core.frame.DataFrame'>\n",
      "RangeIndex: 1000000 entries, 0 to 999999\n",
      "Data columns (total 61 columns):\n",
      " #   Column                      Non-Null Count    Dtype  \n",
      "---  ------                      --------------    -----  \n",
      " 0   Unnamed: 0                  1000000 non-null  int64  \n",
      " 1   cat2_slug                   1000000 non-null  object \n",
      " 2   cat3_slug                   999999 non-null   object \n",
      " 3   city_slug                   999998 non-null   object \n",
      " 4   neighborhood_slug           437139 non-null   object \n",
      " 5   created_at_month            1000000 non-null  object \n",
      " 6   user_type                   288882 non-null   object \n",
      " 7   description                 1000000 non-null  object \n",
      " 8   title                       999946 non-null   object \n",
      " 9   rent_mode                   352994 non-null   object \n",
      " 10  rent_value                  351322 non-null   float64\n",
      " 11  rent_to_single              19 non-null       object \n",
      " 12  rent_type                   103961 non-null   object \n",
      " 13  price_mode                  573606 non-null   object \n",
      " 14  price_value                 568346 non-null   float64\n",
      " 15  credit_mode                 352994 non-null   object \n",
      " 16  credit_value                352095 non-null   float64\n",
      " 17  rent_credit_transform       352985 non-null   object \n",
      " 18  transformable_price         352894 non-null   object \n",
      " 19  transformable_credit        352085 non-null   float64\n",
      " 20  transformed_credit          72409 non-null    float64\n",
      " 21  transformable_rent          351248 non-null   float64\n",
      " 22  transformed_rent            72409 non-null    float64\n",
      " 23  land_size                   186396 non-null   float64\n",
      " 24  building_size               980394 non-null   float64\n",
      " 25  deed_type                   253458 non-null   object \n",
      " 26  has_business_deed           34679 non-null    object \n",
      " 27  floor                       541748 non-null   object \n",
      " 28  rooms_count                 845899 non-null   object \n",
      " 29  total_floors_count          304352 non-null   object \n",
      " 30  unit_per_floor              302283 non-null   object \n",
      " 31  has_balcony                 506411 non-null   object \n",
      " 32  has_elevator                541749 non-null   object \n",
      " 33  has_warehouse               728155 non-null   object \n",
      " 34  has_parking                 728156 non-null   object \n",
      " 35  construction_year           815828 non-null   object \n",
      " 36  is_rebuilt                  529470 non-null   object \n",
      " 37  has_water                   33444 non-null    object \n",
      " 38  has_warm_water_provider     379500 non-null   object \n",
      " 39  has_electricity             33445 non-null    object \n",
      " 40  has_gas                     33430 non-null    object \n",
      " 41  has_heating_system          368969 non-null   object \n",
      " 42  has_cooling_system          350619 non-null   object \n",
      " 43  has_restroom                406913 non-null   object \n",
      " 44  has_security_guard          31312 non-null    object \n",
      " 45  has_barbecue                31198 non-null    object \n",
      " 46  building_direction          323923 non-null   object \n",
      " 47  has_pool                    29390 non-null    object \n",
      " 48  has_jacuzzi                 28728 non-null    object \n",
      " 49  has_sauna                   28479 non-null    object \n",
      " 50  floor_material              405984 non-null   object \n",
      " 51  property_type               27057 non-null    object \n",
      " 52  regular_person_capacity     29870 non-null    float64\n",
      " 53  extra_person_capacity       24009 non-null    object \n",
      " 54  cost_per_extra_person       10241 non-null    float64\n",
      " 55  rent_price_on_regular_days  18068 non-null    float64\n",
      " 56  rent_price_on_special_days  10463 non-null    float64\n",
      " 57  rent_price_at_weekends      13551 non-null    float64\n",
      " 58  location_latitude           655608 non-null   float64\n",
      " 59  location_longitude          655608 non-null   float64\n",
      " 60  location_radius             339699 non-null   float64\n",
      "dtypes: float64(17), int64(1), object(43)\n",
      "memory usage: 465.4+ MB\n"
     ]
    }
   ],
   "source": [
    "df.info()"
   ]
  },
  {
   "cell_type": "code",
   "execution_count": 77,
   "id": "70b8f9a8-9373-4fb6-8aa3-b118b81f40e9",
   "metadata": {},
   "outputs": [
    {
     "data": {
      "text/html": [
       "<div>\n",
       "<style scoped>\n",
       "    .dataframe tbody tr th:only-of-type {\n",
       "        vertical-align: middle;\n",
       "    }\n",
       "\n",
       "    .dataframe tbody tr th {\n",
       "        vertical-align: top;\n",
       "    }\n",
       "\n",
       "    .dataframe thead th {\n",
       "        text-align: right;\n",
       "    }\n",
       "</style>\n",
       "<table border=\"1\" class=\"dataframe\">\n",
       "  <thead>\n",
       "    <tr style=\"text-align: right;\">\n",
       "      <th></th>\n",
       "      <th>construction_year</th>\n",
       "      <th>is_rebuilt</th>\n",
       "    </tr>\n",
       "  </thead>\n",
       "  <tbody>\n",
       "    <tr>\n",
       "      <th>0</th>\n",
       "      <td>NaN</td>\n",
       "      <td>NaN</td>\n",
       "    </tr>\n",
       "    <tr>\n",
       "      <th>1</th>\n",
       "      <td>۱۳۸۴</td>\n",
       "      <td>NaN</td>\n",
       "    </tr>\n",
       "    <tr>\n",
       "      <th>2</th>\n",
       "      <td>۱۴۰۱</td>\n",
       "      <td>False</td>\n",
       "    </tr>\n",
       "    <tr>\n",
       "      <th>3</th>\n",
       "      <td>۱۴۰۰</td>\n",
       "      <td>NaN</td>\n",
       "    </tr>\n",
       "    <tr>\n",
       "      <th>4</th>\n",
       "      <td>۱۴۰۳</td>\n",
       "      <td>NaN</td>\n",
       "    </tr>\n",
       "    <tr>\n",
       "      <th>5</th>\n",
       "      <td>۱۳۸۹</td>\n",
       "      <td>False</td>\n",
       "    </tr>\n",
       "    <tr>\n",
       "      <th>6</th>\n",
       "      <td>۱۳۹۵</td>\n",
       "      <td>NaN</td>\n",
       "    </tr>\n",
       "    <tr>\n",
       "      <th>7</th>\n",
       "      <td>۱۳۹۳</td>\n",
       "      <td>NaN</td>\n",
       "    </tr>\n",
       "    <tr>\n",
       "      <th>8</th>\n",
       "      <td>۱۳۹۶</td>\n",
       "      <td>True</td>\n",
       "    </tr>\n",
       "    <tr>\n",
       "      <th>9</th>\n",
       "      <td>۱۳۸۷</td>\n",
       "      <td>False</td>\n",
       "    </tr>\n",
       "    <tr>\n",
       "      <th>10</th>\n",
       "      <td>۱۴۰۳</td>\n",
       "      <td>True</td>\n",
       "    </tr>\n",
       "    <tr>\n",
       "      <th>11</th>\n",
       "      <td>۱۳۸۵</td>\n",
       "      <td>True</td>\n",
       "    </tr>\n",
       "    <tr>\n",
       "      <th>12</th>\n",
       "      <td>۱۴۰۳</td>\n",
       "      <td>False</td>\n",
       "    </tr>\n",
       "    <tr>\n",
       "      <th>13</th>\n",
       "      <td>۱۴۰۰</td>\n",
       "      <td>NaN</td>\n",
       "    </tr>\n",
       "    <tr>\n",
       "      <th>14</th>\n",
       "      <td>NaN</td>\n",
       "      <td>NaN</td>\n",
       "    </tr>\n",
       "    <tr>\n",
       "      <th>15</th>\n",
       "      <td>۱۳۹۰</td>\n",
       "      <td>NaN</td>\n",
       "    </tr>\n",
       "    <tr>\n",
       "      <th>16</th>\n",
       "      <td>NaN</td>\n",
       "      <td>NaN</td>\n",
       "    </tr>\n",
       "    <tr>\n",
       "      <th>17</th>\n",
       "      <td>۱۳۹۸</td>\n",
       "      <td>NaN</td>\n",
       "    </tr>\n",
       "    <tr>\n",
       "      <th>18</th>\n",
       "      <td>۱۳۹۰</td>\n",
       "      <td>NaN</td>\n",
       "    </tr>\n",
       "    <tr>\n",
       "      <th>19</th>\n",
       "      <td>NaN</td>\n",
       "      <td>NaN</td>\n",
       "    </tr>\n",
       "  </tbody>\n",
       "</table>\n",
       "</div>"
      ],
      "text/plain": [
       "   construction_year is_rebuilt\n",
       "0                NaN        NaN\n",
       "1               ۱۳۸۴        NaN\n",
       "2               ۱۴۰۱      False\n",
       "3               ۱۴۰۰        NaN\n",
       "4               ۱۴۰۳        NaN\n",
       "5               ۱۳۸۹      False\n",
       "6               ۱۳۹۵        NaN\n",
       "7               ۱۳۹۳        NaN\n",
       "8               ۱۳۹۶       True\n",
       "9               ۱۳۸۷      False\n",
       "10              ۱۴۰۳       True\n",
       "11              ۱۳۸۵       True\n",
       "12              ۱۴۰۳      False\n",
       "13              ۱۴۰۰        NaN\n",
       "14               NaN        NaN\n",
       "15              ۱۳۹۰        NaN\n",
       "16               NaN        NaN\n",
       "17              ۱۳۹۸        NaN\n",
       "18              ۱۳۹۰        NaN\n",
       "19               NaN        NaN"
      ]
     },
     "execution_count": 77,
     "metadata": {},
     "output_type": "execute_result"
    }
   ],
   "source": [
    "df[['construction_year','is_rebuilt']].head(20)"
   ]
  },
  {
   "cell_type": "code",
   "execution_count": 89,
   "id": "b74c665f-b0f9-4777-b0d9-41ef35f279b3",
   "metadata": {},
   "outputs": [
    {
     "data": {
      "text/plain": [
       "184172"
      ]
     },
     "execution_count": 89,
     "metadata": {},
     "output_type": "execute_result"
    }
   ],
   "source": [
    "df['construction_year'].isna().sum()"
   ]
  },
  {
   "cell_type": "code",
   "execution_count": 177,
   "id": "a41fc86a-eed9-4f6e-aa17-267a143c4f3b",
   "metadata": {},
   "outputs": [],
   "source": [
    "df2 = df.copy()"
   ]
  },
  {
   "cell_type": "code",
   "execution_count": 179,
   "id": "653298a7-5fb3-4af6-b901-e31b310657d4",
   "metadata": {},
   "outputs": [],
   "source": [
    "df2 = df2.dropna(subset='construction_year')"
   ]
  },
  {
   "cell_type": "code",
   "execution_count": 181,
   "id": "64325f5a-4be9-4378-9a75-7aec41ba9e35",
   "metadata": {},
   "outputs": [
    {
     "data": {
      "text/plain": [
       "0"
      ]
     },
     "execution_count": 181,
     "metadata": {},
     "output_type": "execute_result"
    }
   ],
   "source": [
    "df2['construction_year'].isna().sum()"
   ]
  },
  {
   "cell_type": "code",
   "execution_count": 183,
   "id": "b1fff18c-0fa9-4f1f-890f-3027270eafd3",
   "metadata": {},
   "outputs": [
    {
     "data": {
      "text/plain": [
       "construction_year\n",
       "۱۴۰۳           116260\n",
       "۱۳۹۰            59139\n",
       "۱۴۰۲            58424\n",
       "۱۴۰۰            53674\n",
       "۱۳۹۵            53029\n",
       "۱۳۹۸            38207\n",
       "۱۳۹۷            36326\n",
       "۱۳۹۶            35487\n",
       "۱۴۰۱            35328\n",
       "۱۳۸۵            34065\n",
       "۱۳۹۹            29594\n",
       "۱۳۹۳            29094\n",
       "۱۳۹۲            26130\n",
       "۱۳۹۴            26110\n",
       "۱۳۸۸            24268\n",
       "۱۳۸۰            23480\n",
       "قبل از ۱۳۷۰     20637\n",
       "۱۳۸۹            16755\n",
       "۱۳۹۱            16316\n",
       "۱۳۸۷            14136\n",
       "۱۳۸۶            13468\n",
       "۱۳۸۳             9894\n",
       "۱۳۸۴             8494\n",
       "۱۳۷۵             7247\n",
       "۱۳۸۲             6965\n",
       "۱۳۷۱             5531\n",
       "۱۳۸۱             3590\n",
       "۱۳۷۸             3025\n",
       "۱۳۷۹             2415\n",
       "۱۳۷۷             2117\n",
       "۱۳۷۲             1914\n",
       "۱۳۷۳             1827\n",
       "۱۳۷۶             1593\n",
       "۱۳۷۴             1289\n",
       "Name: count, dtype: int64"
      ]
     },
     "execution_count": 183,
     "metadata": {},
     "output_type": "execute_result"
    }
   ],
   "source": [
    "df2['construction_year'].value_counts()"
   ]
  },
  {
   "cell_type": "code",
   "execution_count": 185,
   "id": "293088c1-0779-43f8-8be7-b85bc8c4b346",
   "metadata": {},
   "outputs": [
    {
     "data": {
      "text/plain": [
       "dtype('O')"
      ]
     },
     "execution_count": 185,
     "metadata": {},
     "output_type": "execute_result"
    }
   ],
   "source": [
    "df2['construction_year'].dtype"
   ]
  },
  {
   "cell_type": "code",
   "execution_count": 187,
   "id": "f5b40368-89e8-4d3e-9ffc-119cc668719c",
   "metadata": {},
   "outputs": [],
   "source": [
    "persian_to_english = str.maketrans(\"۰۱۲۳۴۵۶۷۸۹\", \"0123456789\")\n",
    "def convert(x):\n",
    "    if 'قبل' in str(x):\n",
    "        return 1365\n",
    "    return int(str(x).translate(persian_to_english))\n",
    "        "
   ]
  },
  {
   "cell_type": "code",
   "execution_count": 189,
   "id": "a962ecb2-8d73-456d-a9e9-11b9ed847283",
   "metadata": {},
   "outputs": [
    {
     "data": {
      "text/plain": [
       "dtype('int64')"
      ]
     },
     "execution_count": 189,
     "metadata": {},
     "output_type": "execute_result"
    }
   ],
   "source": [
    "df2['construction_year'] = df2['construction_year'].apply(convert)\n",
    "df2['construction_year'].dtype\n"
   ]
  },
  {
   "cell_type": "code",
   "execution_count": 191,
   "id": "a4011dc7-3348-435d-99af-c732215414e1",
   "metadata": {},
   "outputs": [
    {
     "data": {
      "text/plain": [
       "construction_year\n",
       "1403    116260\n",
       "1390     59139\n",
       "1402     58424\n",
       "1400     53674\n",
       "1395     53029\n",
       "1398     38207\n",
       "1397     36326\n",
       "1396     35487\n",
       "1401     35328\n",
       "1385     34065\n",
       "1399     29594\n",
       "1393     29094\n",
       "1392     26130\n",
       "1394     26110\n",
       "1388     24268\n",
       "1380     23480\n",
       "1365     20637\n",
       "1389     16755\n",
       "1391     16316\n",
       "1387     14136\n",
       "1386     13468\n",
       "1383      9894\n",
       "1384      8494\n",
       "1375      7247\n",
       "1382      6965\n",
       "1371      5531\n",
       "1381      3590\n",
       "1378      3025\n",
       "1379      2415\n",
       "1377      2117\n",
       "1372      1914\n",
       "1373      1827\n",
       "1376      1593\n",
       "1374      1289\n",
       "Name: count, dtype: int64"
      ]
     },
     "execution_count": 191,
     "metadata": {},
     "output_type": "execute_result"
    }
   ],
   "source": [
    "df2['construction_year'].value_counts()"
   ]
  },
  {
   "cell_type": "code",
   "execution_count": 193,
   "id": "bb6031b0-9d94-462e-bcf4-2a8a02472efb",
   "metadata": {},
   "outputs": [
    {
     "data": {
      "text/plain": [
       "year_group\n",
       "1400    263686\n",
       "1395    192643\n",
       "1390    156789\n",
       "1385    102692\n",
       "1380     52423\n",
       "1365     20637\n",
       "1375     16397\n",
       "1370     10561\n",
       "Name: count, dtype: int64"
      ]
     },
     "execution_count": 193,
     "metadata": {},
     "output_type": "execute_result"
    }
   ],
   "source": [
    "df2['year_group'] = (df2['construction_year'] // 5) * 5\n",
    "df2['year_group'].value_counts()"
   ]
  },
  {
   "cell_type": "code",
   "execution_count": 219,
   "id": "103e9695-dc7f-4173-8602-04996dc064c5",
   "metadata": {},
   "outputs": [
    {
     "data": {
      "image/png": "[encoded data removed]",
      "text/plain": [
       "<Figure size 800x600 with 1 Axes>"
      ]
     },
     "metadata": {},
     "output_type": "display_data"
    }
   ],
   "source": [
    "df2['year_group'].hist(bins=8, figsize=(8,6))\n",
    "plt.show()"
   ]
  },
  {
   "cell_type": "code",
   "execution_count": 223,
   "id": "8b3c160c-ee6c-45d5-8476-68da61b01a26",
   "metadata": {},
   "outputs": [
    {
     "data": {
      "image/png": "[encoded data removed]",
      "text/plain": [
       "<Figure size 800x600 with 1 Axes>"
      ]
     },
     "metadata": {},
     "output_type": "display_data"
    }
   ],
   "source": [
    "df2[\"year_group\"].plot(kind=\"hist\", bins=8, figsize=(8,6))\n",
    "plt.show()"
   ]
  },
  {
   "cell_type": "code",
   "execution_count": 5,
   "id": "8394107f-1f27-4186-8a65-e0d1e9c7ed9f",
   "metadata": {},
   "outputs": [
    {
     "ename": "NameError",
     "evalue": "name 'df1' is not defined",
     "output_type": "error",
     "traceback": [
      "\u001b[1;31m---------------------------------------------------------------------------\u001b[0m",
      "\u001b[1;31mNameError\u001b[0m                                 Traceback (most recent call last)",
      "Cell \u001b[1;32mIn[5], line 1\u001b[0m\n\u001b[1;32m----> 1\u001b[0m df1\n",
      "\u001b[1;31mNameError\u001b[0m: name 'df1' is not defined"
     ]
    }
   ],
   "source": [
    "\n"
   ]
  },
  {
   "cell_type": "code",
   "execution_count": null,
   "id": "be7bc819-b8ea-4d94-831d-4bfef316094f",
   "metadata": {},
   "outputs": [],
   "source": []
  }
 ],
 "metadata": {
  "kernelspec": {
   "display_name": "Python [conda env:base] *",
   "language": "python",
   "name": "conda-base-py"
  },
  "language_info": {
   "codemirror_mode": {
    "name": "ipython",
    "version": 3
   },
   "file_extension": ".py",
   "mimetype": "text/x-python",
   "name": "python",
   "nbconvert_exporter": "python",
   "pygments_lexer": "ipython3",
   "version": "3.12.4"
  }
 },
 "nbformat": 4,
 "nbformat_minor": 5
}
